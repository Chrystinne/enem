{
 "cells": [
  {
   "cell_type": "code",
   "execution_count": 1,
   "metadata": {},
   "outputs": [],
   "source": [
    "from glob import glob\n",
    "from itertools import islice\n",
    "import os"
   ]
  },
  {
   "cell_type": "code",
   "execution_count": 2,
   "metadata": {},
   "outputs": [
    {
     "data": {
      "text/plain": [
       "['../datasets/microdados_anos\\\\MICRODADOS_ENEM_2015.csv',\n",
       " '../datasets/microdados_anos\\\\MICRODADOS_ENEM_2016.csv',\n",
       " '../datasets/microdados_anos\\\\MICRODADOS_ENEM_2017.csv',\n",
       " '../datasets/microdados_anos\\\\MICRODADOS_ENEM_2018.csv',\n",
       " '../datasets/microdados_anos\\\\MICRODADOS_ENEM_2019.csv',\n",
       " '../datasets/microdados_anos\\\\MICRODADOS_ENEM_2020.csv']"
      ]
     },
     "execution_count": 2,
     "metadata": {},
     "output_type": "execute_result"
    }
   ],
   "source": [
    "\n",
    "files = glob('../datasets/microdados_anos/*')\n",
    "files"
   ]
  },
  {
   "cell_type": "code",
   "execution_count": 3,
   "metadata": {},
   "outputs": [
    {
     "data": {
      "text/plain": [
       "'../datasets/microdados_anos_test'"
      ]
     },
     "execution_count": 3,
     "metadata": {},
     "output_type": "execute_result"
    }
   ],
   "source": [
    "output = glob('../datasets/microdados_anos_test')[0]\n",
    "output"
   ]
  },
  {
   "cell_type": "markdown",
   "metadata": {},
   "source": [
    "## Getting the first N_ROWS of the dataset files"
   ]
  },
  {
   "cell_type": "code",
   "execution_count": 4,
   "metadata": {},
   "outputs": [],
   "source": [
    "N_ROWS = 1000\n",
    "for file in files:\n",
    "    file_out = open(f'{output}/{file.split(os.sep)[-1]}', 'w', encoding='cp1252')\n",
    "    with open(file, \"r\", encoding='cp1252') as input:\n",
    "        for i in range(N_ROWS):\n",
    "            file_out.write(next(input))\n",
    "        file_out.close()"
   ]
  },
  {
   "cell_type": "code",
   "execution_count": null,
   "metadata": {},
   "outputs": [],
   "source": []
  }
 ],
 "metadata": {
  "interpreter": {
   "hash": "4c563a71a349aaf00bb2375d92d2e18585dea052c539293b1972e2ded7de1014"
  },
  "kernelspec": {
   "display_name": "Python 3.8.0 ('enem2')",
   "language": "python",
   "name": "python3"
  },
  "language_info": {
   "codemirror_mode": {
    "name": "ipython",
    "version": 3
   },
   "file_extension": ".py",
   "mimetype": "text/x-python",
   "name": "python",
   "nbconvert_exporter": "python",
   "pygments_lexer": "ipython3",
   "version": "3.8.0"
  },
  "orig_nbformat": 4
 },
 "nbformat": 4,
 "nbformat_minor": 2
}
