{
 "cells": [
  {
   "cell_type": "markdown",
   "id": "71763155",
   "metadata": {},
   "source": [
    "### Analysis of factors that affect student's quality of academic performance"
   ]
  },
  {
   "cell_type": "markdown",
   "id": "2e43c83b",
   "metadata": {},
   "source": [
    "1- Age\n",
    "2- Gender\n",
    "3 - Geographical belongingness\n",
    "4 - Ethnicity\n",
    "5 - Marital status\n",
    "6 - socioeconomic status (SES)\n",
    "7 - parents’ education level\n",
    "8 - parental profession\n",
    "9 - language\n",
    "10 - income\n",
    "11 - religious affiliations\n"
   ]
  },
  {
   "cell_type": "markdown",
   "id": "dd9658bb",
   "metadata": {},
   "source": [
    "# Importação das bibliotecas"
   ]
  },
  {
   "cell_type": "code",
   "execution_count": 70,
   "id": "b439a0b9",
   "metadata": {},
   "outputs": [],
   "source": [
    "import pandas as pd\n",
    "import numpy as np\n",
    "import matplotlib.pyplot as plt\n",
    "import seaborn as sns\n",
    "import locale\n",
    "import dask.dataframe as dd\n",
    "from utils import load_parquets, info_sum_isna\n",
    "from scipy.stats import ranksums\n",
    "from scipy import stats"
   ]
  },
  {
   "cell_type": "markdown",
   "id": "457cc9d7",
   "metadata": {},
   "source": [
    "# Carregando os dados"
   ]
  },
  {
   "cell_type": "markdown",
   "id": "964efe68",
   "metadata": {},
   "source": [
    "### Dataset information:\n",
    "\n"
   ]
  },
  {
   "cell_type": "code",
   "execution_count": 71,
   "id": "24584bb5",
   "metadata": {},
   "outputs": [],
   "source": [
    "year = 2018\n",
    "path = f'../datasets/integrated_datas_{year}.parquet.gzip'\n",
    "data = dd.read_parquet(path, ignore_metadata_file=True)"
   ]
  },
  {
   "cell_type": "markdown",
   "id": "d4a6d609",
   "metadata": {},
   "source": [
    "<!-- Testing normal distribution for grades for all Brazilian states to decide which statistical test would be suitable -->"
   ]
  },
  {
   "cell_type": "code",
   "execution_count": 72,
   "id": "d2478ec6",
   "metadata": {},
   "outputs": [],
   "source": [
    "# def ploting_distribution_female_male_per_state(state, course):\n",
    "#     dataset_women = mulher_2020[mulher_2020['SG_UF_RESIDENCIA'] == state]\n",
    "#     dataset_man = homem_2020[homem_2020['SG_UF_RESIDENCIA'] == state]\n",
    "#     fig, (ax1, ax2) = plt.subplots(ncols=2, sharey=True)\n",
    "#     ax1 = sns.histplot(dataset_women[course], ax=ax1).set(title=\"Math grades distribution 'W'\", xlabel='Math grades W', ylabel='density')\n",
    "#     ax2 = sns.histplot(dataset_man[course], ax=ax2).set(title=\"Math grades distribution 'M'\",  xlabel='Math grades M', ylabel='density')\n",
    "#     plt.show()"
   ]
  },
  {
   "cell_type": "markdown",
   "id": "138309ea",
   "metadata": {},
   "source": [
    "## Testes estatisticos para 3 variavies"
   ]
  },
  {
   "cell_type": "markdown",
   "id": "efa06a58",
   "metadata": {},
   "source": [
    "### 1. Marital status"
   ]
  },
  {
   "cell_type": "code",
   "execution_count": 73,
   "id": "a4d7a12b",
   "metadata": {},
   "outputs": [
    {
     "data": {
      "text/plain": [
       "Index(['NU_ANO', 'NO_MUNICIPIO_RESIDENCIA', 'SG_UF_RESIDENCIA', 'NU_IDADE',\n",
       "       'TP_SEXO', 'TP_ST_CONCLUSAO', 'TP_ANO_CONCLUIU', 'TP_ESCOLA',\n",
       "       'TP_ESTADO_CIVIL', 'TP_COR_RACA', 'TP_PRESENCA_CN', 'TP_PRESENCA_CH',\n",
       "       'TP_PRESENCA_LC', 'TP_PRESENCA_MT', 'NU_NOTA_CN', 'NU_NOTA_CH',\n",
       "       'NU_NOTA_LC', 'NU_NOTA_MT', 'NU_NOTA_COMP1', 'NU_NOTA_COMP2',\n",
       "       'NU_NOTA_COMP3', 'NU_NOTA_COMP4', 'NU_NOTA_COMP5', 'NU_NOTA_REDACAO',\n",
       "       'Q001', 'Q002', 'Q003', 'Q004', 'Q005', 'Q006', 'Q007', 'Q008', 'Q009',\n",
       "       'Q010', 'Q011', 'Q012', 'Q013', 'Q014', 'Q015', 'Q016', 'Q017', 'Q018',\n",
       "       'Q019', 'Q020', 'Q021', 'Q022', 'Q023', 'Q024', 'Q025', 'TP_SES_INCOME',\n",
       "       'TP_SES_POINTS'],\n",
       "      dtype='object')"
      ]
     },
     "execution_count": 73,
     "metadata": {},
     "output_type": "execute_result"
    }
   ],
   "source": [
    "data.columns"
   ]
  },
  {
   "cell_type": "code",
   "execution_count": 74,
   "id": "e4bb9eb4",
   "metadata": {},
   "outputs": [
    {
     "data": {
      "text/plain": [
       "0    3472320\n",
       "1     253315\n",
       "2      38114\n",
       "3       4252\n",
       "Name: TP_ESTADO_CIVIL, dtype: int64"
      ]
     },
     "execution_count": 74,
     "metadata": {},
     "output_type": "execute_result"
    }
   ],
   "source": [
    "data['TP_ESTADO_CIVIL'].value_counts().compute()"
   ]
  },
  {
   "cell_type": "code",
   "execution_count": 75,
   "id": "a24de8cd",
   "metadata": {},
   "outputs": [],
   "source": [
    "def replace_status(value):\n",
    "    if value == 1:\n",
    "        return \"Single\"\n",
    "    elif value == 2:\n",
    "        return \"Married\"\n",
    "    elif value == 3:\n",
    "        return \"Divorced/Separated\""
   ]
  },
  {
   "cell_type": "code",
   "execution_count": 76,
   "id": "61bdcb64",
   "metadata": {},
   "outputs": [],
   "source": [
    "data['TP_ESTADO_CIVIL'] = data.TP_ESTADO_CIVIL.apply(replace_status, meta=('TP_ESTADO_CIVIL', 'object'))\n"
   ]
  },
  {
   "cell_type": "code",
   "execution_count": 77,
   "id": "12210a8f",
   "metadata": {},
   "outputs": [
    {
     "data": {
      "text/plain": [
       "Single                253315\n",
       "Married                38114\n",
       "Divorced/Separated      4252\n",
       "Name: TP_ESTADO_CIVIL, dtype: int64"
      ]
     },
     "execution_count": 77,
     "metadata": {},
     "output_type": "execute_result"
    }
   ],
   "source": [
    "data['TP_ESTADO_CIVIL'].value_counts().compute()"
   ]
  },
  {
   "cell_type": "code",
   "execution_count": 78,
   "id": "68fdbf79",
   "metadata": {},
   "outputs": [],
   "source": [
    "# def replace_status(value):\n",
    "#     if value == 1:\n",
    "#         return \"Single\"\n",
    "#     elif value == 2:\n",
    "#         return \"Married\"\n",
    "#     elif value == 3:\n",
    "#         return \"Divorced/Separated\"\n",
    "\n",
    "# data['TP_ESTADO_CIVIL'] = data.TP_ESTADO_CIVIL.apply(replace_status, meta=('TP_ESTADO_CIVIL', 'object'))"
   ]
  },
  {
   "cell_type": "code",
   "execution_count": 79,
   "id": "1dee9c54",
   "metadata": {},
   "outputs": [],
   "source": [
    "single = data[(data['TP_ESTADO_CIVIL'] == 'Single')]\n",
    "married = data[(data['TP_ESTADO_CIVIL'] == 'Married')]\n",
    "divorced = data[(data['TP_ESTADO_CIVIL'] == 'Divorced/Separated')]\n",
    "# yellow = data[(data['TP_ESTADO_CIVIL'] == 'Yellow')]"
   ]
  },
  {
   "cell_type": "code",
   "execution_count": 80,
   "id": "968940d7",
   "metadata": {},
   "outputs": [
    {
     "data": {
      "text/html": [
       "<div><strong>Dask DataFrame Structure:</strong></div>\n",
       "<div>\n",
       "<style scoped>\n",
       "    .dataframe tbody tr th:only-of-type {\n",
       "        vertical-align: middle;\n",
       "    }\n",
       "\n",
       "    .dataframe tbody tr th {\n",
       "        vertical-align: top;\n",
       "    }\n",
       "\n",
       "    .dataframe thead th {\n",
       "        text-align: right;\n",
       "    }\n",
       "</style>\n",
       "<table border=\"1\" class=\"dataframe\">\n",
       "  <thead>\n",
       "    <tr style=\"text-align: right;\">\n",
       "      <th></th>\n",
       "      <th>NU_ANO</th>\n",
       "      <th>NO_MUNICIPIO_RESIDENCIA</th>\n",
       "      <th>SG_UF_RESIDENCIA</th>\n",
       "      <th>NU_IDADE</th>\n",
       "      <th>TP_SEXO</th>\n",
       "      <th>TP_ST_CONCLUSAO</th>\n",
       "      <th>TP_ANO_CONCLUIU</th>\n",
       "      <th>TP_ESCOLA</th>\n",
       "      <th>TP_ESTADO_CIVIL</th>\n",
       "      <th>TP_COR_RACA</th>\n",
       "      <th>TP_PRESENCA_CN</th>\n",
       "      <th>TP_PRESENCA_CH</th>\n",
       "      <th>TP_PRESENCA_LC</th>\n",
       "      <th>TP_PRESENCA_MT</th>\n",
       "      <th>NU_NOTA_CN</th>\n",
       "      <th>NU_NOTA_CH</th>\n",
       "      <th>NU_NOTA_LC</th>\n",
       "      <th>NU_NOTA_MT</th>\n",
       "      <th>NU_NOTA_COMP1</th>\n",
       "      <th>NU_NOTA_COMP2</th>\n",
       "      <th>NU_NOTA_COMP3</th>\n",
       "      <th>NU_NOTA_COMP4</th>\n",
       "      <th>NU_NOTA_COMP5</th>\n",
       "      <th>NU_NOTA_REDACAO</th>\n",
       "      <th>Q001</th>\n",
       "      <th>Q002</th>\n",
       "      <th>Q003</th>\n",
       "      <th>Q004</th>\n",
       "      <th>Q005</th>\n",
       "      <th>Q006</th>\n",
       "      <th>Q007</th>\n",
       "      <th>Q008</th>\n",
       "      <th>Q009</th>\n",
       "      <th>Q010</th>\n",
       "      <th>Q011</th>\n",
       "      <th>Q012</th>\n",
       "      <th>Q013</th>\n",
       "      <th>Q014</th>\n",
       "      <th>Q015</th>\n",
       "      <th>Q016</th>\n",
       "      <th>Q017</th>\n",
       "      <th>Q018</th>\n",
       "      <th>Q019</th>\n",
       "      <th>Q020</th>\n",
       "      <th>Q021</th>\n",
       "      <th>Q022</th>\n",
       "      <th>Q023</th>\n",
       "      <th>Q024</th>\n",
       "      <th>Q025</th>\n",
       "      <th>TP_SES_INCOME</th>\n",
       "      <th>TP_SES_POINTS</th>\n",
       "    </tr>\n",
       "    <tr>\n",
       "      <th>npartitions=102</th>\n",
       "      <th></th>\n",
       "      <th></th>\n",
       "      <th></th>\n",
       "      <th></th>\n",
       "      <th></th>\n",
       "      <th></th>\n",
       "      <th></th>\n",
       "      <th></th>\n",
       "      <th></th>\n",
       "      <th></th>\n",
       "      <th></th>\n",
       "      <th></th>\n",
       "      <th></th>\n",
       "      <th></th>\n",
       "      <th></th>\n",
       "      <th></th>\n",
       "      <th></th>\n",
       "      <th></th>\n",
       "      <th></th>\n",
       "      <th></th>\n",
       "      <th></th>\n",
       "      <th></th>\n",
       "      <th></th>\n",
       "      <th></th>\n",
       "      <th></th>\n",
       "      <th></th>\n",
       "      <th></th>\n",
       "      <th></th>\n",
       "      <th></th>\n",
       "      <th></th>\n",
       "      <th></th>\n",
       "      <th></th>\n",
       "      <th></th>\n",
       "      <th></th>\n",
       "      <th></th>\n",
       "      <th></th>\n",
       "      <th></th>\n",
       "      <th></th>\n",
       "      <th></th>\n",
       "      <th></th>\n",
       "      <th></th>\n",
       "      <th></th>\n",
       "      <th></th>\n",
       "      <th></th>\n",
       "      <th></th>\n",
       "      <th></th>\n",
       "      <th></th>\n",
       "      <th></th>\n",
       "      <th></th>\n",
       "      <th></th>\n",
       "      <th></th>\n",
       "    </tr>\n",
       "  </thead>\n",
       "  <tbody>\n",
       "    <tr>\n",
       "      <th></th>\n",
       "      <td>int16</td>\n",
       "      <td>object</td>\n",
       "      <td>object</td>\n",
       "      <td>int16</td>\n",
       "      <td>object</td>\n",
       "      <td>int16</td>\n",
       "      <td>int16</td>\n",
       "      <td>int16</td>\n",
       "      <td>object</td>\n",
       "      <td>int16</td>\n",
       "      <td>int16</td>\n",
       "      <td>int16</td>\n",
       "      <td>int16</td>\n",
       "      <td>int16</td>\n",
       "      <td>float64</td>\n",
       "      <td>float64</td>\n",
       "      <td>float64</td>\n",
       "      <td>float64</td>\n",
       "      <td>float64</td>\n",
       "      <td>float64</td>\n",
       "      <td>float64</td>\n",
       "      <td>float64</td>\n",
       "      <td>float64</td>\n",
       "      <td>float64</td>\n",
       "      <td>object</td>\n",
       "      <td>object</td>\n",
       "      <td>object</td>\n",
       "      <td>object</td>\n",
       "      <td>int16</td>\n",
       "      <td>object</td>\n",
       "      <td>object</td>\n",
       "      <td>object</td>\n",
       "      <td>object</td>\n",
       "      <td>object</td>\n",
       "      <td>object</td>\n",
       "      <td>object</td>\n",
       "      <td>object</td>\n",
       "      <td>object</td>\n",
       "      <td>object</td>\n",
       "      <td>object</td>\n",
       "      <td>object</td>\n",
       "      <td>object</td>\n",
       "      <td>object</td>\n",
       "      <td>object</td>\n",
       "      <td>object</td>\n",
       "      <td>object</td>\n",
       "      <td>object</td>\n",
       "      <td>object</td>\n",
       "      <td>object</td>\n",
       "      <td>object</td>\n",
       "      <td>object</td>\n",
       "    </tr>\n",
       "    <tr>\n",
       "      <th></th>\n",
       "      <td>...</td>\n",
       "      <td>...</td>\n",
       "      <td>...</td>\n",
       "      <td>...</td>\n",
       "      <td>...</td>\n",
       "      <td>...</td>\n",
       "      <td>...</td>\n",
       "      <td>...</td>\n",
       "      <td>...</td>\n",
       "      <td>...</td>\n",
       "      <td>...</td>\n",
       "      <td>...</td>\n",
       "      <td>...</td>\n",
       "      <td>...</td>\n",
       "      <td>...</td>\n",
       "      <td>...</td>\n",
       "      <td>...</td>\n",
       "      <td>...</td>\n",
       "      <td>...</td>\n",
       "      <td>...</td>\n",
       "      <td>...</td>\n",
       "      <td>...</td>\n",
       "      <td>...</td>\n",
       "      <td>...</td>\n",
       "      <td>...</td>\n",
       "      <td>...</td>\n",
       "      <td>...</td>\n",
       "      <td>...</td>\n",
       "      <td>...</td>\n",
       "      <td>...</td>\n",
       "      <td>...</td>\n",
       "      <td>...</td>\n",
       "      <td>...</td>\n",
       "      <td>...</td>\n",
       "      <td>...</td>\n",
       "      <td>...</td>\n",
       "      <td>...</td>\n",
       "      <td>...</td>\n",
       "      <td>...</td>\n",
       "      <td>...</td>\n",
       "      <td>...</td>\n",
       "      <td>...</td>\n",
       "      <td>...</td>\n",
       "      <td>...</td>\n",
       "      <td>...</td>\n",
       "      <td>...</td>\n",
       "      <td>...</td>\n",
       "      <td>...</td>\n",
       "      <td>...</td>\n",
       "      <td>...</td>\n",
       "      <td>...</td>\n",
       "    </tr>\n",
       "    <tr>\n",
       "      <th>...</th>\n",
       "      <td>...</td>\n",
       "      <td>...</td>\n",
       "      <td>...</td>\n",
       "      <td>...</td>\n",
       "      <td>...</td>\n",
       "      <td>...</td>\n",
       "      <td>...</td>\n",
       "      <td>...</td>\n",
       "      <td>...</td>\n",
       "      <td>...</td>\n",
       "      <td>...</td>\n",
       "      <td>...</td>\n",
       "      <td>...</td>\n",
       "      <td>...</td>\n",
       "      <td>...</td>\n",
       "      <td>...</td>\n",
       "      <td>...</td>\n",
       "      <td>...</td>\n",
       "      <td>...</td>\n",
       "      <td>...</td>\n",
       "      <td>...</td>\n",
       "      <td>...</td>\n",
       "      <td>...</td>\n",
       "      <td>...</td>\n",
       "      <td>...</td>\n",
       "      <td>...</td>\n",
       "      <td>...</td>\n",
       "      <td>...</td>\n",
       "      <td>...</td>\n",
       "      <td>...</td>\n",
       "      <td>...</td>\n",
       "      <td>...</td>\n",
       "      <td>...</td>\n",
       "      <td>...</td>\n",
       "      <td>...</td>\n",
       "      <td>...</td>\n",
       "      <td>...</td>\n",
       "      <td>...</td>\n",
       "      <td>...</td>\n",
       "      <td>...</td>\n",
       "      <td>...</td>\n",
       "      <td>...</td>\n",
       "      <td>...</td>\n",
       "      <td>...</td>\n",
       "      <td>...</td>\n",
       "      <td>...</td>\n",
       "      <td>...</td>\n",
       "      <td>...</td>\n",
       "      <td>...</td>\n",
       "      <td>...</td>\n",
       "      <td>...</td>\n",
       "    </tr>\n",
       "    <tr>\n",
       "      <th></th>\n",
       "      <td>...</td>\n",
       "      <td>...</td>\n",
       "      <td>...</td>\n",
       "      <td>...</td>\n",
       "      <td>...</td>\n",
       "      <td>...</td>\n",
       "      <td>...</td>\n",
       "      <td>...</td>\n",
       "      <td>...</td>\n",
       "      <td>...</td>\n",
       "      <td>...</td>\n",
       "      <td>...</td>\n",
       "      <td>...</td>\n",
       "      <td>...</td>\n",
       "      <td>...</td>\n",
       "      <td>...</td>\n",
       "      <td>...</td>\n",
       "      <td>...</td>\n",
       "      <td>...</td>\n",
       "      <td>...</td>\n",
       "      <td>...</td>\n",
       "      <td>...</td>\n",
       "      <td>...</td>\n",
       "      <td>...</td>\n",
       "      <td>...</td>\n",
       "      <td>...</td>\n",
       "      <td>...</td>\n",
       "      <td>...</td>\n",
       "      <td>...</td>\n",
       "      <td>...</td>\n",
       "      <td>...</td>\n",
       "      <td>...</td>\n",
       "      <td>...</td>\n",
       "      <td>...</td>\n",
       "      <td>...</td>\n",
       "      <td>...</td>\n",
       "      <td>...</td>\n",
       "      <td>...</td>\n",
       "      <td>...</td>\n",
       "      <td>...</td>\n",
       "      <td>...</td>\n",
       "      <td>...</td>\n",
       "      <td>...</td>\n",
       "      <td>...</td>\n",
       "      <td>...</td>\n",
       "      <td>...</td>\n",
       "      <td>...</td>\n",
       "      <td>...</td>\n",
       "      <td>...</td>\n",
       "      <td>...</td>\n",
       "      <td>...</td>\n",
       "    </tr>\n",
       "    <tr>\n",
       "      <th></th>\n",
       "      <td>...</td>\n",
       "      <td>...</td>\n",
       "      <td>...</td>\n",
       "      <td>...</td>\n",
       "      <td>...</td>\n",
       "      <td>...</td>\n",
       "      <td>...</td>\n",
       "      <td>...</td>\n",
       "      <td>...</td>\n",
       "      <td>...</td>\n",
       "      <td>...</td>\n",
       "      <td>...</td>\n",
       "      <td>...</td>\n",
       "      <td>...</td>\n",
       "      <td>...</td>\n",
       "      <td>...</td>\n",
       "      <td>...</td>\n",
       "      <td>...</td>\n",
       "      <td>...</td>\n",
       "      <td>...</td>\n",
       "      <td>...</td>\n",
       "      <td>...</td>\n",
       "      <td>...</td>\n",
       "      <td>...</td>\n",
       "      <td>...</td>\n",
       "      <td>...</td>\n",
       "      <td>...</td>\n",
       "      <td>...</td>\n",
       "      <td>...</td>\n",
       "      <td>...</td>\n",
       "      <td>...</td>\n",
       "      <td>...</td>\n",
       "      <td>...</td>\n",
       "      <td>...</td>\n",
       "      <td>...</td>\n",
       "      <td>...</td>\n",
       "      <td>...</td>\n",
       "      <td>...</td>\n",
       "      <td>...</td>\n",
       "      <td>...</td>\n",
       "      <td>...</td>\n",
       "      <td>...</td>\n",
       "      <td>...</td>\n",
       "      <td>...</td>\n",
       "      <td>...</td>\n",
       "      <td>...</td>\n",
       "      <td>...</td>\n",
       "      <td>...</td>\n",
       "      <td>...</td>\n",
       "      <td>...</td>\n",
       "      <td>...</td>\n",
       "    </tr>\n",
       "  </tbody>\n",
       "</table>\n",
       "</div>\n",
       "<div>Dask Name: getitem, 7 graph layers</div>"
      ],
      "text/plain": [
       "Dask DataFrame Structure:\n",
       "                NU_ANO NO_MUNICIPIO_RESIDENCIA SG_UF_RESIDENCIA NU_IDADE TP_SEXO TP_ST_CONCLUSAO TP_ANO_CONCLUIU TP_ESCOLA TP_ESTADO_CIVIL TP_COR_RACA TP_PRESENCA_CN TP_PRESENCA_CH TP_PRESENCA_LC TP_PRESENCA_MT NU_NOTA_CN NU_NOTA_CH NU_NOTA_LC NU_NOTA_MT NU_NOTA_COMP1 NU_NOTA_COMP2 NU_NOTA_COMP3 NU_NOTA_COMP4 NU_NOTA_COMP5 NU_NOTA_REDACAO    Q001    Q002    Q003    Q004   Q005    Q006    Q007    Q008    Q009    Q010    Q011    Q012    Q013    Q014    Q015    Q016    Q017    Q018    Q019    Q020    Q021    Q022    Q023    Q024    Q025 TP_SES_INCOME TP_SES_POINTS\n",
       "npartitions=102                                                                                                                                                                                                                                                                                                                                                                                                                                                                                                                                                                        \n",
       "                 int16                  object           object    int16  object           int16           int16     int16          object       int16          int16          int16          int16          int16    float64    float64    float64    float64       float64       float64       float64       float64       float64         float64  object  object  object  object  int16  object  object  object  object  object  object  object  object  object  object  object  object  object  object  object  object  object  object  object  object        object        object\n",
       "                   ...                     ...              ...      ...     ...             ...             ...       ...             ...         ...            ...            ...            ...            ...        ...        ...        ...        ...           ...           ...           ...           ...           ...             ...     ...     ...     ...     ...    ...     ...     ...     ...     ...     ...     ...     ...     ...     ...     ...     ...     ...     ...     ...     ...     ...     ...     ...     ...     ...           ...           ...\n",
       "...                ...                     ...              ...      ...     ...             ...             ...       ...             ...         ...            ...            ...            ...            ...        ...        ...        ...        ...           ...           ...           ...           ...           ...             ...     ...     ...     ...     ...    ...     ...     ...     ...     ...     ...     ...     ...     ...     ...     ...     ...     ...     ...     ...     ...     ...     ...     ...     ...     ...           ...           ...\n",
       "                   ...                     ...              ...      ...     ...             ...             ...       ...             ...         ...            ...            ...            ...            ...        ...        ...        ...        ...           ...           ...           ...           ...           ...             ...     ...     ...     ...     ...    ...     ...     ...     ...     ...     ...     ...     ...     ...     ...     ...     ...     ...     ...     ...     ...     ...     ...     ...     ...     ...           ...           ...\n",
       "                   ...                     ...              ...      ...     ...             ...             ...       ...             ...         ...            ...            ...            ...            ...        ...        ...        ...        ...           ...           ...           ...           ...           ...             ...     ...     ...     ...     ...    ...     ...     ...     ...     ...     ...     ...     ...     ...     ...     ...     ...     ...     ...     ...     ...     ...     ...     ...     ...     ...           ...           ...\n",
       "Dask Name: getitem, 7 graph layers"
      ]
     },
     "execution_count": 80,
     "metadata": {},
     "output_type": "execute_result"
    }
   ],
   "source": [
    "single"
   ]
  },
  {
   "cell_type": "code",
   "execution_count": 81,
   "id": "1e967f0b",
   "metadata": {},
   "outputs": [],
   "source": [
    "def has_normal_distribution(dataset, course):\n",
    "    k2, p = stats.normaltest(dataset[course])\n",
    "    alpha = 0.05\n",
    "    print(\"p = {:g}\".format(p))\n",
    "    if p < alpha:  # null hypothesis: x comes from a normal distribution\n",
    "        # print(\"The null hypothesis can be rejected\")\n",
    "        return False\n",
    "    else:\n",
    "        print(\"The null hypothesis cannot be rejected\")\n",
    "        return True"
   ]
  },
  {
   "cell_type": "code",
   "execution_count": 82,
   "id": "e5262741",
   "metadata": {},
   "outputs": [],
   "source": [
    "states = list(data['SG_UF_RESIDENCIA'].unique())"
   ]
  },
  {
   "cell_type": "code",
   "execution_count": 83,
   "id": "8dc16d3a",
   "metadata": {},
   "outputs": [
    {
     "name": "stdout",
     "output_type": "stream",
     "text": [
      "p = 1.17972e-215\n"
     ]
    },
    {
     "data": {
      "text/plain": [
       "False"
      ]
     },
     "execution_count": 83,
     "metadata": {},
     "output_type": "execute_result"
    }
   ],
   "source": [
    "has_normal_distribution(single[single['SG_UF_RESIDENCIA'] == 'PB'], 'NU_NOTA_MT')"
   ]
  },
  {
   "cell_type": "code",
   "execution_count": 84,
   "id": "a8d27620",
   "metadata": {},
   "outputs": [],
   "source": [
    "def testing_normal_distribution_all_states(course):\n",
    "    number_of_normal_distributions = 0\n",
    "    for state in states:\n",
    "        single_state = single[single['SG_UF_RESIDENCIA'] == state]\n",
    "        married_state = married[married['SG_UF_RESIDENCIA'] == state]\n",
    "        divorced_state = divorced[divorced['SG_UF_RESIDENCIA'] == state]\n",
    "        # indigenous_state = indigenous[indigenous['SG_UF_RESIDENCIA'] == state]\n",
    "        # brown_state = brown[brown['SG_UF_RESIDENCIA'] == state]\n",
    "        result_single_dist = has_normal_distribution(single_state, 'NU_NOTA_MT')\n",
    "        result_married_dist = has_normal_distribution(married_state, 'NU_NOTA_MT')\n",
    "        result_divorced_dist = has_normal_distribution(divorced_state, 'NU_NOTA_MT')\n",
    "        # result_indigenous_dist = has_normal_distribution(indigenous_state, 'NU_NOTA_MT')\n",
    "        # result_white_dist = has_normal_distribution(white_state, 'NU_NOTA_MT')\n",
    "        if (result_single_dist | result_married_dist | result_divorced_dist):\n",
    "            print(state)\n",
    "            number_of_normal_distributions+= 1\n",
    "            print('normal distribution')\n",
    "    return number_of_normal_distributions\n"
   ]
  },
  {
   "cell_type": "code",
   "execution_count": 86,
   "id": "db72f291",
   "metadata": {},
   "outputs": [
    {
     "name": "stdout",
     "output_type": "stream",
     "text": [
      "p = 2.38248e-206\n",
      "p = 2.05026e-20\n",
      "p = 2.44449e-05\n",
      "p = 1.17972e-215\n",
      "p = 2.65071e-37\n",
      "p = 1.55149e-08\n",
      "p = 1.85598e-198\n",
      "p = 1.52027e-32\n",
      "p = 0.000426226\n",
      "p = 1.74565e-259\n",
      "p = 5.8982e-35\n",
      "p = 7.32715e-08\n",
      "p = 2.79921e-139\n",
      "p = 4.19994e-13\n",
      "p = 0.000625345\n",
      "p = 3.35262e-53\n",
      "p = 7.74264e-09\n",
      "p = 0.139022\n",
      "The null hypothesis cannot be rejected\n",
      "TO\n",
      "normal distribution\n",
      "p = 0\n",
      "p = 1.10985e-85\n",
      "p = 4.8694e-17\n",
      "p = 0\n",
      "p = 6.12027e-81\n",
      "p = 1.31379e-13\n",
      "p = 2.37539e-122\n",
      "p = 1.71877e-19\n",
      "p = 0.000450737\n",
      "p = 2.29747e-127\n",
      "p = 5.72488e-20\n",
      "p = 9.67101e-06\n",
      "p = 7.57678e-109\n",
      "p = 2.36743e-30\n",
      "p = 1.40163e-07\n",
      "p = 2.00474e-110\n",
      "p = 4.32062e-22\n",
      "p = 4.30772e-06\n",
      "p = 0\n",
      "p = 6.017e-59\n",
      "p = 4.99043e-14\n",
      "p = 1.51651e-104\n",
      "p = 4.27986e-15\n",
      "p = 0.00157312\n",
      "p = 0\n",
      "p = 1.54755e-64\n",
      "p = 1.273e-14\n",
      "p = 0\n",
      "p = 5.34993e-39\n",
      "p = 1.24003e-09\n",
      "p = 2.64559e-96\n",
      "p = 1.72211e-22\n",
      "p = 2.55713e-05\n",
      "p = 2.15853e-79\n",
      "p = 3.21767e-15\n",
      "p = 2.06632e-05\n",
      "p = 2.59529e-32\n",
      "p = 1.21769e-09\n",
      "p = 0.0273899\n",
      "p = 2.70506e-99\n",
      "p = 6.57896e-27\n",
      "p = 4.60646e-08\n",
      "p = 0\n",
      "p = 2.52155e-41\n",
      "p = 9.63292e-12\n",
      "p = 6.08874e-18\n",
      "p = 0.00432204\n"
     ]
    },
    {
     "name": "stderr",
     "output_type": "stream",
     "text": [
      "/Users/chrystinne/.pyenv/versions/3.9.4/envs/venem/lib/python3.9/site-packages/scipy/stats/_stats_py.py:1769: UserWarning: kurtosistest only valid for n>=20 ... continuing anyway, n=10\n",
      "  warnings.warn(\"kurtosistest only valid for n>=20 ... continuing \"\n"
     ]
    },
    {
     "name": "stdout",
     "output_type": "stream",
     "text": [
      "p = 0.517687\n",
      "The null hypothesis cannot be rejected\n",
      "RR\n",
      "normal distribution\n",
      "p = 1.73498e-189\n",
      "p = 1.45729e-33\n",
      "p = 3.96705e-06\n",
      "p = 5.73165e-145\n",
      "p = 2.2325e-25\n",
      "p = 1.43655e-05\n",
      "p = 1.91545e-118\n",
      "p = 1.00929e-16\n",
      "p = 0.00100055\n",
      "p = 4.25681e-39\n",
      "p = 5.49179e-07\n",
      "p = 0.228886\n",
      "The null hypothesis cannot be rejected\n",
      "AP\n",
      "normal distribution\n",
      "p = 3.55427e-61\n",
      "p = 1.01534e-07\n",
      "p = 0.107176\n",
      "The null hypothesis cannot be rejected\n",
      "AC\n",
      "normal distribution\n"
     ]
    },
    {
     "data": {
      "text/plain": [
       "4"
      ]
     },
     "execution_count": 86,
     "metadata": {},
     "output_type": "execute_result"
    }
   ],
   "source": [
    "testing_normal_distribution_all_states('NU_NOTA_MT')"
   ]
  },
  {
   "cell_type": "code",
   "execution_count": 87,
   "id": "f2768558",
   "metadata": {},
   "outputs": [],
   "source": [
    "def perform_Kruskal_Wallis_per_state(state, course):\n",
    "   teste = stats.kruskal(single[single['SG_UF_RESIDENCIA'] == state][course], married[married['SG_UF_RESIDENCIA'] == state][course], divorced[divorced['SG_UF_RESIDENCIA'] == state][course])\n",
    "   return teste"
   ]
  },
  {
   "cell_type": "code",
   "execution_count": 88,
   "id": "87c03e3b",
   "metadata": {},
   "outputs": [
    {
     "name": "stdout",
     "output_type": "stream",
     "text": [
      "KruskalResult(statistic=60.78770572813431, pvalue=6.31127955349761e-14)\n"
     ]
    }
   ],
   "source": [
    "print(perform_Kruskal_Wallis_per_state('PB', 'NU_NOTA_MT'))"
   ]
  },
  {
   "cell_type": "code",
   "execution_count": 89,
   "id": "05553024",
   "metadata": {},
   "outputs": [
    {
     "name": "stdout",
     "output_type": "stream",
     "text": [
      "KruskalResult(statistic=24.222255641054605, pvalue=5.4979909156286584e-06)\n"
     ]
    }
   ],
   "source": [
    "print(perform_Kruskal_Wallis_per_state('RN', 'NU_NOTA_LC'))"
   ]
  },
  {
   "cell_type": "code",
   "execution_count": 90,
   "id": "b355ad73",
   "metadata": {},
   "outputs": [
    {
     "name": "stdout",
     "output_type": "stream",
     "text": [
      "KruskalResult(statistic=10.328707874209451, pvalue=0.005716755029486496)\n"
     ]
    }
   ],
   "source": [
    "print(perform_Kruskal_Wallis_per_state('PB', 'NU_NOTA_CN'))"
   ]
  },
  {
   "cell_type": "markdown",
   "id": "73416a0b",
   "metadata": {},
   "source": [
    "Interpreting the results:\n",
    "\n",
    "The Kruskal-Wallis Test uses the following null and alternative hypotheses:\n",
    "\n",
    "The null hypothesis (H0): The median score in math is equal across all ethnicty groups.\n",
    "\n",
    "The alternative hypothesis: (Ha): The median score in math is not equal across all ethnicty groups.\n",
    "\n",
    "In this case, the test statistic is 7749.868515864906 and the corresponding p-value is 0.0. Since this p-value is less than 0.05, we can reject the null hypothesis that the median score in math is the same for all five ethnicity groups. We have sufficient evidence to conclude that the ethnicity leads to statistically significant differences in median scores in math for the ENEM exam."
   ]
  },
  {
   "cell_type": "code",
   "execution_count": 91,
   "id": "14cea1ac",
   "metadata": {},
   "outputs": [],
   "source": [
    "def ploting_distribution_marital_status_per_state(state, course):\n",
    "    single_state = single[single['SG_UF_RESIDENCIA'] == state]\n",
    "    married_state = married[married['SG_UF_RESIDENCIA'] == state]\n",
    "    divorced_state = divorced[divorced['SG_UF_RESIDENCIA'] == state]\n",
    "    fig, (ax1, ax2, ax3, ax4, ax5) = plt.subplots(ncols=5, sharey=True)\n",
    "    ax1 = sns.histplot(single_state[course], ax=ax1).set(title=\"Single\", xlabel='Single', ylabel='density')\n",
    "    ax2 = sns.histplot(married_state[course], ax=ax2).set(title=\"Married\",  xlabel='Married', ylabel='density')\n",
    "    ax3 = sns.histplot(divorced_state[course], ax=ax3).set(title=\"Divorced\", xlabel='Divorced', ylabel='density')\n",
    "    plt.show()"
   ]
  },
  {
   "cell_type": "code",
   "execution_count": 92,
   "id": "6e12f6c6",
   "metadata": {},
   "outputs": [
    {
     "data": {
      "image/png": "[encoded data removed]",
      "text/plain": [
       "<Figure size 432x288 with 5 Axes>"
      ]
     },
     "metadata": {
      "needs_background": "light"
     },
     "output_type": "display_data"
    }
   ],
   "source": [
    "ploting_distribution_marital_status_per_state('PB', 'NU_NOTA_MT')"
   ]
  }
 ],
 "metadata": {
  "kernelspec": {
   "display_name": "Python 3.9.4 64-bit ('venem')",
   "language": "python",
   "name": "python3"
  },
  "language_info": {
   "codemirror_mode": {
    "name": "ipython",
    "version": 3
   },
   "file_extension": ".py",
   "mimetype": "text/x-python",
   "name": "python",
   "nbconvert_exporter": "python",
   "pygments_lexer": "ipython3",
   "version": "3.9.4"
  },
  "vscode": {
   "interpreter": {
    "hash": "0af81f0b5e3305cf8a5a2df6ff4f40f4541212b9c0f5152f541cbf6ef9ee247a"
   }
  }
 },
 "nbformat": 4,
 "nbformat_minor": 5
}
