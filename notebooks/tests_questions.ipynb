{
 "cells": [
  {
   "cell_type": "code",
   "execution_count": 1,
   "id": "452844d6",
   "metadata": {},
   "outputs": [],
   "source": [
    "import pandas as pd"
   ]
  },
  {
   "cell_type": "code",
   "execution_count": 2,
   "id": "59ec4c68",
   "metadata": {},
   "outputs": [],
   "source": [
    "df_2019 = pd.read_excel('../../../microdados_enem_2019/DICIONÁRIO/Dicionário_Microdados_Enem_2019.ods',engine=\"odf\", skiprows=286, usecols=[0,1])\n",
    "df_2019.dropna(inplace=True)\n",
    "df_2019.columns = ['num', 'question']"
   ]
  },
  {
   "cell_type": "code",
   "execution_count": 3,
   "id": "82386cfb",
   "metadata": {},
   "outputs": [
    {
     "data": {
      "text/html": [
       "<div>\n",
       "<style scoped>\n",
       "    .dataframe tbody tr th:only-of-type {\n",
       "        vertical-align: middle;\n",
       "    }\n",
       "\n",
       "    .dataframe tbody tr th {\n",
       "        vertical-align: top;\n",
       "    }\n",
       "\n",
       "    .dataframe thead th {\n",
       "        text-align: right;\n",
       "    }\n",
       "</style>\n",
       "<table border=\"1\" class=\"dataframe\">\n",
       "  <thead>\n",
       "    <tr style=\"text-align: right;\">\n",
       "      <th></th>\n",
       "      <th>num</th>\n",
       "      <th>question</th>\n",
       "    </tr>\n",
       "  </thead>\n",
       "  <tbody>\n",
       "    <tr>\n",
       "      <th>0</th>\n",
       "      <td>Q001</td>\n",
       "      <td>Até que série seu pai, ou o homem responsável ...</td>\n",
       "    </tr>\n",
       "    <tr>\n",
       "      <th>8</th>\n",
       "      <td>Q002</td>\n",
       "      <td>Até que série sua mãe, ou a mulher responsável...</td>\n",
       "    </tr>\n",
       "    <tr>\n",
       "      <th>16</th>\n",
       "      <td>Q003</td>\n",
       "      <td>A partir da apresentação de algumas ocupações ...</td>\n",
       "    </tr>\n",
       "    <tr>\n",
       "      <th>22</th>\n",
       "      <td>Q004</td>\n",
       "      <td>A partir da apresentação de algumas ocupações ...</td>\n",
       "    </tr>\n",
       "    <tr>\n",
       "      <th>28</th>\n",
       "      <td>Q005</td>\n",
       "      <td>Incluindo você, quantas pessoas moram atualmen...</td>\n",
       "    </tr>\n",
       "  </tbody>\n",
       "</table>\n",
       "</div>"
      ],
      "text/plain": [
       "     num                                           question\n",
       "0   Q001  Até que série seu pai, ou o homem responsável ...\n",
       "8   Q002  Até que série sua mãe, ou a mulher responsável...\n",
       "16  Q003  A partir da apresentação de algumas ocupações ...\n",
       "22  Q004  A partir da apresentação de algumas ocupações ...\n",
       "28  Q005  Incluindo você, quantas pessoas moram atualmen..."
      ]
     },
     "execution_count": 3,
     "metadata": {},
     "output_type": "execute_result"
    }
   ],
   "source": [
    "df_2019.head()"
   ]
  },
  {
   "cell_type": "code",
   "execution_count": 4,
   "id": "1f8b6c61",
   "metadata": {},
   "outputs": [],
   "source": [
    "df_2018 = pd.read_excel('../../../microdados_enem2018/DICIONÁRIO/Dicionário_Microdados_Enem_2018.ods',engine=\"odf\", skiprows=280, usecols=[0,1])\n",
    "df_2018.dropna(inplace=True)\n",
    "df_2018.columns = ['num', 'question']"
   ]
  },
  {
   "cell_type": "code",
   "execution_count": 5,
   "id": "5e340832",
   "metadata": {},
   "outputs": [
    {
     "data": {
      "text/html": [
       "<div>\n",
       "<style scoped>\n",
       "    .dataframe tbody tr th:only-of-type {\n",
       "        vertical-align: middle;\n",
       "    }\n",
       "\n",
       "    .dataframe tbody tr th {\n",
       "        vertical-align: top;\n",
       "    }\n",
       "\n",
       "    .dataframe thead th {\n",
       "        text-align: right;\n",
       "    }\n",
       "</style>\n",
       "<table border=\"1\" class=\"dataframe\">\n",
       "  <thead>\n",
       "    <tr style=\"text-align: right;\">\n",
       "      <th></th>\n",
       "      <th>num</th>\n",
       "      <th>question</th>\n",
       "    </tr>\n",
       "  </thead>\n",
       "  <tbody>\n",
       "    <tr>\n",
       "      <th>0</th>\n",
       "      <td>Q001</td>\n",
       "      <td>Até que série seu pai, ou o homem responsável ...</td>\n",
       "    </tr>\n",
       "    <tr>\n",
       "      <th>8</th>\n",
       "      <td>Q002</td>\n",
       "      <td>Até que série sua mãe, ou a mulher responsável...</td>\n",
       "    </tr>\n",
       "    <tr>\n",
       "      <th>16</th>\n",
       "      <td>Q003</td>\n",
       "      <td>A partir da apresentação de algumas ocupações ...</td>\n",
       "    </tr>\n",
       "    <tr>\n",
       "      <th>22</th>\n",
       "      <td>Q004</td>\n",
       "      <td>A partir da apresentação de algumas ocupações ...</td>\n",
       "    </tr>\n",
       "    <tr>\n",
       "      <th>28</th>\n",
       "      <td>Q005</td>\n",
       "      <td>Incluindo você, quantas pessoas moram atualmen...</td>\n",
       "    </tr>\n",
       "  </tbody>\n",
       "</table>\n",
       "</div>"
      ],
      "text/plain": [
       "     num                                           question\n",
       "0   Q001  Até que série seu pai, ou o homem responsável ...\n",
       "8   Q002  Até que série sua mãe, ou a mulher responsável...\n",
       "16  Q003  A partir da apresentação de algumas ocupações ...\n",
       "22  Q004  A partir da apresentação de algumas ocupações ...\n",
       "28  Q005  Incluindo você, quantas pessoas moram atualmen..."
      ]
     },
     "execution_count": 5,
     "metadata": {},
     "output_type": "execute_result"
    }
   ],
   "source": [
    "df_2018.head()"
   ]
  },
  {
   "cell_type": "code",
   "execution_count": 6,
   "id": "55ec52e4",
   "metadata": {},
   "outputs": [],
   "source": [
    "df_2017 = pd.read_excel('../../../microdados_enem2017/DICIONÁRIO/Dicionário_Microdados_Enem_2017.ods',engine=\"odf\", skiprows=279, usecols=[0,1])\n",
    "df_2017.dropna(inplace=True)\n",
    "df_2017.columns = ['num', 'question']"
   ]
  },
  {
   "cell_type": "code",
   "execution_count": 7,
   "id": "21ac0291",
   "metadata": {},
   "outputs": [
    {
     "data": {
      "text/html": [
       "<div>\n",
       "<style scoped>\n",
       "    .dataframe tbody tr th:only-of-type {\n",
       "        vertical-align: middle;\n",
       "    }\n",
       "\n",
       "    .dataframe tbody tr th {\n",
       "        vertical-align: top;\n",
       "    }\n",
       "\n",
       "    .dataframe thead th {\n",
       "        text-align: right;\n",
       "    }\n",
       "</style>\n",
       "<table border=\"1\" class=\"dataframe\">\n",
       "  <thead>\n",
       "    <tr style=\"text-align: right;\">\n",
       "      <th></th>\n",
       "      <th>num</th>\n",
       "      <th>question</th>\n",
       "    </tr>\n",
       "  </thead>\n",
       "  <tbody>\n",
       "    <tr>\n",
       "      <th>0</th>\n",
       "      <td>Q001</td>\n",
       "      <td>Até que série seu pai, ou o homem responsável ...</td>\n",
       "    </tr>\n",
       "    <tr>\n",
       "      <th>8</th>\n",
       "      <td>Q002</td>\n",
       "      <td>Até que série sua mãe, ou a mulher responsável...</td>\n",
       "    </tr>\n",
       "    <tr>\n",
       "      <th>16</th>\n",
       "      <td>Q003</td>\n",
       "      <td>A partir da apresentação de algumas ocupações ...</td>\n",
       "    </tr>\n",
       "    <tr>\n",
       "      <th>22</th>\n",
       "      <td>Q004</td>\n",
       "      <td>A partir da apresentação de algumas ocupações ...</td>\n",
       "    </tr>\n",
       "    <tr>\n",
       "      <th>28</th>\n",
       "      <td>Q005</td>\n",
       "      <td>Incluindo você, quantas pessoas moram atualmen...</td>\n",
       "    </tr>\n",
       "  </tbody>\n",
       "</table>\n",
       "</div>"
      ],
      "text/plain": [
       "     num                                           question\n",
       "0   Q001  Até que série seu pai, ou o homem responsável ...\n",
       "8   Q002  Até que série sua mãe, ou a mulher responsável...\n",
       "16  Q003  A partir da apresentação de algumas ocupações ...\n",
       "22  Q004  A partir da apresentação de algumas ocupações ...\n",
       "28  Q005  Incluindo você, quantas pessoas moram atualmen..."
      ]
     },
     "execution_count": 7,
     "metadata": {},
     "output_type": "execute_result"
    }
   ],
   "source": [
    "df_2017.head()"
   ]
  },
  {
   "cell_type": "code",
   "execution_count": 8,
   "id": "19817dc5",
   "metadata": {},
   "outputs": [],
   "source": [
    "df_2016 = pd.read_excel('../../../microdados_enem2016/DICIONÁRIO/Dicionário_Microdados_Enem_2016.ods',engine=\"odf\", skiprows=307, usecols=[0,1])\n",
    "df_2016.dropna(inplace=True)\n",
    "df_2016.columns = ['num', 'question']"
   ]
  },
  {
   "cell_type": "code",
   "execution_count": 9,
   "id": "022928a3",
   "metadata": {},
   "outputs": [
    {
     "data": {
      "text/html": [
       "<div>\n",
       "<style scoped>\n",
       "    .dataframe tbody tr th:only-of-type {\n",
       "        vertical-align: middle;\n",
       "    }\n",
       "\n",
       "    .dataframe tbody tr th {\n",
       "        vertical-align: top;\n",
       "    }\n",
       "\n",
       "    .dataframe thead th {\n",
       "        text-align: right;\n",
       "    }\n",
       "</style>\n",
       "<table border=\"1\" class=\"dataframe\">\n",
       "  <thead>\n",
       "    <tr style=\"text-align: right;\">\n",
       "      <th></th>\n",
       "      <th>num</th>\n",
       "      <th>question</th>\n",
       "    </tr>\n",
       "  </thead>\n",
       "  <tbody>\n",
       "    <tr>\n",
       "      <th>0</th>\n",
       "      <td>Q001</td>\n",
       "      <td>Até que série seu pai, ou o homem responsável ...</td>\n",
       "    </tr>\n",
       "    <tr>\n",
       "      <th>8</th>\n",
       "      <td>Q002</td>\n",
       "      <td>Até que série sua mãe, ou a mulher responsável...</td>\n",
       "    </tr>\n",
       "    <tr>\n",
       "      <th>16</th>\n",
       "      <td>Q003</td>\n",
       "      <td>A partir da apresentação de algumas ocupações ...</td>\n",
       "    </tr>\n",
       "    <tr>\n",
       "      <th>22</th>\n",
       "      <td>Q004</td>\n",
       "      <td>A partir da apresentação de algumas ocupações ...</td>\n",
       "    </tr>\n",
       "    <tr>\n",
       "      <th>28</th>\n",
       "      <td>Q005</td>\n",
       "      <td>Incluindo você, quantas pessoas moram atualmen...</td>\n",
       "    </tr>\n",
       "  </tbody>\n",
       "</table>\n",
       "</div>"
      ],
      "text/plain": [
       "     num                                           question\n",
       "0   Q001  Até que série seu pai, ou o homem responsável ...\n",
       "8   Q002  Até que série sua mãe, ou a mulher responsável...\n",
       "16  Q003  A partir da apresentação de algumas ocupações ...\n",
       "22  Q004  A partir da apresentação de algumas ocupações ...\n",
       "28  Q005  Incluindo você, quantas pessoas moram atualmen..."
      ]
     },
     "execution_count": 9,
     "metadata": {},
     "output_type": "execute_result"
    }
   ],
   "source": [
    "df_2016.head()"
   ]
  },
  {
   "cell_type": "code",
   "execution_count": 15,
   "id": "651a922b",
   "metadata": {},
   "outputs": [
    {
     "data": {
      "text/plain": [
       "array(['Até que série seu pai, ou o homem responsável por você, estudou?',\n",
       "       'Até que série sua mãe, ou a mulher responsável por você, estudou?',\n",
       "       'A partir da apresentação de algumas ocupações divididas em grupos ordenados, indique o grupo que contempla a ocupação mais próxima da ocupação do seu pai ou do homem responsável por você. (Se ele não estiver trabalhando, escolha uma ocupação pensando no último trabalho dele).',\n",
       "       'A partir da apresentação de algumas ocupações divididas em grupos ordenados, indique o grupo que contempla a ocupação mais próxima da ocupação da sua mãe ou da mulher responsável por você. (Se ela não estiver trabalhando, escolha uma ocupação pensando no último trabalho dela).',\n",
       "       'Incluindo você, quantas pessoas moram atualmente em sua residência?',\n",
       "       'Qual é a renda mensal de sua família? (Some a sua renda com a dos seus familiares.)',\n",
       "       'Em sua residência trabalha empregado(a) doméstico(a)?',\n",
       "       'Na sua residência tem banheiro?',\n",
       "       'Na sua residência tem quartos para dormir?',\n",
       "       'Na sua residência tem carro?',\n",
       "       'Na sua residência tem motocicleta?',\n",
       "       'Na sua residência tem geladeira?',\n",
       "       'Na sua residência tem freezer (independente ou segunda porta da geladeira)?',\n",
       "       'Na sua residência tem máquina de lavar roupa? (o tanquinho NÃO deve ser considerado)',\n",
       "       'Na sua residência tem máquina de secar roupa (independente ou em conjunto com a máquina de lavar roupa)?',\n",
       "       'Na sua residência tem forno micro-ondas?',\n",
       "       'Na sua residência tem máquina de lavar louça?',\n",
       "       'Na sua residência tem aspirador de pó?',\n",
       "       'Na sua residência tem televisão em cores?',\n",
       "       'Na sua residência tem aparelho de DVD?',\n",
       "       'Na sua residência tem TV por assinatura?',\n",
       "       'Na sua residência tem telefone celular?',\n",
       "       'Na sua residência tem telefone fixo?',\n",
       "       'Na sua residência tem computador?',\n",
       "       'Na sua residência tem acesso à Internet?'], dtype=object)"
      ]
     },
     "execution_count": 15,
     "metadata": {},
     "output_type": "execute_result"
    }
   ],
   "source": [
    "df_2016['question'].values[:25]"
   ]
  },
  {
   "cell_type": "markdown",
   "id": "e65a1650",
   "metadata": {},
   "source": [
    "# Tests"
   ]
  },
  {
   "cell_type": "code",
   "execution_count": 10,
   "id": "cc94d2cc",
   "metadata": {},
   "outputs": [
    {
     "data": {
      "text/plain": [
       "set()"
      ]
     },
     "execution_count": 10,
     "metadata": {},
     "output_type": "execute_result"
    }
   ],
   "source": [
    "set(df_2019['question'].values[:25]).difference(df_2018['question'].values[:25])"
   ]
  },
  {
   "cell_type": "code",
   "execution_count": 11,
   "id": "30164b9f",
   "metadata": {},
   "outputs": [
    {
     "data": {
      "text/plain": [
       "set()"
      ]
     },
     "execution_count": 11,
     "metadata": {},
     "output_type": "execute_result"
    }
   ],
   "source": [
    "set(df_2019['question'].values[:25]).difference(df_2017['question'].values[:25])"
   ]
  },
  {
   "cell_type": "code",
   "execution_count": 12,
   "id": "c47fcf71",
   "metadata": {},
   "outputs": [
    {
     "data": {
      "text/plain": [
       "set()"
      ]
     },
     "execution_count": 12,
     "metadata": {},
     "output_type": "execute_result"
    }
   ],
   "source": [
    "set(df_2019['question'].values[:25]).difference(df_2016['question'].values[:25])"
   ]
  }
 ],
 "metadata": {
  "kernelspec": {
   "display_name": "Python 3 (ipykernel)",
   "language": "python",
   "name": "python3"
  },
  "language_info": {
   "codemirror_mode": {
    "name": "ipython",
    "version": 3
   },
   "file_extension": ".py",
   "mimetype": "text/x-python",
   "name": "python",
   "nbconvert_exporter": "python",
   "pygments_lexer": "ipython3",
   "version": "3.9.7"
  }
 },
 "nbformat": 4,
 "nbformat_minor": 5
}
