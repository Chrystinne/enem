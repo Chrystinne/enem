{
 "cells": [
  {
   "cell_type": "markdown",
   "id": "80c2bb1c",
   "metadata": {},
   "source": [
    "### Analysis of factors that affect student's quality of academic performance"
   ]
  },
  {
   "cell_type": "markdown",
   "id": "231830af",
   "metadata": {},
   "source": [
    "1- Age\n",
    "2- Gender\n",
    "3 - Geographical belongingness\n",
    "4 - Ethnicity\n",
    "5 - Marital status\n",
    "6 - socioeconomic status (SES)\n",
    "7 - parents’ education level\n",
    "8 - parental profession\n",
    "9 - language\n",
    "10 - income\n",
    "11 - religious affiliations\n"
   ]
  },
  {
   "cell_type": "markdown",
   "id": "e25c328b",
   "metadata": {},
   "source": [
    "# Importação das bibliotecas"
   ]
  },
  {
   "cell_type": "code",
   "execution_count": 2,
   "id": "93c0695b",
   "metadata": {},
   "outputs": [],
   "source": [
    "import pandas as pd\n",
    "import numpy as np\n",
    "import matplotlib.pyplot as plt\n",
    "import seaborn as sns\n",
    "import locale\n",
    "# from sklearn.preprocessing import OneHotEncoder\n",
    "# from sklearn.compose import ColumnTransformer"
   ]
  },
  {
   "cell_type": "markdown",
   "id": "e2f7a669",
   "metadata": {},
   "source": [
    "# Carregando os dados"
   ]
  },
  {
   "cell_type": "markdown",
   "id": "0390c345",
   "metadata": {},
   "source": [
    "### Dataset information:\n",
    "\n"
   ]
  },
  {
   "cell_type": "code",
   "execution_count": 5,
   "id": "3df4431d",
   "metadata": {},
   "outputs": [],
   "source": [
    "data = pd.read_csv(\"../../dataset/MICRODADOS_ENEM_2018.csv\", sep=';', encoding='cp1252')"
   ]
  },
  {
   "cell_type": "markdown",
   "id": "e4925a04",
   "metadata": {},
   "source": [
    "# Exploração inicial dos dados"
   ]
  },
  {
   "cell_type": "code",
   "execution_count": 6,
   "id": "535efc54",
   "metadata": {},
   "outputs": [
    {
     "data": {
      "text/plain": [
       "(5513747, 137)"
      ]
     },
     "execution_count": 6,
     "metadata": {},
     "output_type": "execute_result"
    }
   ],
   "source": [
    "data.shape"
   ]
  },
  {
   "cell_type": "code",
   "execution_count": 7,
   "id": "b9211114",
   "metadata": {},
   "outputs": [
    {
     "data": {
      "text/html": [
       "<div>\n",
       "<style scoped>\n",
       "    .dataframe tbody tr th:only-of-type {\n",
       "        vertical-align: middle;\n",
       "    }\n",
       "\n",
       "    .dataframe tbody tr th {\n",
       "        vertical-align: top;\n",
       "    }\n",
       "\n",
       "    .dataframe thead th {\n",
       "        text-align: right;\n",
       "    }\n",
       "</style>\n",
       "<table border=\"1\" class=\"dataframe\">\n",
       "  <thead>\n",
       "    <tr style=\"text-align: right;\">\n",
       "      <th></th>\n",
       "      <th>NU_INSCRICAO</th>\n",
       "      <th>NU_ANO</th>\n",
       "      <th>CO_MUNICIPIO_RESIDENCIA</th>\n",
       "      <th>NO_MUNICIPIO_RESIDENCIA</th>\n",
       "      <th>CO_UF_RESIDENCIA</th>\n",
       "      <th>SG_UF_RESIDENCIA</th>\n",
       "      <th>NU_IDADE</th>\n",
       "      <th>TP_SEXO</th>\n",
       "      <th>TP_ESTADO_CIVIL</th>\n",
       "      <th>TP_COR_RACA</th>\n",
       "      <th>...</th>\n",
       "      <th>Q018</th>\n",
       "      <th>Q019</th>\n",
       "      <th>Q020</th>\n",
       "      <th>Q021</th>\n",
       "      <th>Q022</th>\n",
       "      <th>Q023</th>\n",
       "      <th>Q024</th>\n",
       "      <th>Q025</th>\n",
       "      <th>Q026</th>\n",
       "      <th>Q027</th>\n",
       "    </tr>\n",
       "  </thead>\n",
       "  <tbody>\n",
       "    <tr>\n",
       "      <th>0</th>\n",
       "      <td>180008202043</td>\n",
       "      <td>2018</td>\n",
       "      <td>5300108</td>\n",
       "      <td>Brasília</td>\n",
       "      <td>53</td>\n",
       "      <td>DF</td>\n",
       "      <td>44.0</td>\n",
       "      <td>M</td>\n",
       "      <td>1.0</td>\n",
       "      <td>1</td>\n",
       "      <td>...</td>\n",
       "      <td>A</td>\n",
       "      <td>A</td>\n",
       "      <td>A</td>\n",
       "      <td>A</td>\n",
       "      <td>A</td>\n",
       "      <td>A</td>\n",
       "      <td>A</td>\n",
       "      <td>A</td>\n",
       "      <td>B</td>\n",
       "      <td>A</td>\n",
       "    </tr>\n",
       "    <tr>\n",
       "      <th>1</th>\n",
       "      <td>180007197856</td>\n",
       "      <td>2018</td>\n",
       "      <td>2111102</td>\n",
       "      <td>São João dos Patos</td>\n",
       "      <td>21</td>\n",
       "      <td>MA</td>\n",
       "      <td>23.0</td>\n",
       "      <td>F</td>\n",
       "      <td>0.0</td>\n",
       "      <td>3</td>\n",
       "      <td>...</td>\n",
       "      <td>A</td>\n",
       "      <td>B</td>\n",
       "      <td>A</td>\n",
       "      <td>A</td>\n",
       "      <td>B</td>\n",
       "      <td>A</td>\n",
       "      <td>A</td>\n",
       "      <td>A</td>\n",
       "      <td>A</td>\n",
       "      <td>A</td>\n",
       "    </tr>\n",
       "    <tr>\n",
       "      <th>2</th>\n",
       "      <td>180008517434</td>\n",
       "      <td>2018</td>\n",
       "      <td>3530607</td>\n",
       "      <td>Mogi das Cruzes</td>\n",
       "      <td>35</td>\n",
       "      <td>SP</td>\n",
       "      <td>23.0</td>\n",
       "      <td>F</td>\n",
       "      <td>0.0</td>\n",
       "      <td>1</td>\n",
       "      <td>...</td>\n",
       "      <td>A</td>\n",
       "      <td>B</td>\n",
       "      <td>A</td>\n",
       "      <td>A</td>\n",
       "      <td>B</td>\n",
       "      <td>B</td>\n",
       "      <td>B</td>\n",
       "      <td>B</td>\n",
       "      <td>A</td>\n",
       "      <td>A</td>\n",
       "    </tr>\n",
       "    <tr>\n",
       "      <th>3</th>\n",
       "      <td>180007661228</td>\n",
       "      <td>2018</td>\n",
       "      <td>2916401</td>\n",
       "      <td>Itapetinga</td>\n",
       "      <td>29</td>\n",
       "      <td>BA</td>\n",
       "      <td>26.0</td>\n",
       "      <td>F</td>\n",
       "      <td>0.0</td>\n",
       "      <td>3</td>\n",
       "      <td>...</td>\n",
       "      <td>A</td>\n",
       "      <td>B</td>\n",
       "      <td>B</td>\n",
       "      <td>A</td>\n",
       "      <td>C</td>\n",
       "      <td>A</td>\n",
       "      <td>B</td>\n",
       "      <td>B</td>\n",
       "      <td>A</td>\n",
       "      <td>A</td>\n",
       "    </tr>\n",
       "    <tr>\n",
       "      <th>4</th>\n",
       "      <td>180008787987</td>\n",
       "      <td>2018</td>\n",
       "      <td>2918100</td>\n",
       "      <td>Jeremoabo</td>\n",
       "      <td>29</td>\n",
       "      <td>BA</td>\n",
       "      <td>20.0</td>\n",
       "      <td>M</td>\n",
       "      <td>0.0</td>\n",
       "      <td>0</td>\n",
       "      <td>...</td>\n",
       "      <td>A</td>\n",
       "      <td>B</td>\n",
       "      <td>A</td>\n",
       "      <td>A</td>\n",
       "      <td>B</td>\n",
       "      <td>A</td>\n",
       "      <td>B</td>\n",
       "      <td>B</td>\n",
       "      <td>B</td>\n",
       "      <td>A</td>\n",
       "    </tr>\n",
       "  </tbody>\n",
       "</table>\n",
       "<p>5 rows × 137 columns</p>\n",
       "</div>"
      ],
      "text/plain": [
       "   NU_INSCRICAO  NU_ANO  CO_MUNICIPIO_RESIDENCIA NO_MUNICIPIO_RESIDENCIA  \\\n",
       "0  180008202043    2018                  5300108                Brasília   \n",
       "1  180007197856    2018                  2111102      São João dos Patos   \n",
       "2  180008517434    2018                  3530607         Mogi das Cruzes   \n",
       "3  180007661228    2018                  2916401              Itapetinga   \n",
       "4  180008787987    2018                  2918100               Jeremoabo   \n",
       "\n",
       "   CO_UF_RESIDENCIA SG_UF_RESIDENCIA  NU_IDADE TP_SEXO  TP_ESTADO_CIVIL  \\\n",
       "0                53               DF      44.0       M              1.0   \n",
       "1                21               MA      23.0       F              0.0   \n",
       "2                35               SP      23.0       F              0.0   \n",
       "3                29               BA      26.0       F              0.0   \n",
       "4                29               BA      20.0       M              0.0   \n",
       "\n",
       "   TP_COR_RACA  ...  Q018  Q019 Q020  Q021 Q022  Q023  Q024  Q025  Q026  Q027  \n",
       "0            1  ...     A     A    A     A    A     A     A     A     B     A  \n",
       "1            3  ...     A     B    A     A    B     A     A     A     A     A  \n",
       "2            1  ...     A     B    A     A    B     B     B     B     A     A  \n",
       "3            3  ...     A     B    B     A    C     A     B     B     A     A  \n",
       "4            0  ...     A     B    A     A    B     A     B     B     B     A  \n",
       "\n",
       "[5 rows x 137 columns]"
      ]
     },
     "execution_count": 7,
     "metadata": {},
     "output_type": "execute_result"
    }
   ],
   "source": [
    "data.head()"
   ]
  },
  {
   "cell_type": "code",
   "execution_count": 8,
   "id": "9708a021",
   "metadata": {},
   "outputs": [
    {
     "name": "stdout",
     "output_type": "stream",
     "text": [
      "<class 'pandas.core.frame.DataFrame'>\n",
      "RangeIndex: 5513747 entries, 0 to 5513746\n",
      "Columns: 137 entries, NU_INSCRICAO to Q027\n",
      "dtypes: float64(30), int64(64), object(43)\n",
      "memory usage: 5.6+ GB\n"
     ]
    }
   ],
   "source": [
    "data.info()"
   ]
  },
  {
   "cell_type": "code",
   "execution_count": 9,
   "id": "91aca261",
   "metadata": {},
   "outputs": [
    {
     "data": {
      "text/plain": [
       "NU_INSCRICAO               0\n",
       "NU_ANO                     0\n",
       "CO_MUNICIPIO_RESIDENCIA    0\n",
       "NO_MUNICIPIO_RESIDENCIA    0\n",
       "CO_UF_RESIDENCIA           0\n",
       "                          ..\n",
       "Q023                       0\n",
       "Q024                       0\n",
       "Q025                       0\n",
       "Q026                       4\n",
       "Q027                       0\n",
       "Length: 137, dtype: int64"
      ]
     },
     "execution_count": 9,
     "metadata": {},
     "output_type": "execute_result"
    }
   ],
   "source": [
    "data.isna().sum()"
   ]
  },
  {
   "cell_type": "code",
   "execution_count": 10,
   "id": "cbb5b1a8",
   "metadata": {},
   "outputs": [
    {
     "data": {
      "text/html": [
       "<div>\n",
       "<style scoped>\n",
       "    .dataframe tbody tr th:only-of-type {\n",
       "        vertical-align: middle;\n",
       "    }\n",
       "\n",
       "    .dataframe tbody tr th {\n",
       "        vertical-align: top;\n",
       "    }\n",
       "\n",
       "    .dataframe thead th {\n",
       "        text-align: right;\n",
       "    }\n",
       "</style>\n",
       "<table border=\"1\" class=\"dataframe\">\n",
       "  <thead>\n",
       "    <tr style=\"text-align: right;\">\n",
       "      <th></th>\n",
       "      <th>NU_INSCRICAO</th>\n",
       "      <th>NU_ANO</th>\n",
       "      <th>CO_MUNICIPIO_RESIDENCIA</th>\n",
       "      <th>CO_UF_RESIDENCIA</th>\n",
       "      <th>NU_IDADE</th>\n",
       "      <th>TP_ESTADO_CIVIL</th>\n",
       "      <th>TP_COR_RACA</th>\n",
       "      <th>TP_NACIONALIDADE</th>\n",
       "      <th>CO_MUNICIPIO_NASCIMENTO</th>\n",
       "      <th>CO_UF_NASCIMENTO</th>\n",
       "      <th>...</th>\n",
       "      <th>NU_NOTA_MT</th>\n",
       "      <th>TP_LINGUA</th>\n",
       "      <th>TP_STATUS_REDACAO</th>\n",
       "      <th>NU_NOTA_COMP1</th>\n",
       "      <th>NU_NOTA_COMP2</th>\n",
       "      <th>NU_NOTA_COMP3</th>\n",
       "      <th>NU_NOTA_COMP4</th>\n",
       "      <th>NU_NOTA_COMP5</th>\n",
       "      <th>NU_NOTA_REDACAO</th>\n",
       "      <th>Q005</th>\n",
       "    </tr>\n",
       "  </thead>\n",
       "  <tbody>\n",
       "    <tr>\n",
       "      <th>count</th>\n",
       "      <td>5.513747e+06</td>\n",
       "      <td>5513747.0</td>\n",
       "      <td>5.513747e+06</td>\n",
       "      <td>5.513747e+06</td>\n",
       "      <td>5.513650e+06</td>\n",
       "      <td>5.296110e+06</td>\n",
       "      <td>5.513747e+06</td>\n",
       "      <td>5.513747e+06</td>\n",
       "      <td>5.327964e+06</td>\n",
       "      <td>5.327964e+06</td>\n",
       "      <td>...</td>\n",
       "      <td>3.905099e+06</td>\n",
       "      <td>5.513747e+06</td>\n",
       "      <td>4.148264e+06</td>\n",
       "      <td>4.148264e+06</td>\n",
       "      <td>4.148264e+06</td>\n",
       "      <td>4.148264e+06</td>\n",
       "      <td>4.148264e+06</td>\n",
       "      <td>4.148264e+06</td>\n",
       "      <td>4.148264e+06</td>\n",
       "      <td>5.513747e+06</td>\n",
       "    </tr>\n",
       "    <tr>\n",
       "      <th>mean</th>\n",
       "      <td>1.800104e+11</td>\n",
       "      <td>2018.0</td>\n",
       "      <td>3.114727e+06</td>\n",
       "      <td>3.099416e+01</td>\n",
       "      <td>2.237222e+01</td>\n",
       "      <td>1.197082e-01</td>\n",
       "      <td>2.126976e+00</td>\n",
       "      <td>1.038818e+00</td>\n",
       "      <td>3.082742e+06</td>\n",
       "      <td>3.067302e+01</td>\n",
       "      <td>...</td>\n",
       "      <td>5.354056e+02</td>\n",
       "      <td>5.330678e-01</td>\n",
       "      <td>1.105180e+00</td>\n",
       "      <td>1.217063e+02</td>\n",
       "      <td>1.015516e+02</td>\n",
       "      <td>9.700069e+01</td>\n",
       "      <td>1.169476e+02</td>\n",
       "      <td>7.147451e+01</td>\n",
       "      <td>5.086806e+02</td>\n",
       "      <td>3.896592e+00</td>\n",
       "    </tr>\n",
       "    <tr>\n",
       "      <th>std</th>\n",
       "      <td>1.917637e+06</td>\n",
       "      <td>0.0</td>\n",
       "      <td>9.930315e+05</td>\n",
       "      <td>9.901276e+00</td>\n",
       "      <td>7.594597e+00</td>\n",
       "      <td>3.752605e-01</td>\n",
       "      <td>1.017869e+00</td>\n",
       "      <td>2.324415e-01</td>\n",
       "      <td>9.758309e+05</td>\n",
       "      <td>9.724860e+00</td>\n",
       "      <td>...</td>\n",
       "      <td>1.031512e+02</td>\n",
       "      <td>4.989054e-01</td>\n",
       "      <td>6.928336e-01</td>\n",
       "      <td>3.141267e+01</td>\n",
       "      <td>4.964719e+01</td>\n",
       "      <td>4.707275e+01</td>\n",
       "      <td>3.526688e+01</td>\n",
       "      <td>5.228969e+01</td>\n",
       "      <td>1.874965e+02</td>\n",
       "      <td>1.508600e+00</td>\n",
       "    </tr>\n",
       "    <tr>\n",
       "      <th>min</th>\n",
       "      <td>1.800072e+11</td>\n",
       "      <td>2018.0</td>\n",
       "      <td>1.100015e+06</td>\n",
       "      <td>1.100000e+01</td>\n",
       "      <td>1.000000e+01</td>\n",
       "      <td>0.000000e+00</td>\n",
       "      <td>0.000000e+00</td>\n",
       "      <td>0.000000e+00</td>\n",
       "      <td>1.100015e+06</td>\n",
       "      <td>1.100000e+01</td>\n",
       "      <td>...</td>\n",
       "      <td>0.000000e+00</td>\n",
       "      <td>0.000000e+00</td>\n",
       "      <td>1.000000e+00</td>\n",
       "      <td>0.000000e+00</td>\n",
       "      <td>0.000000e+00</td>\n",
       "      <td>0.000000e+00</td>\n",
       "      <td>0.000000e+00</td>\n",
       "      <td>0.000000e+00</td>\n",
       "      <td>0.000000e+00</td>\n",
       "      <td>1.000000e+00</td>\n",
       "    </tr>\n",
       "    <tr>\n",
       "      <th>25%</th>\n",
       "      <td>1.800088e+11</td>\n",
       "      <td>2018.0</td>\n",
       "      <td>2.408102e+06</td>\n",
       "      <td>2.400000e+01</td>\n",
       "      <td>1.800000e+01</td>\n",
       "      <td>0.000000e+00</td>\n",
       "      <td>1.000000e+00</td>\n",
       "      <td>1.000000e+00</td>\n",
       "      <td>2.408003e+06</td>\n",
       "      <td>2.400000e+01</td>\n",
       "      <td>...</td>\n",
       "      <td>4.553000e+02</td>\n",
       "      <td>0.000000e+00</td>\n",
       "      <td>1.000000e+00</td>\n",
       "      <td>1.200000e+02</td>\n",
       "      <td>4.000000e+01</td>\n",
       "      <td>4.000000e+01</td>\n",
       "      <td>1.000000e+02</td>\n",
       "      <td>4.000000e+01</td>\n",
       "      <td>3.600000e+02</td>\n",
       "      <td>3.000000e+00</td>\n",
       "    </tr>\n",
       "    <tr>\n",
       "      <th>50%</th>\n",
       "      <td>1.800104e+11</td>\n",
       "      <td>2018.0</td>\n",
       "      <td>3.136702e+06</td>\n",
       "      <td>3.100000e+01</td>\n",
       "      <td>1.900000e+01</td>\n",
       "      <td>0.000000e+00</td>\n",
       "      <td>2.000000e+00</td>\n",
       "      <td>1.000000e+00</td>\n",
       "      <td>3.123205e+06</td>\n",
       "      <td>3.100000e+01</td>\n",
       "      <td>...</td>\n",
       "      <td>5.166000e+02</td>\n",
       "      <td>1.000000e+00</td>\n",
       "      <td>1.000000e+00</td>\n",
       "      <td>1.200000e+02</td>\n",
       "      <td>1.200000e+02</td>\n",
       "      <td>1.200000e+02</td>\n",
       "      <td>1.200000e+02</td>\n",
       "      <td>6.000000e+01</td>\n",
       "      <td>5.200000e+02</td>\n",
       "      <td>4.000000e+00</td>\n",
       "    </tr>\n",
       "    <tr>\n",
       "      <th>75%</th>\n",
       "      <td>1.800120e+11</td>\n",
       "      <td>2018.0</td>\n",
       "      <td>3.550308e+06</td>\n",
       "      <td>3.500000e+01</td>\n",
       "      <td>2.400000e+01</td>\n",
       "      <td>0.000000e+00</td>\n",
       "      <td>3.000000e+00</td>\n",
       "      <td>1.000000e+00</td>\n",
       "      <td>3.550308e+06</td>\n",
       "      <td>3.500000e+01</td>\n",
       "      <td>...</td>\n",
       "      <td>6.007000e+02</td>\n",
       "      <td>1.000000e+00</td>\n",
       "      <td>1.000000e+00</td>\n",
       "      <td>1.400000e+02</td>\n",
       "      <td>1.200000e+02</td>\n",
       "      <td>1.200000e+02</td>\n",
       "      <td>1.400000e+02</td>\n",
       "      <td>1.200000e+02</td>\n",
       "      <td>6.200000e+02</td>\n",
       "      <td>5.000000e+00</td>\n",
       "    </tr>\n",
       "    <tr>\n",
       "      <th>max</th>\n",
       "      <td>1.800140e+11</td>\n",
       "      <td>2018.0</td>\n",
       "      <td>5.300108e+06</td>\n",
       "      <td>5.300000e+01</td>\n",
       "      <td>9.800000e+01</td>\n",
       "      <td>3.000000e+00</td>\n",
       "      <td>5.000000e+00</td>\n",
       "      <td>4.000000e+00</td>\n",
       "      <td>5.300108e+06</td>\n",
       "      <td>5.300000e+01</td>\n",
       "      <td>...</td>\n",
       "      <td>9.961000e+02</td>\n",
       "      <td>1.000000e+00</td>\n",
       "      <td>9.000000e+00</td>\n",
       "      <td>2.000000e+02</td>\n",
       "      <td>2.000000e+02</td>\n",
       "      <td>2.000000e+02</td>\n",
       "      <td>2.000000e+02</td>\n",
       "      <td>2.000000e+02</td>\n",
       "      <td>1.000000e+03</td>\n",
       "      <td>2.000000e+01</td>\n",
       "    </tr>\n",
       "  </tbody>\n",
       "</table>\n",
       "<p>8 rows × 94 columns</p>\n",
       "</div>"
      ],
      "text/plain": [
       "       NU_INSCRICAO     NU_ANO  CO_MUNICIPIO_RESIDENCIA  CO_UF_RESIDENCIA  \\\n",
       "count  5.513747e+06  5513747.0             5.513747e+06      5.513747e+06   \n",
       "mean   1.800104e+11     2018.0             3.114727e+06      3.099416e+01   \n",
       "std    1.917637e+06        0.0             9.930315e+05      9.901276e+00   \n",
       "min    1.800072e+11     2018.0             1.100015e+06      1.100000e+01   \n",
       "25%    1.800088e+11     2018.0             2.408102e+06      2.400000e+01   \n",
       "50%    1.800104e+11     2018.0             3.136702e+06      3.100000e+01   \n",
       "75%    1.800120e+11     2018.0             3.550308e+06      3.500000e+01   \n",
       "max    1.800140e+11     2018.0             5.300108e+06      5.300000e+01   \n",
       "\n",
       "           NU_IDADE  TP_ESTADO_CIVIL   TP_COR_RACA  TP_NACIONALIDADE  \\\n",
       "count  5.513650e+06     5.296110e+06  5.513747e+06      5.513747e+06   \n",
       "mean   2.237222e+01     1.197082e-01  2.126976e+00      1.038818e+00   \n",
       "std    7.594597e+00     3.752605e-01  1.017869e+00      2.324415e-01   \n",
       "min    1.000000e+01     0.000000e+00  0.000000e+00      0.000000e+00   \n",
       "25%    1.800000e+01     0.000000e+00  1.000000e+00      1.000000e+00   \n",
       "50%    1.900000e+01     0.000000e+00  2.000000e+00      1.000000e+00   \n",
       "75%    2.400000e+01     0.000000e+00  3.000000e+00      1.000000e+00   \n",
       "max    9.800000e+01     3.000000e+00  5.000000e+00      4.000000e+00   \n",
       "\n",
       "       CO_MUNICIPIO_NASCIMENTO  CO_UF_NASCIMENTO  ...    NU_NOTA_MT  \\\n",
       "count             5.327964e+06      5.327964e+06  ...  3.905099e+06   \n",
       "mean              3.082742e+06      3.067302e+01  ...  5.354056e+02   \n",
       "std               9.758309e+05      9.724860e+00  ...  1.031512e+02   \n",
       "min               1.100015e+06      1.100000e+01  ...  0.000000e+00   \n",
       "25%               2.408003e+06      2.400000e+01  ...  4.553000e+02   \n",
       "50%               3.123205e+06      3.100000e+01  ...  5.166000e+02   \n",
       "75%               3.550308e+06      3.500000e+01  ...  6.007000e+02   \n",
       "max               5.300108e+06      5.300000e+01  ...  9.961000e+02   \n",
       "\n",
       "          TP_LINGUA  TP_STATUS_REDACAO  NU_NOTA_COMP1  NU_NOTA_COMP2  \\\n",
       "count  5.513747e+06       4.148264e+06   4.148264e+06   4.148264e+06   \n",
       "mean   5.330678e-01       1.105180e+00   1.217063e+02   1.015516e+02   \n",
       "std    4.989054e-01       6.928336e-01   3.141267e+01   4.964719e+01   \n",
       "min    0.000000e+00       1.000000e+00   0.000000e+00   0.000000e+00   \n",
       "25%    0.000000e+00       1.000000e+00   1.200000e+02   4.000000e+01   \n",
       "50%    1.000000e+00       1.000000e+00   1.200000e+02   1.200000e+02   \n",
       "75%    1.000000e+00       1.000000e+00   1.400000e+02   1.200000e+02   \n",
       "max    1.000000e+00       9.000000e+00   2.000000e+02   2.000000e+02   \n",
       "\n",
       "       NU_NOTA_COMP3  NU_NOTA_COMP4  NU_NOTA_COMP5  NU_NOTA_REDACAO  \\\n",
       "count   4.148264e+06   4.148264e+06   4.148264e+06     4.148264e+06   \n",
       "mean    9.700069e+01   1.169476e+02   7.147451e+01     5.086806e+02   \n",
       "std     4.707275e+01   3.526688e+01   5.228969e+01     1.874965e+02   \n",
       "min     0.000000e+00   0.000000e+00   0.000000e+00     0.000000e+00   \n",
       "25%     4.000000e+01   1.000000e+02   4.000000e+01     3.600000e+02   \n",
       "50%     1.200000e+02   1.200000e+02   6.000000e+01     5.200000e+02   \n",
       "75%     1.200000e+02   1.400000e+02   1.200000e+02     6.200000e+02   \n",
       "max     2.000000e+02   2.000000e+02   2.000000e+02     1.000000e+03   \n",
       "\n",
       "               Q005  \n",
       "count  5.513747e+06  \n",
       "mean   3.896592e+00  \n",
       "std    1.508600e+00  \n",
       "min    1.000000e+00  \n",
       "25%    3.000000e+00  \n",
       "50%    4.000000e+00  \n",
       "75%    5.000000e+00  \n",
       "max    2.000000e+01  \n",
       "\n",
       "[8 rows x 94 columns]"
      ]
     },
     "execution_count": 10,
     "metadata": {},
     "output_type": "execute_result"
    }
   ],
   "source": [
    "data.describe()"
   ]
  },
  {
   "cell_type": "markdown",
   "id": "f99ec3e8",
   "metadata": {},
   "source": [
    "### Listing columns"
   ]
  },
  {
   "cell_type": "code",
   "execution_count": 11,
   "id": "0dec86ae",
   "metadata": {},
   "outputs": [
    {
     "data": {
      "text/plain": [
       "array(['NU_INSCRICAO', 'NU_ANO', 'CO_MUNICIPIO_RESIDENCIA',\n",
       "       'NO_MUNICIPIO_RESIDENCIA', 'CO_UF_RESIDENCIA', 'SG_UF_RESIDENCIA',\n",
       "       'NU_IDADE', 'TP_SEXO', 'TP_ESTADO_CIVIL', 'TP_COR_RACA',\n",
       "       'TP_NACIONALIDADE', 'CO_MUNICIPIO_NASCIMENTO',\n",
       "       'NO_MUNICIPIO_NASCIMENTO', 'CO_UF_NASCIMENTO', 'SG_UF_NASCIMENTO',\n",
       "       'TP_ST_CONCLUSAO', 'TP_ANO_CONCLUIU', 'TP_ESCOLA', 'TP_ENSINO',\n",
       "       'IN_TREINEIRO', 'CO_ESCOLA', 'CO_MUNICIPIO_ESC',\n",
       "       'NO_MUNICIPIO_ESC', 'CO_UF_ESC', 'SG_UF_ESC',\n",
       "       'TP_DEPENDENCIA_ADM_ESC', 'TP_LOCALIZACAO_ESC', 'TP_SIT_FUNC_ESC',\n",
       "       'IN_BAIXA_VISAO', 'IN_CEGUEIRA', 'IN_SURDEZ',\n",
       "       'IN_DEFICIENCIA_AUDITIVA', 'IN_SURDO_CEGUEIRA',\n",
       "       'IN_DEFICIENCIA_FISICA', 'IN_DEFICIENCIA_MENTAL',\n",
       "       'IN_DEFICIT_ATENCAO', 'IN_DISLEXIA', 'IN_DISCALCULIA',\n",
       "       'IN_AUTISMO', 'IN_VISAO_MONOCULAR', 'IN_OUTRA_DEF', 'IN_GESTANTE',\n",
       "       'IN_LACTANTE', 'IN_IDOSO', 'IN_ESTUDA_CLASSE_HOSPITALAR',\n",
       "       'IN_SEM_RECURSO', 'IN_BRAILLE', 'IN_AMPLIADA_24', 'IN_AMPLIADA_18',\n",
       "       'IN_LEDOR', 'IN_ACESSO', 'IN_TRANSCRICAO', 'IN_LIBRAS',\n",
       "       'IN_LEITURA_LABIAL', 'IN_MESA_CADEIRA_RODAS',\n",
       "       'IN_MESA_CADEIRA_SEPARADA', 'IN_APOIO_PERNA', 'IN_GUIA_INTERPRETE',\n",
       "       'IN_COMPUTADOR', 'IN_CADEIRA_ESPECIAL', 'IN_CADEIRA_CANHOTO',\n",
       "       'IN_CADEIRA_ACOLCHOADA', 'IN_PROVA_DEITADO', 'IN_MOBILIARIO_OBESO',\n",
       "       'IN_LAMINA_OVERLAY', 'IN_PROTETOR_AURICULAR', 'IN_MEDIDOR_GLICOSE',\n",
       "       'IN_MAQUINA_BRAILE', 'IN_SOROBAN', 'IN_MARCA_PASSO', 'IN_SONDA',\n",
       "       'IN_MEDICAMENTOS', 'IN_SALA_INDIVIDUAL', 'IN_SALA_ESPECIAL',\n",
       "       'IN_SALA_ACOMPANHANTE', 'IN_MOBILIARIO_ESPECIFICO',\n",
       "       'IN_MATERIAL_ESPECIFICO', 'IN_NOME_SOCIAL', 'CO_MUNICIPIO_PROVA',\n",
       "       'NO_MUNICIPIO_PROVA', 'CO_UF_PROVA', 'SG_UF_PROVA',\n",
       "       'TP_PRESENCA_CN', 'TP_PRESENCA_CH', 'TP_PRESENCA_LC',\n",
       "       'TP_PRESENCA_MT', 'CO_PROVA_CN', 'CO_PROVA_CH', 'CO_PROVA_LC',\n",
       "       'CO_PROVA_MT', 'NU_NOTA_CN', 'NU_NOTA_CH', 'NU_NOTA_LC',\n",
       "       'NU_NOTA_MT', 'TX_RESPOSTAS_CN', 'TX_RESPOSTAS_CH',\n",
       "       'TX_RESPOSTAS_LC', 'TX_RESPOSTAS_MT', 'TP_LINGUA',\n",
       "       'TX_GABARITO_CN', 'TX_GABARITO_CH', 'TX_GABARITO_LC',\n",
       "       'TX_GABARITO_MT', 'TP_STATUS_REDACAO', 'NU_NOTA_COMP1',\n",
       "       'NU_NOTA_COMP2', 'NU_NOTA_COMP3', 'NU_NOTA_COMP4', 'NU_NOTA_COMP5',\n",
       "       'NU_NOTA_REDACAO', 'Q001', 'Q002', 'Q003', 'Q004', 'Q005', 'Q006',\n",
       "       'Q007', 'Q008', 'Q009', 'Q010', 'Q011', 'Q012', 'Q013', 'Q014',\n",
       "       'Q015', 'Q016', 'Q017', 'Q018', 'Q019', 'Q020', 'Q021', 'Q022',\n",
       "       'Q023', 'Q024', 'Q025', 'Q026', 'Q027'], dtype=object)"
      ]
     },
     "execution_count": 11,
     "metadata": {},
     "output_type": "execute_result"
    }
   ],
   "source": [
    "data.columns.values"
   ]
  },
  {
   "cell_type": "markdown",
   "id": "5458aa0c",
   "metadata": {},
   "source": [
    "## Factor 1: Geographical belongingness"
   ]
  },
  {
   "cell_type": "markdown",
   "id": "2276e7c4",
   "metadata": {},
   "source": [
    "### Conferindo cidade e estado de origem dos participantes"
   ]
  },
  {
   "cell_type": "code",
   "execution_count": 12,
   "id": "5da38051",
   "metadata": {},
   "outputs": [
    {
     "data": {
      "text/html": [
       "<div>\n",
       "<style scoped>\n",
       "    .dataframe tbody tr th:only-of-type {\n",
       "        vertical-align: middle;\n",
       "    }\n",
       "\n",
       "    .dataframe tbody tr th {\n",
       "        vertical-align: top;\n",
       "    }\n",
       "\n",
       "    .dataframe thead th {\n",
       "        text-align: right;\n",
       "    }\n",
       "</style>\n",
       "<table border=\"1\" class=\"dataframe\">\n",
       "  <thead>\n",
       "    <tr style=\"text-align: right;\">\n",
       "      <th></th>\n",
       "      <th>SG_UF_RESIDENCIA</th>\n",
       "      <th>NO_MUNICIPIO_RESIDENCIA</th>\n",
       "    </tr>\n",
       "  </thead>\n",
       "  <tbody>\n",
       "    <tr>\n",
       "      <th>0</th>\n",
       "      <td>DF</td>\n",
       "      <td>Brasília</td>\n",
       "    </tr>\n",
       "    <tr>\n",
       "      <th>1</th>\n",
       "      <td>MA</td>\n",
       "      <td>São João dos Patos</td>\n",
       "    </tr>\n",
       "    <tr>\n",
       "      <th>2</th>\n",
       "      <td>SP</td>\n",
       "      <td>Mogi das Cruzes</td>\n",
       "    </tr>\n",
       "    <tr>\n",
       "      <th>3</th>\n",
       "      <td>BA</td>\n",
       "      <td>Itapetinga</td>\n",
       "    </tr>\n",
       "    <tr>\n",
       "      <th>4</th>\n",
       "      <td>BA</td>\n",
       "      <td>Jeremoabo</td>\n",
       "    </tr>\n",
       "    <tr>\n",
       "      <th>...</th>\n",
       "      <td>...</td>\n",
       "      <td>...</td>\n",
       "    </tr>\n",
       "    <tr>\n",
       "      <th>5513742</th>\n",
       "      <td>RJ</td>\n",
       "      <td>Rio de Janeiro</td>\n",
       "    </tr>\n",
       "    <tr>\n",
       "      <th>5513743</th>\n",
       "      <td>AM</td>\n",
       "      <td>Manaus</td>\n",
       "    </tr>\n",
       "    <tr>\n",
       "      <th>5513744</th>\n",
       "      <td>SP</td>\n",
       "      <td>São Paulo</td>\n",
       "    </tr>\n",
       "    <tr>\n",
       "      <th>5513745</th>\n",
       "      <td>SP</td>\n",
       "      <td>Campinas</td>\n",
       "    </tr>\n",
       "    <tr>\n",
       "      <th>5513746</th>\n",
       "      <td>MG</td>\n",
       "      <td>Governador Valadares</td>\n",
       "    </tr>\n",
       "  </tbody>\n",
       "</table>\n",
       "<p>5513747 rows × 2 columns</p>\n",
       "</div>"
      ],
      "text/plain": [
       "        SG_UF_RESIDENCIA NO_MUNICIPIO_RESIDENCIA\n",
       "0                     DF                Brasília\n",
       "1                     MA      São João dos Patos\n",
       "2                     SP         Mogi das Cruzes\n",
       "3                     BA              Itapetinga\n",
       "4                     BA               Jeremoabo\n",
       "...                  ...                     ...\n",
       "5513742               RJ          Rio de Janeiro\n",
       "5513743               AM                  Manaus\n",
       "5513744               SP               São Paulo\n",
       "5513745               SP                Campinas\n",
       "5513746               MG    Governador Valadares\n",
       "\n",
       "[5513747 rows x 2 columns]"
      ]
     },
     "execution_count": 12,
     "metadata": {},
     "output_type": "execute_result"
    }
   ],
   "source": [
    "data[['SG_UF_RESIDENCIA','NO_MUNICIPIO_RESIDENCIA']]"
   ]
  },
  {
   "cell_type": "markdown",
   "id": "a3ae9b86",
   "metadata": {},
   "source": [
    "### Conferindo Estados que tem pelo menos 1 participante"
   ]
  },
  {
   "cell_type": "code",
   "execution_count": 13,
   "id": "a8325b1b",
   "metadata": {},
   "outputs": [
    {
     "data": {
      "text/plain": [
       "array(['DF', 'MA', 'SP', 'BA', 'PB', 'MG', 'PI', 'CE', 'MT', 'RN', 'TO',\n",
       "       'RS', 'RR', 'GO', 'PR', 'MS', 'RJ', 'PE', 'ES', 'SC', 'SE', 'PA',\n",
       "       'AC', 'RO', 'AM', 'AL', 'AP'], dtype=object)"
      ]
     },
     "execution_count": 13,
     "metadata": {},
     "output_type": "execute_result"
    }
   ],
   "source": [
    "data['SG_UF_RESIDENCIA'].unique()"
   ]
  },
  {
   "cell_type": "markdown",
   "id": "1bc75730",
   "metadata": {},
   "source": [
    "### Total de alunos por Unidade Federativa"
   ]
  },
  {
   "cell_type": "markdown",
   "id": "121aec4f",
   "metadata": {},
   "source": [
    "To-do: Fazer uma mapa com os quantitaivos (ou percentuais) de alunos por Estado ou por região"
   ]
  },
  {
   "cell_type": "code",
   "execution_count": 14,
   "id": "74cbf96d",
   "metadata": {},
   "outputs": [
    {
     "data": {
      "text/plain": [
       "SP    934174\n",
       "MG    587471\n",
       "BA    401328\n",
       "RJ    382078\n",
       "CE    329406\n",
       "PE    304302\n",
       "PA    283861\n",
       "RS    243555\n",
       "PR    236533\n",
       "MA    218462\n",
       "GO    191029\n",
       "PB    152049\n",
       "RN    124039\n",
       "SC    123933\n",
       "AM    123755\n",
       "PI    118350\n",
       "ES    112173\n",
       "DF    104531\n",
       "MT     96762\n",
       "AL     89670\n",
       "SE     74633\n",
       "MS     72319\n",
       "RO     62266\n",
       "TO     55145\n",
       "AP     40109\n",
       "AC     37785\n",
       "RR     14029\n",
       "Name: SG_UF_RESIDENCIA, dtype: int64"
      ]
     },
     "execution_count": 14,
     "metadata": {},
     "output_type": "execute_result"
    }
   ],
   "source": [
    "data['SG_UF_RESIDENCIA'].value_counts()"
   ]
  },
  {
   "cell_type": "code",
   "execution_count": 15,
   "id": "dc429ac4",
   "metadata": {},
   "outputs": [
    {
     "name": "stderr",
     "output_type": "stream",
     "text": [
      "C:\\Users\\cof2\\anaconda3\\envs\\ufpe\\lib\\site-packages\\seaborn\\_decorators.py:36: FutureWarning: Pass the following variables as keyword args: x, y. From version 0.12, the only valid positional argument will be `data`, and passing other arguments without an explicit keyword will result in an error or misinterpretation.\n",
      "  warnings.warn(\n"
     ]
    },
    {
     "data": {
      "text/plain": [
       "Text(0, 0.5, 'Participantes')"
      ]
     },
     "execution_count": 15,
     "metadata": {},
     "output_type": "execute_result"
    },
    {
     "data": {
      "image/png": "[encoded data removed]",
      "text/plain": [
       "<Figure size 1440x360 with 1 Axes>"
      ]
     },
     "metadata": {
      "needs_background": "light"
     },
     "output_type": "display_data"
    }
   ],
   "source": [
    "# pandas\n",
    "# data['SG_UF_RESIDENCIA'].value_counts().plot.bar(figsize=(20,5))\n",
    "# plt.title('Distribuição de Participantes do ENEM por UF', fontsize=30)\n",
    "# plt.xlabel('UF', fontsize=20)\n",
    "# plt.ylabel('Participantes', fontsize=20)\n",
    "\n",
    "plt.figure(figsize=(20,5))\n",
    "sns.barplot(data['SG_UF_RESIDENCIA'].value_counts().index,\n",
    "            data['SG_UF_RESIDENCIA'].value_counts().values)\n",
    "plt.title('Participantes do ENEM por UF', fontsize=30)\n",
    "plt.xlabel('Unidade Federativa (UF)', fontsize=20)\n",
    "plt.ylabel('Participantes', fontsize=20)"
   ]
  },
  {
   "cell_type": "markdown",
   "id": "7f4ec28f",
   "metadata": {},
   "source": [
    "### Vemos que SP é o Estado com maior número de alunos. E Roraima tem o menor número de alunos "
   ]
  },
  {
   "cell_type": "markdown",
   "id": "eb76a1ad",
   "metadata": {},
   "source": [
    "### Plotando a proporção de participantes do ENEM por UF do total de participantes"
   ]
  },
  {
   "cell_type": "code",
   "execution_count": 16,
   "id": "531a2a2a",
   "metadata": {},
   "outputs": [
    {
     "data": {
      "text/plain": [
       "Text(0, 0.5, 'Participantes')"
      ]
     },
     "execution_count": 16,
     "metadata": {},
     "output_type": "execute_result"
    },
    {
     "data": {
      "image/png": "[encoded data removed]",
      "text/plain": [
       "<Figure size 1440x360 with 1 Axes>"
      ]
     },
     "metadata": {
      "needs_background": "light"
     },
     "output_type": "display_data"
    }
   ],
   "source": [
    "prop_UF = data['SG_UF_RESIDENCIA'].value_counts()/data['SG_UF_RESIDENCIA'].shape[0]*100\n",
    "prop_UF.plot.bar(figsize=(20,5))\n",
    "plt.title('% de Participantes do ENEM por UF', fontsize=30)\n",
    "plt.xlabel('UF', fontsize=20)\n",
    "plt.ylabel('Participantes', fontsize=20)"
   ]
  },
  {
   "cell_type": "markdown",
   "id": "4a2f14e0",
   "metadata": {},
   "source": [
    "## Factor 2: Age"
   ]
  },
  {
   "cell_type": "markdown",
   "id": "69b716b5",
   "metadata": {},
   "source": [
    "### Conferindo a distribuição dos alunos por faixa etária"
   ]
  },
  {
   "cell_type": "code",
   "execution_count": 17,
   "id": "9ae82d9f",
   "metadata": {},
   "outputs": [
    {
     "data": {
      "text/plain": [
       "10.0       6\n",
       "11.0      11\n",
       "12.0      40\n",
       "13.0     272\n",
       "14.0    5625\n",
       "        ... \n",
       "87.0       2\n",
       "88.0       1\n",
       "89.0       1\n",
       "90.0       1\n",
       "98.0       1\n",
       "Name: NU_IDADE, Length: 82, dtype: int64"
      ]
     },
     "execution_count": 17,
     "metadata": {},
     "output_type": "execute_result"
    }
   ],
   "source": [
    "data['NU_IDADE'].value_counts().sort_index()"
   ]
  },
  {
   "cell_type": "code",
   "execution_count": 18,
   "id": "a1262d05",
   "metadata": {},
   "outputs": [
    {
     "name": "stderr",
     "output_type": "stream",
     "text": [
      "C:\\Users\\cof2\\anaconda3\\envs\\ufpe\\lib\\site-packages\\seaborn\\distributions.py:2619: FutureWarning: `distplot` is a deprecated function and will be removed in a future version. Please adapt your code to use either `displot` (a figure-level function with similar flexibility) or `histplot` (an axes-level function for histograms).\n",
      "  warnings.warn(msg, FutureWarning)\n"
     ]
    },
    {
     "data": {
      "image/png": "[encoded data removed]",
      "text/plain": [
       "<Figure size 1440x360 with 1 Axes>"
      ]
     },
     "metadata": {
      "needs_background": "light"
     },
     "output_type": "display_data"
    },
    {
     "data": {
      "image/png": "[encoded data removed]",
      "text/plain": [
       "<Figure size 1440x360 with 1 Axes>"
      ]
     },
     "metadata": {
      "needs_background": "light"
     },
     "output_type": "display_data"
    }
   ],
   "source": [
    "## Gráfico de Barras \n",
    "data['NU_IDADE'].value_counts().sort_index().plot.bar(figsize=(20,5))\n",
    "plt.xlabel('Idade', fontsize=20)\n",
    "plt.ylabel('Qtd. Participantes', fontsize=20)\n",
    "plt.title('Faixa etária dos participantes do ENEM 2019', fontsize=25)\n",
    "\n",
    "## Gráficos tipo Histograma\n",
    "plt.figure(figsize=(20,5))\n",
    "sns.distplot(data['NU_IDADE'], kde=False)\n",
    "plt.xlabel('Idade', fontsize=20)\n",
    "plt.ylabel('Qtd. Participantes', fontsize=20)\n",
    "plt.title('Faixa etária dos participantes do ENEM 2019', fontsize=25)\n",
    "plt.grid()"
   ]
  },
  {
   "cell_type": "markdown",
   "id": "d9004fef",
   "metadata": {},
   "source": [
    "### Podemos observar que a maior parte dos alunos que fazem o ENEM estão entre 16 e 25 anos"
   ]
  },
  {
   "cell_type": "code",
   "execution_count": 19,
   "id": "1de0fb30",
   "metadata": {},
   "outputs": [
    {
     "data": {
      "image/png": "[encoded data removed]",
      "text/plain": [
       "<Figure size 1440x360 with 1 Axes>"
      ]
     },
     "metadata": {
      "needs_background": "light"
     },
     "output_type": "display_data"
    }
   ],
   "source": [
    "#Seaborn\n",
    "plt.figure(figsize=(20,5))\n",
    "sns.distplot(data['NU_IDADE'], kde=False,bins=20)\n",
    "plt.xlabel('Idade', fontsize=20)\n",
    "plt.ylabel('Qtd. Participantes', fontsize=20)\n",
    "plt.title('Faixa etária dos participantes do ENEM 2019', fontsize=25)\n",
    "plt.grid()"
   ]
  },
  {
   "cell_type": "markdown",
   "id": "2103af48",
   "metadata": {},
   "source": [
    "### Conferindo a proporção de cada idade dentro do total de participantes:"
   ]
  },
  {
   "cell_type": "code",
   "execution_count": 20,
   "id": "699a4f86",
   "metadata": {},
   "outputs": [
    {
     "data": {
      "image/png": "[encoded data removed]",
      "text/plain": [
       "<Figure size 1440x360 with 1 Axes>"
      ]
     },
     "metadata": {
      "needs_background": "light"
     },
     "output_type": "display_data"
    }
   ],
   "source": [
    "proprocao_idade = data['NU_IDADE'].value_counts().sort_index()/data.shape[0]*100 \n",
    "proprocao_idade.plot.bar(figsize=(20,5))\n",
    "plt.xlabel('Idade', fontsize=20)\n",
    "plt.ylabel('% de participantes', fontsize=20)\n",
    "plt.title('% faixa etária dos participantes do ENEM 2019', fontsize=25)\n",
    "plt.grid()"
   ]
  },
  {
   "cell_type": "markdown",
   "id": "e3df77f0",
   "metadata": {},
   "source": [
    "### Faixa etária dos treineiros"
   ]
  },
  {
   "cell_type": "markdown",
   "id": "f709912c",
   "metadata": {},
   "source": [
    "Existe uma categoria de participantes no ENEM chamada ***Treineiro***, referente ao aluno que realiza a prova como qualquer outro participante sem entrar no processo de seleção de vestibular. \n",
    "\n",
    "O objetivo deste candidato é ganhar experiência e se preparar para o exame em anos seguintes.\n",
    "\n",
    "Observa-se nos dados que existem participantes com idade inferior a esperada para a prova (17 a 18 anos). \n",
    "\n",
    "Vamos verificar quantos desses participantes são ou não treineiros:"
   ]
  },
  {
   "cell_type": "code",
   "execution_count": 21,
   "id": "93bc3418",
   "metadata": {},
   "outputs": [
    {
     "data": {
      "text/plain": [
       "Text(0.5, 1.0, 'Distribuição Etária dos Participantes do ENEM 2019')"
      ]
     },
     "execution_count": 21,
     "metadata": {},
     "output_type": "execute_result"
    },
    {
     "data": {
      "image/png": "[encoded data removed]",
      "text/plain": [
       "<Figure size 1440x360 with 1 Axes>"
      ]
     },
     "metadata": {
      "needs_background": "light"
     },
     "output_type": "display_data"
    }
   ],
   "source": [
    "treineiro_sim = data.loc[data['IN_TREINEIRO']==1, 'NU_IDADE']\n",
    "treineiro_nao = data.loc[data['IN_TREINEIRO']==0, 'NU_IDADE']\n",
    "\n",
    "treineiro_nao.hist(bins=40,figsize=(20,5), label='Concorrência Geral')\n",
    "treineiro_sim.hist(bins=40,figsize=(20,5), label='Treineiro')\n",
    "plt.legend(fontsize=15)\n",
    "plt.xlabel('Idade', fontsize=20)\n",
    "plt.ylabel('Qtd. Participantes', fontsize=20)\n",
    "plt.title('Distribuição Etária dos Participantes do ENEM 2019', fontsize=25)"
   ]
  },
  {
   "cell_type": "markdown",
   "id": "7b80e37a",
   "metadata": {},
   "source": [
    "### Vemos que a maioria dos candidatos que prestam a prova como treineiros possuem menos de 20 anos."
   ]
  },
  {
   "cell_type": "markdown",
   "id": "a78601c8",
   "metadata": {},
   "source": [
    "## Factor 3: Sex"
   ]
  },
  {
   "cell_type": "code",
   "execution_count": 22,
   "id": "a17e1256",
   "metadata": {},
   "outputs": [
    {
     "data": {
      "text/plain": [
       "F    3257703\n",
       "M    2256044\n",
       "Name: TP_SEXO, dtype: int64"
      ]
     },
     "execution_count": 22,
     "metadata": {},
     "output_type": "execute_result"
    }
   ],
   "source": [
    "data['TP_SEXO'].value_counts().sort_index()"
   ]
  },
  {
   "cell_type": "code",
   "execution_count": 35,
   "id": "1fe73932",
   "metadata": {},
   "outputs": [],
   "source": [
    "def graficoSexo(data):\n",
    "  #Gera gráfico de pizza mostrando o quantitaivo de homens e mulheres\n",
    "  mulheres = data[data['TP_SEXO'] == 'F']['TP_SEXO'].count()\n",
    "  homens = data[data['TP_SEXO'] == 'M']['TP_SEXO'].count()\n",
    "  qtdImoveis = [mulheres, homens]\n",
    "  tipos = ['Mulher', 'Homem']\n",
    "  plt.pie(qtdImoveis, labels=tipos, explode=[0.03,0.03], startangle=90, shadow=True, autopct='%1.1f%%', textprops={'color':\"white\"})\n",
    "  plt.title(\"Quantitativo Homem x Mulher\", color = 'white')\n",
    "  plt.show()"
   ]
  },
  {
   "cell_type": "code",
   "execution_count": 36,
   "id": "6ce9cf4b",
   "metadata": {},
   "outputs": [
    {
     "data": {
      "image/png": "[encoded data removed]",
      "text/plain": [
       "<Figure size 432x288 with 1 Axes>"
      ]
     },
     "metadata": {},
     "output_type": "display_data"
    }
   ],
   "source": [
    "graficoSexo(data)"
   ]
  },
  {
   "cell_type": "markdown",
   "id": "5e5a3220",
   "metadata": {},
   "source": [
    "## Factor 4: Marital status"
   ]
  },
  {
   "cell_type": "code",
   "execution_count": 37,
   "id": "fd63f128",
   "metadata": {},
   "outputs": [
    {
     "data": {
      "text/plain": [
       "0.0    4748654\n",
       "1.0     468245\n",
       "2.0      71890\n",
       "3.0       7321\n",
       "Name: TP_ESTADO_CIVIL, dtype: int64"
      ]
     },
     "execution_count": 37,
     "metadata": {},
     "output_type": "execute_result"
    }
   ],
   "source": [
    "data['TP_ESTADO_CIVIL'].value_counts().sort_index()"
   ]
  },
  {
   "cell_type": "code",
   "execution_count": 52,
   "id": "4538751b",
   "metadata": {},
   "outputs": [
    {
     "data": {
      "image/png": "[encoded data removed]",
      "text/plain": [
       "<Figure size 576x576 with 1 Axes>"
      ]
     },
     "metadata": {
      "needs_background": "light"
     },
     "output_type": "display_data"
    }
   ],
   "source": [
    "plt.figure(figsize=(8,8))\n",
    "counts = data['TP_ESTADO_CIVIL'].value_counts()\n",
    "ax = sns.barplot(y=counts.index,x=counts, orient='v')\n",
    "plt.title('Estado civil dos participantes')\n",
    "plt.xlabel('Total de estudantes')\n",
    "plt.ylabel('Quantitativo')\n",
    "plt.show()"
   ]
  },
  {
   "cell_type": "markdown",
   "id": "35b380ab",
   "metadata": {},
   "source": [
    "### Factor 5: Ethnicity"
   ]
  },
  {
   "cell_type": "code",
   "execution_count": 50,
   "id": "d493676c",
   "metadata": {},
   "outputs": [
    {
     "data": {
      "text/plain": [
       "0     114434\n",
       "1    1981657\n",
       "2     698694\n",
       "3    2561318\n",
       "4     123611\n",
       "5      34033\n",
       "Name: TP_COR_RACA, dtype: int64"
      ]
     },
     "execution_count": 50,
     "metadata": {},
     "output_type": "execute_result"
    }
   ],
   "source": [
    "data['TP_COR_RACA'].value_counts().sort_index()"
   ]
  },
  {
   "cell_type": "code",
   "execution_count": 53,
   "id": "08ef2bb7",
   "metadata": {},
   "outputs": [
    {
     "data": {
      "image/png": "[encoded data removed]",
      "text/plain": [
       "<Figure size 576x576 with 1 Axes>"
      ]
     },
     "metadata": {
      "needs_background": "light"
     },
     "output_type": "display_data"
    }
   ],
   "source": [
    "plt.figure(figsize=(8,8))\n",
    "counts = data['TP_COR_RACA'].value_counts()\n",
    "ax = sns.barplot(y=counts.index,x=counts, orient='v')\n",
    "plt.title('Raça')\n",
    "plt.xlabel('Total de estudante')\n",
    "plt.ylabel('Quantitativo')\n",
    "plt.show()"
   ]
  },
  {
   "cell_type": "markdown",
   "id": "c225c9e2",
   "metadata": {},
   "source": [
    "Observa-se que a maior parte dos alunos declarou ser de raça indígena. Enquanto a minoria declrou pertencer à raça branca"
   ]
  },
  {
   "cell_type": "markdown",
   "id": "3d2fc23e",
   "metadata": {},
   "source": [
    "# Factor 5: Parents’ education level"
   ]
  },
  {
   "cell_type": "markdown",
   "id": "836a71b9",
   "metadata": {},
   "source": [
    "### 5.1 Father's education level"
   ]
  },
  {
   "cell_type": "code",
   "execution_count": 84,
   "id": "7ce7946d",
   "metadata": {},
   "outputs": [],
   "source": [
    "from pandas.api.types import CategoricalDtype\n",
    "father_education_dtype = CategoricalDtype(categories=['A', 'B', 'C', 'D', 'E', 'F', 'G', 'H'], ordered=True)\n",
    "mother_education_dtype = CategoricalDtype(categories=['A', 'B', 'C', 'D', 'E', 'F', 'G', 'H'], ordered=True)\n",
    "\n",
    "father_profession_dtype = CategoricalDtype(categories=['A', 'B', 'C', 'D', 'E', 'F', 'G'], ordered=True)\n",
    "mother_profession_dtype = CategoricalDtype(categories=['A', 'B', 'C', 'D', 'E', 'F', 'G'], ordered=True)\n",
    "\n",
    "parents_income_dtype = CategoricalDtype(categories=['A', 'B', 'C', 'D', 'E', 'F', 'G', 'H', 'I', 'J', 'K', 'L', 'M', 'N', 'O', 'P', 'Q'], ordered=True)\n"
   ]
  },
  {
   "cell_type": "code",
   "execution_count": 56,
   "id": "125faf31",
   "metadata": {},
   "outputs": [
    {
     "data": {
      "text/plain": [
       "A     325043\n",
       "B    1267055\n",
       "C     794560\n",
       "D     641010\n",
       "E    1384876\n",
       "F     383847\n",
       "G     224607\n",
       "H     492749\n",
       "Name: Q001, dtype: int64"
      ]
     },
     "execution_count": 56,
     "metadata": {},
     "output_type": "execute_result"
    }
   ],
   "source": [
    "data['Q001'].value_counts().sort_index()"
   ]
  },
  {
   "cell_type": "code",
   "execution_count": 75,
   "id": "14a41c01",
   "metadata": {},
   "outputs": [
    {
     "data": {
      "image/png": "[encoded data removed]",
      "text/plain": [
       "<Figure size 1080x360 with 1 Axes>"
      ]
     },
     "metadata": {
      "needs_background": "light"
     },
     "output_type": "display_data"
    }
   ],
   "source": [
    "plt.figure(figsize=(15,5))\n",
    "plt.title(\"Nível de escolaridade do pai\")\n",
    "ax = sns.countplot(x=data['Q001'].astype(father_education_dtype).sort_values(ascending=True))\n",
    "# ax.yaxis.set_major_formatter(tkr.FuncFormatter(formatador_de_milhares))\n",
    "plt.xlabel('Nº de ')\n",
    "plt.ylabel('Quantitativo')\n",
    "plt.show()"
   ]
  },
  {
   "cell_type": "markdown",
   "id": "0e0c6bb0",
   "metadata": {},
   "source": [
    "### 5.2 Mother's education level"
   ]
  },
  {
   "cell_type": "code",
   "execution_count": 76,
   "id": "61f4ba3e",
   "metadata": {},
   "outputs": [
    {
     "data": {
      "image/png": "[encoded data removed]",
      "text/plain": [
       "<Figure size 1080x360 with 1 Axes>"
      ]
     },
     "metadata": {
      "needs_background": "light"
     },
     "output_type": "display_data"
    }
   ],
   "source": [
    "plt.figure(figsize=(15,5))\n",
    "plt.title(\"Nível de escolaridade da mãe\")\n",
    "ax = sns.countplot(x=data['Q002'].astype(mother_education_dtype).sort_values(ascending=True))\n",
    "# ax.yaxis.set_major_formatter(tkr.FuncFormatter(formatador_de_milhares))\n",
    "plt.xlabel('Nº de ')\n",
    "plt.ylabel('Quantitativo')\n",
    "plt.show()"
   ]
  },
  {
   "cell_type": "markdown",
   "id": "a1003b88",
   "metadata": {},
   "source": [
    "## 6 - Factor Parental profession"
   ]
  },
  {
   "cell_type": "markdown",
   "id": "0ab19078",
   "metadata": {},
   "source": [
    "### 6.1 Profissão do pai (Q003)"
   ]
  },
  {
   "cell_type": "code",
   "execution_count": 85,
   "id": "633ca92e",
   "metadata": {},
   "outputs": [
    {
     "data": {
      "image/png": "[encoded data removed]",
      "text/plain": [
       "<Figure size 1080x360 with 1 Axes>"
      ]
     },
     "metadata": {
      "needs_background": "light"
     },
     "output_type": "display_data"
    }
   ],
   "source": [
    "plt.figure(figsize=(15,5))\n",
    "plt.title(\"Profissão do pai\")\n",
    "ax = sns.countplot(x=data['Q003'].astype(father_profession_dtype).sort_values(ascending=True))\n",
    "# ax.yaxis.set_major_formatter(tkr.FuncFormatter(formatador_de_milhares))\n",
    "plt.xlabel('Nº de ')\n",
    "plt.ylabel('Quantitativo')\n",
    "plt.show()"
   ]
  },
  {
   "cell_type": "markdown",
   "id": "1ff64cbb",
   "metadata": {},
   "source": [
    "### 6.2 Profissão da mãe (Q004)"
   ]
  },
  {
   "cell_type": "code",
   "execution_count": 86,
   "id": "5c7085cf",
   "metadata": {},
   "outputs": [
    {
     "data": {
      "image/png": "[encoded data removed]",
      "text/plain": [
       "<Figure size 1080x360 with 1 Axes>"
      ]
     },
     "metadata": {
      "needs_background": "light"
     },
     "output_type": "display_data"
    }
   ],
   "source": [
    "plt.figure(figsize=(15,5))\n",
    "plt.title(\"Profissão da mãe\")\n",
    "ax = sns.countplot(x=data['Q004'].astype(mother_profession_dtype).sort_values(ascending=True))\n",
    "# ax.yaxis.set_major_formatter(tkr.FuncFormatter(formatador_de_milhares))\n",
    "plt.xlabel('Nº de ')\n",
    "plt.ylabel('Quantitativo')\n",
    "plt.show()"
   ]
  },
  {
   "cell_type": "markdown",
   "id": "e278f42d",
   "metadata": {},
   "source": [
    "## Factor 7: Income"
   ]
  },
  {
   "cell_type": "code",
   "execution_count": 81,
   "id": "b63a851f",
   "metadata": {},
   "outputs": [
    {
     "data": {
      "image/png": "[encoded data removed]",
      "text/plain": [
       "<Figure size 1080x360 with 1 Axes>"
      ]
     },
     "metadata": {
      "needs_background": "light"
     },
     "output_type": "display_data"
    }
   ],
   "source": [
    "plt.figure(figsize=(15,5))\n",
    "plt.title(\"Renda\")\n",
    "ax = sns.countplot(x=data['Q006'].astype(mother_education_dtype).sort_values(ascending=True))\n",
    "plt.xlabel('Nº de ')\n",
    "plt.ylabel('Quantitativo')\n",
    "plt.show()"
   ]
  },
  {
   "cell_type": "markdown",
   "id": "a1be497a",
   "metadata": {},
   "source": [
    "## Factor 8: socioeconomic status (SES)"
   ]
  },
  {
   "cell_type": "markdown",
   "id": "7e55ffbf",
   "metadata": {},
   "source": [
    "It measures the amount of itens selected"
   ]
  },
  {
   "cell_type": "markdown",
   "id": "9dfeb488",
   "metadata": {},
   "source": []
  },
  {
   "cell_type": "markdown",
   "id": "74f4200d",
   "metadata": {},
   "source": [
    "### Vamos avaliar a distribuição de notas por cada prova.\n",
    "\n",
    "Alguns exemplos são a distribuição das notas na prova de redação e linguagem e comunicação:"
   ]
  },
  {
   "cell_type": "code",
   "execution_count": 23,
   "id": "e4b4c688",
   "metadata": {},
   "outputs": [
    {
     "data": {
      "text/plain": [
       "Text(0.5, 1.0, 'Distribuição de notas de MT')"
      ]
     },
     "execution_count": 23,
     "metadata": {},
     "output_type": "execute_result"
    },
    {
     "data": {
      "image/png": "[encoded data removed]",
      "text/plain": [
       "<Figure size 720x360 with 1 Axes>"
      ]
     },
     "metadata": {
      "needs_background": "light"
     },
     "output_type": "display_data"
    },
    {
     "data": {
      "image/png": "[encoded data removed]",
      "text/plain": [
       "<Figure size 720x360 with 1 Axes>"
      ]
     },
     "metadata": {
      "needs_background": "light"
     },
     "output_type": "display_data"
    },
    {
     "data": {
      "image/png": "[encoded data removed]",
      "text/plain": [
       "<Figure size 720x360 with 1 Axes>"
      ]
     },
     "metadata": {
      "needs_background": "light"
     },
     "output_type": "display_data"
    }
   ],
   "source": [
    "# Histograma notas redação)\n",
    "plt.figure()\n",
    "data['NU_NOTA_REDACAO'].hist(bins=20, figsize=(10,5))\n",
    "plt.xlabel('Nota redação', fontsize=20)\n",
    "plt.ylabel('Ocorrência',fontsize=20)\n",
    "plt.title('Distribuição de notas de redação',fontsize=25)\n",
    "\n",
    "plt.figure()\n",
    "data['NU_NOTA_LC'].hist(bins=20, figsize=(10,5))\n",
    "plt.xlabel('Nota LC',fontsize=20)\n",
    "plt.ylabel('Ocorrência',fontsize=20)\n",
    "plt.title('Distribuição de notas de LC',fontsize=25)\n",
    "\n",
    "plt.figure()\n",
    "data['NU_NOTA_MT'].hist(bins=20, figsize=(10,5))\n",
    "plt.xlabel('Nota Matemática',fontsize=20)\n",
    "plt.ylabel('Ocorrência',fontsize=20)\n",
    "plt.title('Distribuição de notas de MT',fontsize=25)"
   ]
  },
  {
   "cell_type": "code",
   "execution_count": 24,
   "id": "efd44f37",
   "metadata": {},
   "outputs": [
    {
     "data": {
      "text/html": [
       "<div>\n",
       "<style scoped>\n",
       "    .dataframe tbody tr th:only-of-type {\n",
       "        vertical-align: middle;\n",
       "    }\n",
       "\n",
       "    .dataframe tbody tr th {\n",
       "        vertical-align: top;\n",
       "    }\n",
       "\n",
       "    .dataframe thead th {\n",
       "        text-align: right;\n",
       "    }\n",
       "</style>\n",
       "<table border=\"1\" class=\"dataframe\">\n",
       "  <thead>\n",
       "    <tr style=\"text-align: right;\">\n",
       "      <th></th>\n",
       "      <th>NU_NOTA_LC</th>\n",
       "      <th>NU_NOTA_REDACAO</th>\n",
       "    </tr>\n",
       "  </thead>\n",
       "  <tbody>\n",
       "    <tr>\n",
       "      <th>count</th>\n",
       "      <td>4.148264e+06</td>\n",
       "      <td>4.148264e+06</td>\n",
       "    </tr>\n",
       "    <tr>\n",
       "      <th>mean</th>\n",
       "      <td>5.264538e+02</td>\n",
       "      <td>5.086806e+02</td>\n",
       "    </tr>\n",
       "    <tr>\n",
       "      <th>std</th>\n",
       "      <td>7.349787e+01</td>\n",
       "      <td>1.874965e+02</td>\n",
       "    </tr>\n",
       "    <tr>\n",
       "      <th>min</th>\n",
       "      <td>0.000000e+00</td>\n",
       "      <td>0.000000e+00</td>\n",
       "    </tr>\n",
       "    <tr>\n",
       "      <th>25%</th>\n",
       "      <td>4.759000e+02</td>\n",
       "      <td>3.600000e+02</td>\n",
       "    </tr>\n",
       "    <tr>\n",
       "      <th>50%</th>\n",
       "      <td>5.313000e+02</td>\n",
       "      <td>5.200000e+02</td>\n",
       "    </tr>\n",
       "    <tr>\n",
       "      <th>75%</th>\n",
       "      <td>5.797000e+02</td>\n",
       "      <td>6.200000e+02</td>\n",
       "    </tr>\n",
       "    <tr>\n",
       "      <th>max</th>\n",
       "      <td>8.169000e+02</td>\n",
       "      <td>1.000000e+03</td>\n",
       "    </tr>\n",
       "  </tbody>\n",
       "</table>\n",
       "</div>"
      ],
      "text/plain": [
       "         NU_NOTA_LC  NU_NOTA_REDACAO\n",
       "count  4.148264e+06     4.148264e+06\n",
       "mean   5.264538e+02     5.086806e+02\n",
       "std    7.349787e+01     1.874965e+02\n",
       "min    0.000000e+00     0.000000e+00\n",
       "25%    4.759000e+02     3.600000e+02\n",
       "50%    5.313000e+02     5.200000e+02\n",
       "75%    5.797000e+02     6.200000e+02\n",
       "max    8.169000e+02     1.000000e+03"
      ]
     },
     "execution_count": 24,
     "metadata": {},
     "output_type": "execute_result"
    }
   ],
   "source": [
    "provas = ['NU_NOTA_LC', 'NU_NOTA_REDACAO']\n",
    "data[provas].describe()"
   ]
  },
  {
   "cell_type": "code",
   "execution_count": 25,
   "id": "651eb5f1",
   "metadata": {},
   "outputs": [
    {
     "data": {
      "text/plain": [
       "<AxesSubplot:>"
      ]
     },
     "execution_count": 25,
     "metadata": {},
     "output_type": "execute_result"
    },
    {
     "data": {
      "image/png": "[encoded data removed]",
      "text/plain": [
       "<Figure size 720x720 with 1 Axes>"
      ]
     },
     "metadata": {
      "needs_background": "light"
     },
     "output_type": "display_data"
    }
   ],
   "source": [
    "data[provas].plot.box(figsize=(10,10), grid=True)"
   ]
  },
  {
   "cell_type": "code",
   "execution_count": 26,
   "id": "e5d3e37b",
   "metadata": {},
   "outputs": [
    {
     "data": {
      "text/html": [
       "<div>\n",
       "<style scoped>\n",
       "    .dataframe tbody tr th:only-of-type {\n",
       "        vertical-align: middle;\n",
       "    }\n",
       "\n",
       "    .dataframe tbody tr th {\n",
       "        vertical-align: top;\n",
       "    }\n",
       "\n",
       "    .dataframe thead th {\n",
       "        text-align: right;\n",
       "    }\n",
       "</style>\n",
       "<table border=\"1\" class=\"dataframe\">\n",
       "  <thead>\n",
       "    <tr style=\"text-align: right;\">\n",
       "      <th></th>\n",
       "      <th>NU_NOTA_MT</th>\n",
       "    </tr>\n",
       "  </thead>\n",
       "  <tbody>\n",
       "    <tr>\n",
       "      <th>count</th>\n",
       "      <td>3.905099e+06</td>\n",
       "    </tr>\n",
       "    <tr>\n",
       "      <th>mean</th>\n",
       "      <td>5.354056e+02</td>\n",
       "    </tr>\n",
       "    <tr>\n",
       "      <th>std</th>\n",
       "      <td>1.031512e+02</td>\n",
       "    </tr>\n",
       "    <tr>\n",
       "      <th>min</th>\n",
       "      <td>0.000000e+00</td>\n",
       "    </tr>\n",
       "    <tr>\n",
       "      <th>25%</th>\n",
       "      <td>4.553000e+02</td>\n",
       "    </tr>\n",
       "    <tr>\n",
       "      <th>50%</th>\n",
       "      <td>5.166000e+02</td>\n",
       "    </tr>\n",
       "    <tr>\n",
       "      <th>75%</th>\n",
       "      <td>6.007000e+02</td>\n",
       "    </tr>\n",
       "    <tr>\n",
       "      <th>max</th>\n",
       "      <td>9.961000e+02</td>\n",
       "    </tr>\n",
       "  </tbody>\n",
       "</table>\n",
       "</div>"
      ],
      "text/plain": [
       "         NU_NOTA_MT\n",
       "count  3.905099e+06\n",
       "mean   5.354056e+02\n",
       "std    1.031512e+02\n",
       "min    0.000000e+00\n",
       "25%    4.553000e+02\n",
       "50%    5.166000e+02\n",
       "75%    6.007000e+02\n",
       "max    9.961000e+02"
      ]
     },
     "execution_count": 26,
     "metadata": {},
     "output_type": "execute_result"
    }
   ],
   "source": [
    "provas_mt = ['NU_NOTA_MT']\n",
    "data[provas_mt].describe()"
   ]
  },
  {
   "cell_type": "code",
   "execution_count": 27,
   "id": "671638dd",
   "metadata": {},
   "outputs": [
    {
     "data": {
      "text/plain": [
       "<AxesSubplot:>"
      ]
     },
     "execution_count": 27,
     "metadata": {},
     "output_type": "execute_result"
    },
    {
     "data": {
      "image/png": "[encoded data removed]",
      "text/plain": [
       "<Figure size 864x864 with 1 Axes>"
      ]
     },
     "metadata": {
      "needs_background": "light"
     },
     "output_type": "display_data"
    }
   ],
   "source": [
    "data[provas_mt].plot.box(figsize=(12,12), grid=True)"
   ]
  },
  {
   "cell_type": "markdown",
   "id": "b3d6eeac",
   "metadata": {},
   "source": []
  },
  {
   "cell_type": "markdown",
   "id": "7077166a",
   "metadata": {},
   "source": []
  },
  {
   "cell_type": "markdown",
   "id": "cd66aaba",
   "metadata": {},
   "source": []
  },
  {
   "cell_type": "markdown",
   "id": "77525337",
   "metadata": {},
   "source": []
  },
  {
   "cell_type": "markdown",
   "id": "a3f5a487",
   "metadata": {},
   "source": []
  },
  {
   "cell_type": "markdown",
   "id": "3e9935af",
   "metadata": {},
   "source": []
  },
  {
   "cell_type": "markdown",
   "id": "e1b9f9a8",
   "metadata": {},
   "source": []
  }
 ],
 "metadata": {
  "kernelspec": {
   "display_name": "Python 3 (ipykernel)",
   "language": "python",
   "name": "python3"
  },
  "language_info": {
   "codemirror_mode": {
    "name": "ipython",
    "version": 3
   },
   "file_extension": ".py",
   "mimetype": "text/x-python",
   "name": "python",
   "nbconvert_exporter": "python",
   "pygments_lexer": "ipython3",
   "version": "3.9.7"
  }
 },
 "nbformat": 4,
 "nbformat_minor": 5
}
