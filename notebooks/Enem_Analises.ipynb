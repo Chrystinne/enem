{
 "cells": [
  {
   "cell_type": "markdown",
   "id": "80c2bb1c",
   "metadata": {},
   "source": [
    "### Analysis of factors that affect student's quality of academic performance"
   ]
  },
  {
   "cell_type": "markdown",
   "id": "231830af",
   "metadata": {},
   "source": [
    "1- Age\n",
    "2- Gender\n",
    "3 - Geographical belongingness\n",
    "4 - Ethnicity\n",
    "5 - Marital status\n",
    "6 - socioeconomic status (SES)\n",
    "7 - parents’ education level\n",
    "8 - parental profession\n",
    "9 - language\n",
    "10 - income\n",
    "11 - religious affiliations\n"
   ]
  },
  {
   "cell_type": "markdown",
   "id": "e25c328b",
   "metadata": {},
   "source": [
    "# Importação das bibliotecas"
   ]
  },
  {
   "cell_type": "code",
   "execution_count": 91,
   "id": "93c0695b",
   "metadata": {},
   "outputs": [],
   "source": [
    "import pandas as pd\n",
    "import numpy as np\n",
    "import matplotlib.pyplot as plt\n",
    "import seaborn as sns\n",
    "import locale\n",
    "# from sklearn.preprocessing import OneHotEncoder\n",
    "# from sklearn.compose import ColumnTransformer"
   ]
  },
  {
   "cell_type": "markdown",
   "id": "e2f7a669",
   "metadata": {},
   "source": [
    "# Carregando os dados"
   ]
  },
  {
   "cell_type": "markdown",
   "id": "0390c345",
   "metadata": {},
   "source": [
    "### Dataset information:\n",
    "\n"
   ]
  },
  {
   "cell_type": "code",
   "execution_count": 92,
   "id": "3df4431d",
   "metadata": {},
   "outputs": [],
   "source": [
    "# data = pd.read_csv(\"../../dataset/MICRODADOS_ENEM_2018.csv\", sep=';', encoding='cp1252')\n",
    "data = pd.read_csv(\"../datasets/integrated_data.csv\", sep=',')"
   ]
  },
  {
   "cell_type": "markdown",
   "id": "e4925a04",
   "metadata": {},
   "source": [
    "# Exploração inicial dos dados"
   ]
  },
  {
   "cell_type": "code",
   "execution_count": 93,
   "id": "535efc54",
   "metadata": {},
   "outputs": [
    {
     "data": {
      "text/plain": [
       "(8000, 50)"
      ]
     },
     "execution_count": 93,
     "metadata": {},
     "output_type": "execute_result"
    }
   ],
   "source": [
    "data.shape"
   ]
  },
  {
   "cell_type": "code",
   "execution_count": 94,
   "id": "b9211114",
   "metadata": {},
   "outputs": [
    {
     "data": {
      "text/html": [
       "<div>\n",
       "<style scoped>\n",
       "    .dataframe tbody tr th:only-of-type {\n",
       "        vertical-align: middle;\n",
       "    }\n",
       "\n",
       "    .dataframe tbody tr th {\n",
       "        vertical-align: top;\n",
       "    }\n",
       "\n",
       "    .dataframe thead th {\n",
       "        text-align: right;\n",
       "    }\n",
       "</style>\n",
       "<table border=\"1\" class=\"dataframe\">\n",
       "  <thead>\n",
       "    <tr style=\"text-align: right;\">\n",
       "      <th></th>\n",
       "      <th>NU_INSCRICAO</th>\n",
       "      <th>NU_ANO</th>\n",
       "      <th>NO_MUNICIPIO_RESIDENCIA</th>\n",
       "      <th>SG_UF_RESIDENCIA</th>\n",
       "      <th>NU_IDADE</th>\n",
       "      <th>TP_SEXO</th>\n",
       "      <th>TP_ESTADO_CIVIL</th>\n",
       "      <th>TP_COR_RACA</th>\n",
       "      <th>TP_ST_CONCLUSAO</th>\n",
       "      <th>TP_ANO_CONCLUIU</th>\n",
       "      <th>...</th>\n",
       "      <th>Q016</th>\n",
       "      <th>Q017</th>\n",
       "      <th>Q018</th>\n",
       "      <th>Q019</th>\n",
       "      <th>Q020</th>\n",
       "      <th>Q021</th>\n",
       "      <th>Q022</th>\n",
       "      <th>Q023</th>\n",
       "      <th>Q024</th>\n",
       "      <th>Q025</th>\n",
       "    </tr>\n",
       "  </thead>\n",
       "  <tbody>\n",
       "    <tr>\n",
       "      <th>0</th>\n",
       "      <td>160000301384</td>\n",
       "      <td>2016</td>\n",
       "      <td>João Pessoa</td>\n",
       "      <td>PB</td>\n",
       "      <td>23</td>\n",
       "      <td>M</td>\n",
       "      <td>0.0</td>\n",
       "      <td>3</td>\n",
       "      <td>1</td>\n",
       "      <td>7</td>\n",
       "      <td>...</td>\n",
       "      <td>A</td>\n",
       "      <td>A</td>\n",
       "      <td>A</td>\n",
       "      <td>C</td>\n",
       "      <td>B</td>\n",
       "      <td>B</td>\n",
       "      <td>C</td>\n",
       "      <td>B</td>\n",
       "      <td>B</td>\n",
       "      <td>B</td>\n",
       "    </tr>\n",
       "    <tr>\n",
       "      <th>1</th>\n",
       "      <td>160000000001</td>\n",
       "      <td>2016</td>\n",
       "      <td>Vitorino</td>\n",
       "      <td>PR</td>\n",
       "      <td>20</td>\n",
       "      <td>M</td>\n",
       "      <td>0.0</td>\n",
       "      <td>1</td>\n",
       "      <td>1</td>\n",
       "      <td>3</td>\n",
       "      <td>...</td>\n",
       "      <td>B</td>\n",
       "      <td>A</td>\n",
       "      <td>A</td>\n",
       "      <td>B</td>\n",
       "      <td>B</td>\n",
       "      <td>A</td>\n",
       "      <td>C</td>\n",
       "      <td>B</td>\n",
       "      <td>B</td>\n",
       "      <td>B</td>\n",
       "    </tr>\n",
       "    <tr>\n",
       "      <th>2</th>\n",
       "      <td>160000000002</td>\n",
       "      <td>2016</td>\n",
       "      <td>Salvador</td>\n",
       "      <td>BA</td>\n",
       "      <td>21</td>\n",
       "      <td>M</td>\n",
       "      <td>0.0</td>\n",
       "      <td>3</td>\n",
       "      <td>1</td>\n",
       "      <td>1</td>\n",
       "      <td>...</td>\n",
       "      <td>A</td>\n",
       "      <td>A</td>\n",
       "      <td>A</td>\n",
       "      <td>B</td>\n",
       "      <td>A</td>\n",
       "      <td>A</td>\n",
       "      <td>C</td>\n",
       "      <td>B</td>\n",
       "      <td>B</td>\n",
       "      <td>B</td>\n",
       "    </tr>\n",
       "    <tr>\n",
       "      <th>3</th>\n",
       "      <td>160000000003</td>\n",
       "      <td>2016</td>\n",
       "      <td>Belém</td>\n",
       "      <td>PA</td>\n",
       "      <td>17</td>\n",
       "      <td>M</td>\n",
       "      <td>0.0</td>\n",
       "      <td>1</td>\n",
       "      <td>1</td>\n",
       "      <td>1</td>\n",
       "      <td>...</td>\n",
       "      <td>A</td>\n",
       "      <td>A</td>\n",
       "      <td>A</td>\n",
       "      <td>B</td>\n",
       "      <td>B</td>\n",
       "      <td>A</td>\n",
       "      <td>B</td>\n",
       "      <td>A</td>\n",
       "      <td>A</td>\n",
       "      <td>B</td>\n",
       "    </tr>\n",
       "    <tr>\n",
       "      <th>4</th>\n",
       "      <td>160000000004</td>\n",
       "      <td>2016</td>\n",
       "      <td>Brasília</td>\n",
       "      <td>DF</td>\n",
       "      <td>36</td>\n",
       "      <td>F</td>\n",
       "      <td>2.0</td>\n",
       "      <td>1</td>\n",
       "      <td>1</td>\n",
       "      <td>10</td>\n",
       "      <td>...</td>\n",
       "      <td>A</td>\n",
       "      <td>A</td>\n",
       "      <td>A</td>\n",
       "      <td>A</td>\n",
       "      <td>A</td>\n",
       "      <td>A</td>\n",
       "      <td>A</td>\n",
       "      <td>A</td>\n",
       "      <td>A</td>\n",
       "      <td>A</td>\n",
       "    </tr>\n",
       "  </tbody>\n",
       "</table>\n",
       "<p>5 rows × 50 columns</p>\n",
       "</div>"
      ],
      "text/plain": [
       "   NU_INSCRICAO  NU_ANO NO_MUNICIPIO_RESIDENCIA SG_UF_RESIDENCIA  NU_IDADE  \\\n",
       "0  160000301384    2016             João Pessoa               PB        23   \n",
       "1  160000000001    2016                Vitorino               PR        20   \n",
       "2  160000000002    2016                Salvador               BA        21   \n",
       "3  160000000003    2016                   Belém               PA        17   \n",
       "4  160000000004    2016                Brasília               DF        36   \n",
       "\n",
       "  TP_SEXO  TP_ESTADO_CIVIL  TP_COR_RACA  TP_ST_CONCLUSAO  TP_ANO_CONCLUIU  \\\n",
       "0       M              0.0            3                1                7   \n",
       "1       M              0.0            1                1                3   \n",
       "2       M              0.0            3                1                1   \n",
       "3       M              0.0            1                1                1   \n",
       "4       F              2.0            1                1               10   \n",
       "\n",
       "   ...  Q016  Q017  Q018  Q019  Q020 Q021 Q022 Q023 Q024 Q025  \n",
       "0  ...     A     A     A     C     B    B    C    B    B    B  \n",
       "1  ...     B     A     A     B     B    A    C    B    B    B  \n",
       "2  ...     A     A     A     B     A    A    C    B    B    B  \n",
       "3  ...     A     A     A     B     B    A    B    A    A    B  \n",
       "4  ...     A     A     A     A     A    A    A    A    A    A  \n",
       "\n",
       "[5 rows x 50 columns]"
      ]
     },
     "execution_count": 94,
     "metadata": {},
     "output_type": "execute_result"
    }
   ],
   "source": [
    "data.head()"
   ]
  },
  {
   "cell_type": "code",
   "execution_count": 95,
   "id": "9708a021",
   "metadata": {},
   "outputs": [
    {
     "name": "stdout",
     "output_type": "stream",
     "text": [
      "<class 'pandas.core.frame.DataFrame'>\n",
      "RangeIndex: 8000 entries, 0 to 7999\n",
      "Data columns (total 50 columns):\n",
      " #   Column                   Non-Null Count  Dtype  \n",
      "---  ------                   --------------  -----  \n",
      " 0   NU_INSCRICAO             8000 non-null   int64  \n",
      " 1   NU_ANO                   8000 non-null   int64  \n",
      " 2   NO_MUNICIPIO_RESIDENCIA  8000 non-null   object \n",
      " 3   SG_UF_RESIDENCIA         8000 non-null   object \n",
      " 4   NU_IDADE                 8000 non-null   int64  \n",
      " 5   TP_SEXO                  8000 non-null   object \n",
      " 6   TP_ESTADO_CIVIL          8000 non-null   float64\n",
      " 7   TP_COR_RACA              8000 non-null   int64  \n",
      " 8   TP_ST_CONCLUSAO          8000 non-null   int64  \n",
      " 9   TP_ANO_CONCLUIU          8000 non-null   int64  \n",
      " 10  TP_ESCOLA                8000 non-null   int64  \n",
      " 11  TP_PRESENCA_CN           8000 non-null   int64  \n",
      " 12  TP_PRESENCA_CH           8000 non-null   int64  \n",
      " 13  TP_PRESENCA_LC           8000 non-null   int64  \n",
      " 14  TP_PRESENCA_MT           8000 non-null   int64  \n",
      " 15  NU_NOTA_CN               8000 non-null   object \n",
      " 16  NU_NOTA_CH               8000 non-null   object \n",
      " 17  NU_NOTA_LC               8000 non-null   object \n",
      " 18  NU_NOTA_MT               8000 non-null   object \n",
      " 19  NU_NOTA_COMP1            8000 non-null   object \n",
      " 20  NU_NOTA_COMP2            8000 non-null   object \n",
      " 21  NU_NOTA_COMP3            8000 non-null   object \n",
      " 22  NU_NOTA_COMP4            8000 non-null   object \n",
      " 23  NU_NOTA_COMP5            8000 non-null   object \n",
      " 24  NU_NOTA_REDACAO          8000 non-null   object \n",
      " 25  Q001                     8000 non-null   object \n",
      " 26  Q002                     8000 non-null   object \n",
      " 27  Q003                     8000 non-null   object \n",
      " 28  Q004                     8000 non-null   object \n",
      " 29  Q005                     8000 non-null   int64  \n",
      " 30  Q006                     8000 non-null   object \n",
      " 31  Q007                     8000 non-null   object \n",
      " 32  Q008                     8000 non-null   object \n",
      " 33  Q009                     8000 non-null   object \n",
      " 34  Q010                     8000 non-null   object \n",
      " 35  Q011                     8000 non-null   object \n",
      " 36  Q012                     8000 non-null   object \n",
      " 37  Q013                     8000 non-null   object \n",
      " 38  Q014                     8000 non-null   object \n",
      " 39  Q015                     8000 non-null   object \n",
      " 40  Q016                     8000 non-null   object \n",
      " 41  Q017                     8000 non-null   object \n",
      " 42  Q018                     8000 non-null   object \n",
      " 43  Q019                     8000 non-null   object \n",
      " 44  Q020                     8000 non-null   object \n",
      " 45  Q021                     8000 non-null   object \n",
      " 46  Q022                     8000 non-null   object \n",
      " 47  Q023                     8000 non-null   object \n",
      " 48  Q024                     8000 non-null   object \n",
      " 49  Q025                     8000 non-null   object \n",
      "dtypes: float64(1), int64(12), object(37)\n",
      "memory usage: 3.1+ MB\n"
     ]
    }
   ],
   "source": [
    "data.info()"
   ]
  },
  {
   "cell_type": "code",
   "execution_count": 96,
   "id": "91aca261",
   "metadata": {},
   "outputs": [
    {
     "data": {
      "text/plain": [
       "NU_INSCRICAO               0\n",
       "NU_ANO                     0\n",
       "NO_MUNICIPIO_RESIDENCIA    0\n",
       "SG_UF_RESIDENCIA           0\n",
       "NU_IDADE                   0\n",
       "TP_SEXO                    0\n",
       "TP_ESTADO_CIVIL            0\n",
       "TP_COR_RACA                0\n",
       "TP_ST_CONCLUSAO            0\n",
       "TP_ANO_CONCLUIU            0\n",
       "TP_ESCOLA                  0\n",
       "TP_PRESENCA_CN             0\n",
       "TP_PRESENCA_CH             0\n",
       "TP_PRESENCA_LC             0\n",
       "TP_PRESENCA_MT             0\n",
       "NU_NOTA_CN                 0\n",
       "NU_NOTA_CH                 0\n",
       "NU_NOTA_LC                 0\n",
       "NU_NOTA_MT                 0\n",
       "NU_NOTA_COMP1              0\n",
       "NU_NOTA_COMP2              0\n",
       "NU_NOTA_COMP3              0\n",
       "NU_NOTA_COMP4              0\n",
       "NU_NOTA_COMP5              0\n",
       "NU_NOTA_REDACAO            0\n",
       "Q001                       0\n",
       "Q002                       0\n",
       "Q003                       0\n",
       "Q004                       0\n",
       "Q005                       0\n",
       "Q006                       0\n",
       "Q007                       0\n",
       "Q008                       0\n",
       "Q009                       0\n",
       "Q010                       0\n",
       "Q011                       0\n",
       "Q012                       0\n",
       "Q013                       0\n",
       "Q014                       0\n",
       "Q015                       0\n",
       "Q016                       0\n",
       "Q017                       0\n",
       "Q018                       0\n",
       "Q019                       0\n",
       "Q020                       0\n",
       "Q021                       0\n",
       "Q022                       0\n",
       "Q023                       0\n",
       "Q024                       0\n",
       "Q025                       0\n",
       "dtype: int64"
      ]
     },
     "execution_count": 96,
     "metadata": {},
     "output_type": "execute_result"
    }
   ],
   "source": [
    "data.isna().sum()"
   ]
  },
  {
   "cell_type": "code",
   "execution_count": 97,
   "id": "cbb5b1a8",
   "metadata": {},
   "outputs": [
    {
     "data": {
      "text/html": [
       "<div>\n",
       "<style scoped>\n",
       "    .dataframe tbody tr th:only-of-type {\n",
       "        vertical-align: middle;\n",
       "    }\n",
       "\n",
       "    .dataframe tbody tr th {\n",
       "        vertical-align: top;\n",
       "    }\n",
       "\n",
       "    .dataframe thead th {\n",
       "        text-align: right;\n",
       "    }\n",
       "</style>\n",
       "<table border=\"1\" class=\"dataframe\">\n",
       "  <thead>\n",
       "    <tr style=\"text-align: right;\">\n",
       "      <th></th>\n",
       "      <th>NU_INSCRICAO</th>\n",
       "      <th>NU_ANO</th>\n",
       "      <th>NU_IDADE</th>\n",
       "      <th>TP_ESTADO_CIVIL</th>\n",
       "      <th>TP_COR_RACA</th>\n",
       "      <th>TP_ST_CONCLUSAO</th>\n",
       "      <th>TP_ANO_CONCLUIU</th>\n",
       "      <th>TP_ESCOLA</th>\n",
       "      <th>TP_PRESENCA_CN</th>\n",
       "      <th>TP_PRESENCA_CH</th>\n",
       "      <th>TP_PRESENCA_LC</th>\n",
       "      <th>TP_PRESENCA_MT</th>\n",
       "      <th>Q005</th>\n",
       "    </tr>\n",
       "  </thead>\n",
       "  <tbody>\n",
       "    <tr>\n",
       "      <th>count</th>\n",
       "      <td>8.000000e+03</td>\n",
       "      <td>8000.000000</td>\n",
       "      <td>8000.000000</td>\n",
       "      <td>8000.000000</td>\n",
       "      <td>8000.00000</td>\n",
       "      <td>8000.000000</td>\n",
       "      <td>8000.000000</td>\n",
       "      <td>8000.000000</td>\n",
       "      <td>8000.000000</td>\n",
       "      <td>8000.000000</td>\n",
       "      <td>8000.000000</td>\n",
       "      <td>8000.000000</td>\n",
       "      <td>8000.000000</td>\n",
       "    </tr>\n",
       "    <tr>\n",
       "      <th>mean</th>\n",
       "      <td>1.750032e+11</td>\n",
       "      <td>2017.500000</td>\n",
       "      <td>24.321875</td>\n",
       "      <td>0.410000</td>\n",
       "      <td>2.11450</td>\n",
       "      <td>1.261125</td>\n",
       "      <td>4.516750</td>\n",
       "      <td>1.144750</td>\n",
       "      <td>0.696625</td>\n",
       "      <td>0.725625</td>\n",
       "      <td>0.720250</td>\n",
       "      <td>0.691250</td>\n",
       "      <td>3.716375</td>\n",
       "    </tr>\n",
       "    <tr>\n",
       "      <th>std</th>\n",
       "      <td>1.118194e+10</td>\n",
       "      <td>1.118104</td>\n",
       "      <td>7.493350</td>\n",
       "      <td>0.618828</td>\n",
       "      <td>1.00872</td>\n",
       "      <td>0.602689</td>\n",
       "      <td>4.144921</td>\n",
       "      <td>0.392513</td>\n",
       "      <td>0.461915</td>\n",
       "      <td>0.447625</td>\n",
       "      <td>0.450017</td>\n",
       "      <td>0.463897</td>\n",
       "      <td>1.566681</td>\n",
       "    </tr>\n",
       "    <tr>\n",
       "      <th>min</th>\n",
       "      <td>1.600000e+11</td>\n",
       "      <td>2016.000000</td>\n",
       "      <td>13.000000</td>\n",
       "      <td>0.000000</td>\n",
       "      <td>0.00000</td>\n",
       "      <td>1.000000</td>\n",
       "      <td>0.000000</td>\n",
       "      <td>1.000000</td>\n",
       "      <td>0.000000</td>\n",
       "      <td>0.000000</td>\n",
       "      <td>0.000000</td>\n",
       "      <td>0.000000</td>\n",
       "      <td>1.000000</td>\n",
       "    </tr>\n",
       "    <tr>\n",
       "      <th>25%</th>\n",
       "      <td>1.675034e+11</td>\n",
       "      <td>2016.750000</td>\n",
       "      <td>19.000000</td>\n",
       "      <td>0.000000</td>\n",
       "      <td>1.00000</td>\n",
       "      <td>1.000000</td>\n",
       "      <td>1.000000</td>\n",
       "      <td>1.000000</td>\n",
       "      <td>0.000000</td>\n",
       "      <td>0.000000</td>\n",
       "      <td>0.000000</td>\n",
       "      <td>0.000000</td>\n",
       "      <td>3.000000</td>\n",
       "    </tr>\n",
       "    <tr>\n",
       "      <th>50%</th>\n",
       "      <td>1.750061e+11</td>\n",
       "      <td>2017.500000</td>\n",
       "      <td>22.000000</td>\n",
       "      <td>0.000000</td>\n",
       "      <td>2.00000</td>\n",
       "      <td>1.000000</td>\n",
       "      <td>3.000000</td>\n",
       "      <td>1.000000</td>\n",
       "      <td>1.000000</td>\n",
       "      <td>1.000000</td>\n",
       "      <td>1.000000</td>\n",
       "      <td>1.000000</td>\n",
       "      <td>4.000000</td>\n",
       "    </tr>\n",
       "    <tr>\n",
       "      <th>75%</th>\n",
       "      <td>1.825073e+11</td>\n",
       "      <td>2018.250000</td>\n",
       "      <td>28.000000</td>\n",
       "      <td>1.000000</td>\n",
       "      <td>3.00000</td>\n",
       "      <td>1.000000</td>\n",
       "      <td>8.000000</td>\n",
       "      <td>1.000000</td>\n",
       "      <td>1.000000</td>\n",
       "      <td>1.000000</td>\n",
       "      <td>1.000000</td>\n",
       "      <td>1.000000</td>\n",
       "      <td>5.000000</td>\n",
       "    </tr>\n",
       "    <tr>\n",
       "      <th>max</th>\n",
       "      <td>1.900032e+11</td>\n",
       "      <td>2019.000000</td>\n",
       "      <td>72.000000</td>\n",
       "      <td>4.000000</td>\n",
       "      <td>6.00000</td>\n",
       "      <td>4.000000</td>\n",
       "      <td>13.000000</td>\n",
       "      <td>4.000000</td>\n",
       "      <td>2.000000</td>\n",
       "      <td>2.000000</td>\n",
       "      <td>2.000000</td>\n",
       "      <td>2.000000</td>\n",
       "      <td>20.000000</td>\n",
       "    </tr>\n",
       "  </tbody>\n",
       "</table>\n",
       "</div>"
      ],
      "text/plain": [
       "       NU_INSCRICAO       NU_ANO     NU_IDADE  TP_ESTADO_CIVIL  TP_COR_RACA  \\\n",
       "count  8.000000e+03  8000.000000  8000.000000      8000.000000   8000.00000   \n",
       "mean   1.750032e+11  2017.500000    24.321875         0.410000      2.11450   \n",
       "std    1.118194e+10     1.118104     7.493350         0.618828      1.00872   \n",
       "min    1.600000e+11  2016.000000    13.000000         0.000000      0.00000   \n",
       "25%    1.675034e+11  2016.750000    19.000000         0.000000      1.00000   \n",
       "50%    1.750061e+11  2017.500000    22.000000         0.000000      2.00000   \n",
       "75%    1.825073e+11  2018.250000    28.000000         1.000000      3.00000   \n",
       "max    1.900032e+11  2019.000000    72.000000         4.000000      6.00000   \n",
       "\n",
       "       TP_ST_CONCLUSAO  TP_ANO_CONCLUIU    TP_ESCOLA  TP_PRESENCA_CN  \\\n",
       "count      8000.000000      8000.000000  8000.000000     8000.000000   \n",
       "mean          1.261125         4.516750     1.144750        0.696625   \n",
       "std           0.602689         4.144921     0.392513        0.461915   \n",
       "min           1.000000         0.000000     1.000000        0.000000   \n",
       "25%           1.000000         1.000000     1.000000        0.000000   \n",
       "50%           1.000000         3.000000     1.000000        1.000000   \n",
       "75%           1.000000         8.000000     1.000000        1.000000   \n",
       "max           4.000000        13.000000     4.000000        2.000000   \n",
       "\n",
       "       TP_PRESENCA_CH  TP_PRESENCA_LC  TP_PRESENCA_MT         Q005  \n",
       "count     8000.000000     8000.000000     8000.000000  8000.000000  \n",
       "mean         0.725625        0.720250        0.691250     3.716375  \n",
       "std          0.447625        0.450017        0.463897     1.566681  \n",
       "min          0.000000        0.000000        0.000000     1.000000  \n",
       "25%          0.000000        0.000000        0.000000     3.000000  \n",
       "50%          1.000000        1.000000        1.000000     4.000000  \n",
       "75%          1.000000        1.000000        1.000000     5.000000  \n",
       "max          2.000000        2.000000        2.000000    20.000000  "
      ]
     },
     "execution_count": 97,
     "metadata": {},
     "output_type": "execute_result"
    }
   ],
   "source": [
    "data.describe()"
   ]
  },
  {
   "cell_type": "markdown",
   "id": "f99ec3e8",
   "metadata": {},
   "source": [
    "### Listing columns"
   ]
  },
  {
   "cell_type": "code",
   "execution_count": 98,
   "id": "0dec86ae",
   "metadata": {},
   "outputs": [
    {
     "data": {
      "text/plain": [
       "array(['NU_INSCRICAO', 'NU_ANO', 'NO_MUNICIPIO_RESIDENCIA',\n",
       "       'SG_UF_RESIDENCIA', 'NU_IDADE', 'TP_SEXO', 'TP_ESTADO_CIVIL',\n",
       "       'TP_COR_RACA', 'TP_ST_CONCLUSAO', 'TP_ANO_CONCLUIU', 'TP_ESCOLA',\n",
       "       'TP_PRESENCA_CN', 'TP_PRESENCA_CH', 'TP_PRESENCA_LC',\n",
       "       'TP_PRESENCA_MT', 'NU_NOTA_CN', 'NU_NOTA_CH', 'NU_NOTA_LC',\n",
       "       'NU_NOTA_MT', 'NU_NOTA_COMP1', 'NU_NOTA_COMP2', 'NU_NOTA_COMP3',\n",
       "       'NU_NOTA_COMP4', 'NU_NOTA_COMP5', 'NU_NOTA_REDACAO', 'Q001',\n",
       "       'Q002', 'Q003', 'Q004', 'Q005', 'Q006', 'Q007', 'Q008', 'Q009',\n",
       "       'Q010', 'Q011', 'Q012', 'Q013', 'Q014', 'Q015', 'Q016', 'Q017',\n",
       "       'Q018', 'Q019', 'Q020', 'Q021', 'Q022', 'Q023', 'Q024', 'Q025'],\n",
       "      dtype=object)"
      ]
     },
     "execution_count": 98,
     "metadata": {},
     "output_type": "execute_result"
    }
   ],
   "source": [
    "data.columns.values"
   ]
  },
  {
   "cell_type": "markdown",
   "id": "5458aa0c",
   "metadata": {},
   "source": [
    "## Factor 1: Geographical belongingness"
   ]
  },
  {
   "cell_type": "markdown",
   "id": "2276e7c4",
   "metadata": {},
   "source": [
    "### Conferindo cidade e estado de origem dos participantes"
   ]
  },
  {
   "cell_type": "code",
   "execution_count": 99,
   "id": "5da38051",
   "metadata": {},
   "outputs": [
    {
     "data": {
      "text/html": [
       "<div>\n",
       "<style scoped>\n",
       "    .dataframe tbody tr th:only-of-type {\n",
       "        vertical-align: middle;\n",
       "    }\n",
       "\n",
       "    .dataframe tbody tr th {\n",
       "        vertical-align: top;\n",
       "    }\n",
       "\n",
       "    .dataframe thead th {\n",
       "        text-align: right;\n",
       "    }\n",
       "</style>\n",
       "<table border=\"1\" class=\"dataframe\">\n",
       "  <thead>\n",
       "    <tr style=\"text-align: right;\">\n",
       "      <th></th>\n",
       "      <th>SG_UF_RESIDENCIA</th>\n",
       "      <th>NO_MUNICIPIO_RESIDENCIA</th>\n",
       "    </tr>\n",
       "  </thead>\n",
       "  <tbody>\n",
       "    <tr>\n",
       "      <th>0</th>\n",
       "      <td>PB</td>\n",
       "      <td>João Pessoa</td>\n",
       "    </tr>\n",
       "    <tr>\n",
       "      <th>1</th>\n",
       "      <td>PR</td>\n",
       "      <td>Vitorino</td>\n",
       "    </tr>\n",
       "    <tr>\n",
       "      <th>2</th>\n",
       "      <td>BA</td>\n",
       "      <td>Salvador</td>\n",
       "    </tr>\n",
       "    <tr>\n",
       "      <th>3</th>\n",
       "      <td>PA</td>\n",
       "      <td>Belém</td>\n",
       "    </tr>\n",
       "    <tr>\n",
       "      <th>4</th>\n",
       "      <td>DF</td>\n",
       "      <td>Brasília</td>\n",
       "    </tr>\n",
       "    <tr>\n",
       "      <th>...</th>\n",
       "      <td>...</td>\n",
       "      <td>...</td>\n",
       "    </tr>\n",
       "    <tr>\n",
       "      <th>7995</th>\n",
       "      <td>RJ</td>\n",
       "      <td>Araruama</td>\n",
       "    </tr>\n",
       "    <tr>\n",
       "      <th>7996</th>\n",
       "      <td>MG</td>\n",
       "      <td>Canaã</td>\n",
       "    </tr>\n",
       "    <tr>\n",
       "      <th>7997</th>\n",
       "      <td>RJ</td>\n",
       "      <td>Itaboraí</td>\n",
       "    </tr>\n",
       "    <tr>\n",
       "      <th>7998</th>\n",
       "      <td>PR</td>\n",
       "      <td>Cascavel</td>\n",
       "    </tr>\n",
       "    <tr>\n",
       "      <th>7999</th>\n",
       "      <td>RJ</td>\n",
       "      <td>Rio de Janeiro</td>\n",
       "    </tr>\n",
       "  </tbody>\n",
       "</table>\n",
       "<p>8000 rows × 2 columns</p>\n",
       "</div>"
      ],
      "text/plain": [
       "     SG_UF_RESIDENCIA NO_MUNICIPIO_RESIDENCIA\n",
       "0                  PB             João Pessoa\n",
       "1                  PR                Vitorino\n",
       "2                  BA                Salvador\n",
       "3                  PA                   Belém\n",
       "4                  DF                Brasília\n",
       "...               ...                     ...\n",
       "7995               RJ                Araruama\n",
       "7996               MG                   Canaã\n",
       "7997               RJ                Itaboraí\n",
       "7998               PR                Cascavel\n",
       "7999               RJ          Rio de Janeiro\n",
       "\n",
       "[8000 rows x 2 columns]"
      ]
     },
     "execution_count": 99,
     "metadata": {},
     "output_type": "execute_result"
    }
   ],
   "source": [
    "data[['SG_UF_RESIDENCIA','NO_MUNICIPIO_RESIDENCIA']]"
   ]
  },
  {
   "cell_type": "markdown",
   "id": "a3ae9b86",
   "metadata": {},
   "source": [
    "### Conferindo Estados que tem pelo menos 1 participante"
   ]
  },
  {
   "cell_type": "code",
   "execution_count": 100,
   "id": "a8325b1b",
   "metadata": {},
   "outputs": [
    {
     "data": {
      "text/plain": [
       "array(['PB', 'PR', 'BA', 'PA', 'DF', 'CE', 'SP', 'RJ', 'RN', 'ES', 'MG',\n",
       "       'PE', 'MS', 'GO', 'SE', 'MT', 'PI', 'RS', 'AL', 'TO', 'AM', 'MA',\n",
       "       'SC', 'RO', 'RR', 'AC', 'AP'], dtype=object)"
      ]
     },
     "execution_count": 100,
     "metadata": {},
     "output_type": "execute_result"
    }
   ],
   "source": [
    "data['SG_UF_RESIDENCIA'].unique()"
   ]
  },
  {
   "cell_type": "markdown",
   "id": "1bc75730",
   "metadata": {},
   "source": [
    "### Total de alunos por Unidade Federativa"
   ]
  },
  {
   "cell_type": "markdown",
   "id": "121aec4f",
   "metadata": {},
   "source": [
    "To-do: Fazer uma mapa com os quantitaivos (ou percentuais) de alunos por Estado ou por região"
   ]
  },
  {
   "cell_type": "code",
   "execution_count": 101,
   "id": "74cbf96d",
   "metadata": {},
   "outputs": [
    {
     "data": {
      "text/plain": [
       "SP    1469\n",
       "MG     941\n",
       "BA     766\n",
       "RJ     497\n",
       "CE     478\n",
       "PE     448\n",
       "PR     388\n",
       "RS     367\n",
       "GO     301\n",
       "PA     275\n",
       "MA     265\n",
       "DF     202\n",
       "PB     196\n",
       "ES     186\n",
       "SC     183\n",
       "RN     167\n",
       "PI     149\n",
       "MT     121\n",
       "AM     115\n",
       "SE     101\n",
       "AL      93\n",
       "MS      92\n",
       "TO      64\n",
       "RO      58\n",
       "AP      37\n",
       "AC      22\n",
       "RR      19\n",
       "Name: SG_UF_RESIDENCIA, dtype: int64"
      ]
     },
     "execution_count": 101,
     "metadata": {},
     "output_type": "execute_result"
    }
   ],
   "source": [
    "data['SG_UF_RESIDENCIA'].value_counts()"
   ]
  },
  {
   "cell_type": "code",
   "execution_count": 102,
   "id": "dc429ac4",
   "metadata": {},
   "outputs": [
    {
     "name": "stderr",
     "output_type": "stream",
     "text": [
      "C:\\Users\\cof2\\anaconda3\\envs\\ufpe\\lib\\site-packages\\seaborn\\_decorators.py:36: FutureWarning: Pass the following variables as keyword args: x, y. From version 0.12, the only valid positional argument will be `data`, and passing other arguments without an explicit keyword will result in an error or misinterpretation.\n",
      "  warnings.warn(\n"
     ]
    },
    {
     "data": {
      "text/plain": [
       "Text(0, 0.5, 'Participantes')"
      ]
     },
     "execution_count": 102,
     "metadata": {},
     "output_type": "execute_result"
    },
    {
     "data": {
      "image/png": "[encoded data removed]",
      "text/plain": [
       "<Figure size 1440x360 with 1 Axes>"
      ]
     },
     "metadata": {
      "needs_background": "light"
     },
     "output_type": "display_data"
    }
   ],
   "source": [
    "# pandas\n",
    "# data['SG_UF_RESIDENCIA'].value_counts().plot.bar(figsize=(20,5))\n",
    "# plt.title('Distribuição de Participantes do ENEM por UF', fontsize=30)\n",
    "# plt.xlabel('UF', fontsize=20)\n",
    "# plt.ylabel('Participantes', fontsize=20)\n",
    "\n",
    "plt.figure(figsize=(20,5))\n",
    "sns.barplot(data['SG_UF_RESIDENCIA'].value_counts().index,\n",
    "            data['SG_UF_RESIDENCIA'].value_counts().values)\n",
    "plt.title('Participantes do ENEM por UF', fontsize=30)\n",
    "plt.xlabel('Unidade Federativa (UF)', fontsize=20)\n",
    "plt.ylabel('Participantes', fontsize=20)"
   ]
  },
  {
   "cell_type": "markdown",
   "id": "7f4ec28f",
   "metadata": {},
   "source": [
    "### Vemos que SP é o Estado com maior número de alunos. E Roraima tem o menor número de alunos "
   ]
  },
  {
   "cell_type": "markdown",
   "id": "eb76a1ad",
   "metadata": {},
   "source": [
    "### Plotando a proporção de participantes do ENEM por UF do total de participantes"
   ]
  },
  {
   "cell_type": "code",
   "execution_count": 103,
   "id": "531a2a2a",
   "metadata": {},
   "outputs": [
    {
     "data": {
      "text/plain": [
       "Text(0, 0.5, 'Participantes')"
      ]
     },
     "execution_count": 103,
     "metadata": {},
     "output_type": "execute_result"
    },
    {
     "data": {
      "image/png": "[encoded data removed]",
      "text/plain": [
       "<Figure size 1440x360 with 1 Axes>"
      ]
     },
     "metadata": {
      "needs_background": "light"
     },
     "output_type": "display_data"
    }
   ],
   "source": [
    "prop_UF = data['SG_UF_RESIDENCIA'].value_counts()/data['SG_UF_RESIDENCIA'].shape[0]*100\n",
    "prop_UF.plot.bar(figsize=(20,5))\n",
    "plt.title('% de Participantes do ENEM por UF', fontsize=30)\n",
    "plt.xlabel('UF', fontsize=20)\n",
    "plt.ylabel('Participantes', fontsize=20)"
   ]
  },
  {
   "cell_type": "markdown",
   "id": "4a2f14e0",
   "metadata": {},
   "source": [
    "## Factor 2: Age"
   ]
  },
  {
   "cell_type": "markdown",
   "id": "69b716b5",
   "metadata": {},
   "source": [
    "### Conferindo a distribuição dos alunos por faixa etária"
   ]
  },
  {
   "cell_type": "code",
   "execution_count": 104,
   "id": "9ae82d9f",
   "metadata": {},
   "outputs": [
    {
     "data": {
      "text/plain": [
       "13      1\n",
       "14      2\n",
       "15     25\n",
       "16    111\n",
       "17    629\n",
       "18    960\n",
       "19    807\n",
       "20    681\n",
       "21    594\n",
       "22    464\n",
       "23    439\n",
       "24    389\n",
       "25    362\n",
       "26    291\n",
       "27    238\n",
       "28    209\n",
       "29    204\n",
       "30    190\n",
       "31    171\n",
       "32    151\n",
       "33    110\n",
       "34    114\n",
       "35    118\n",
       "36    100\n",
       "37     85\n",
       "38     70\n",
       "39     77\n",
       "40     54\n",
       "41     52\n",
       "42     38\n",
       "43     43\n",
       "44     29\n",
       "45     36\n",
       "46     20\n",
       "47     18\n",
       "48     18\n",
       "49      9\n",
       "50     12\n",
       "51     11\n",
       "52     14\n",
       "53     13\n",
       "54      6\n",
       "55      6\n",
       "56      6\n",
       "57      7\n",
       "58      4\n",
       "59      2\n",
       "60      2\n",
       "61      1\n",
       "62      2\n",
       "64      3\n",
       "65      1\n",
       "72      1\n",
       "Name: NU_IDADE, dtype: int64"
      ]
     },
     "execution_count": 104,
     "metadata": {},
     "output_type": "execute_result"
    }
   ],
   "source": [
    "data['NU_IDADE'].value_counts().sort_index()"
   ]
  },
  {
   "cell_type": "code",
   "execution_count": 105,
   "id": "a1262d05",
   "metadata": {},
   "outputs": [
    {
     "name": "stderr",
     "output_type": "stream",
     "text": [
      "C:\\Users\\cof2\\anaconda3\\envs\\ufpe\\lib\\site-packages\\seaborn\\distributions.py:2619: FutureWarning: `distplot` is a deprecated function and will be removed in a future version. Please adapt your code to use either `displot` (a figure-level function with similar flexibility) or `histplot` (an axes-level function for histograms).\n",
      "  warnings.warn(msg, FutureWarning)\n"
     ]
    },
    {
     "data": {
      "image/png": "[encoded data removed]",
      "text/plain": [
       "<Figure size 1440x360 with 1 Axes>"
      ]
     },
     "metadata": {
      "needs_background": "light"
     },
     "output_type": "display_data"
    },
    {
     "data": {
      "image/png": "[encoded data removed]",
      "text/plain": [
       "<Figure size 1440x360 with 1 Axes>"
      ]
     },
     "metadata": {
      "needs_background": "light"
     },
     "output_type": "display_data"
    }
   ],
   "source": [
    "## Gráfico de Barras \n",
    "data['NU_IDADE'].value_counts().sort_index().plot.bar(figsize=(20,5))\n",
    "plt.xlabel('Idade', fontsize=20)\n",
    "plt.ylabel('Qtd. Participantes', fontsize=20)\n",
    "plt.title('Faixa etária dos participantes do ENEM 2019', fontsize=25)\n",
    "\n",
    "## Gráficos tipo Histograma\n",
    "plt.figure(figsize=(20,5))\n",
    "sns.distplot(data['NU_IDADE'], kde=False)\n",
    "plt.xlabel('Idade', fontsize=20)\n",
    "plt.ylabel('Qtd. Participantes', fontsize=20)\n",
    "plt.title('Faixa etária dos participantes do ENEM 2019', fontsize=25)\n",
    "plt.grid()"
   ]
  },
  {
   "cell_type": "markdown",
   "id": "d9004fef",
   "metadata": {},
   "source": [
    "### Podemos observar que a maior parte dos alunos que fazem o ENEM estão entre 16 e 25 anos"
   ]
  },
  {
   "cell_type": "code",
   "execution_count": 106,
   "id": "1de0fb30",
   "metadata": {},
   "outputs": [
    {
     "data": {
      "image/png": "[encoded data removed]",
      "text/plain": [
       "<Figure size 1440x360 with 1 Axes>"
      ]
     },
     "metadata": {
      "needs_background": "light"
     },
     "output_type": "display_data"
    }
   ],
   "source": [
    "#Seaborn\n",
    "plt.figure(figsize=(20,5))\n",
    "sns.distplot(data['NU_IDADE'], kde=False,bins=20)\n",
    "plt.xlabel('Idade', fontsize=20)\n",
    "plt.ylabel('Qtd. Participantes', fontsize=20)\n",
    "plt.title('Faixa etária dos participantes do ENEM 2019', fontsize=25)\n",
    "plt.grid()"
   ]
  },
  {
   "cell_type": "markdown",
   "id": "2103af48",
   "metadata": {},
   "source": [
    "### Conferindo a proporção de cada idade dentro do total de participantes:"
   ]
  },
  {
   "cell_type": "code",
   "execution_count": 107,
   "id": "699a4f86",
   "metadata": {},
   "outputs": [
    {
     "data": {
      "image/png": "[encoded data removed]",
      "text/plain": [
       "<Figure size 1440x360 with 1 Axes>"
      ]
     },
     "metadata": {
      "needs_background": "light"
     },
     "output_type": "display_data"
    }
   ],
   "source": [
    "proprocao_idade = data['NU_IDADE'].value_counts().sort_index()/data.shape[0]*100 \n",
    "proprocao_idade.plot.bar(figsize=(20,5))\n",
    "plt.xlabel('Idade', fontsize=20)\n",
    "plt.ylabel('% de participantes', fontsize=20)\n",
    "plt.title('% faixa etária dos participantes do ENEM 2019', fontsize=25)\n",
    "plt.grid()"
   ]
  },
  {
   "cell_type": "markdown",
   "id": "e3df77f0",
   "metadata": {},
   "source": [
    "### Faixa etária dos treineiros"
   ]
  },
  {
   "cell_type": "markdown",
   "id": "f709912c",
   "metadata": {},
   "source": [
    "Existe uma categoria de participantes no ENEM chamada ***Treineiro***, referente ao aluno que realiza a prova como qualquer outro participante sem entrar no processo de seleção de vestibular. \n",
    "\n",
    "O objetivo deste candidato é ganhar experiência e se preparar para o exame em anos seguintes.\n",
    "\n",
    "Observa-se nos dados que existem participantes com idade inferior a esperada para a prova (17 a 18 anos). \n",
    "\n",
    "Vamos verificar quantos desses participantes são ou não treineiros:"
   ]
  },
  {
   "cell_type": "code",
   "execution_count": 110,
   "id": "93bc3418",
   "metadata": {},
   "outputs": [],
   "source": [
    "# treineiro_sim = data.loc[data['IN_TREINEIRO']==1, 'NU_IDADE']\n",
    "# treineiro_nao = data.loc[data['IN_TREINEIRO']==0, 'NU_IDADE']\n",
    "\n",
    "# treineiro_nao.hist(bins=40,figsize=(20,5), label='Concorrência Geral')\n",
    "# treineiro_sim.hist(bins=40,figsize=(20,5), label='Treineiro')\n",
    "# plt.legend(fontsize=15)\n",
    "# plt.xlabel('Idade', fontsize=20)\n",
    "# plt.ylabel('Qtd. Participantes', fontsize=20)\n",
    "# plt.title('Distribuição Etária dos Participantes do ENEM 2019', fontsize=25)"
   ]
  },
  {
   "cell_type": "markdown",
   "id": "7b80e37a",
   "metadata": {},
   "source": [
    "### Vemos que a maioria dos candidatos que prestam a prova como treineiros possuem menos de 20 anos."
   ]
  },
  {
   "cell_type": "markdown",
   "id": "a78601c8",
   "metadata": {},
   "source": [
    "## Factor 3: Sex"
   ]
  },
  {
   "cell_type": "code",
   "execution_count": 111,
   "id": "a17e1256",
   "metadata": {},
   "outputs": [
    {
     "data": {
      "text/plain": [
       "F    4981\n",
       "M    3019\n",
       "Name: TP_SEXO, dtype: int64"
      ]
     },
     "execution_count": 111,
     "metadata": {},
     "output_type": "execute_result"
    }
   ],
   "source": [
    "data['TP_SEXO'].value_counts().sort_index()"
   ]
  },
  {
   "cell_type": "code",
   "execution_count": 112,
   "id": "1fe73932",
   "metadata": {},
   "outputs": [],
   "source": [
    "def graficoSexo(data):\n",
    "  #Gera gráfico de pizza mostrando o quantitaivo de homens e mulheres\n",
    "  mulheres = data[data['TP_SEXO'] == 'F']['TP_SEXO'].count()\n",
    "  homens = data[data['TP_SEXO'] == 'M']['TP_SEXO'].count()\n",
    "  qtdImoveis = [mulheres, homens]\n",
    "  tipos = ['Mulher', 'Homem']\n",
    "  plt.pie(qtdImoveis, labels=tipos, explode=[0.03,0.03], startangle=90, shadow=True, autopct='%1.1f%%', textprops={'color':\"white\"})\n",
    "  plt.title(\"Quantitativo Homem x Mulher\", color = 'white')\n",
    "  plt.show()"
   ]
  },
  {
   "cell_type": "code",
   "execution_count": 113,
   "id": "6ce9cf4b",
   "metadata": {},
   "outputs": [
    {
     "data": {
      "image/png": "[encoded data removed]",
      "text/plain": [
       "<Figure size 432x288 with 1 Axes>"
      ]
     },
     "metadata": {},
     "output_type": "display_data"
    }
   ],
   "source": [
    "graficoSexo(data)"
   ]
  },
  {
   "cell_type": "markdown",
   "id": "5e5a3220",
   "metadata": {},
   "source": [
    "## Factor 4: Marital status"
   ]
  },
  {
   "cell_type": "code",
   "execution_count": 114,
   "id": "fd63f128",
   "metadata": {},
   "outputs": [
    {
     "data": {
      "text/plain": [
       "0.0    5220\n",
       "1.0    2342\n",
       "2.0     378\n",
       "3.0      58\n",
       "4.0       2\n",
       "Name: TP_ESTADO_CIVIL, dtype: int64"
      ]
     },
     "execution_count": 114,
     "metadata": {},
     "output_type": "execute_result"
    }
   ],
   "source": [
    "data['TP_ESTADO_CIVIL'].value_counts().sort_index()"
   ]
  },
  {
   "cell_type": "code",
   "execution_count": 115,
   "id": "4538751b",
   "metadata": {},
   "outputs": [
    {
     "data": {
      "image/png": "[encoded data removed]",
      "text/plain": [
       "<Figure size 576x576 with 1 Axes>"
      ]
     },
     "metadata": {
      "needs_background": "light"
     },
     "output_type": "display_data"
    }
   ],
   "source": [
    "plt.figure(figsize=(8,8))\n",
    "counts = data['TP_ESTADO_CIVIL'].value_counts()\n",
    "ax = sns.barplot(y=counts.index,x=counts, orient='v')\n",
    "plt.title('Estado civil dos participantes')\n",
    "plt.xlabel('Total de estudantes')\n",
    "plt.ylabel('Quantitativo')\n",
    "plt.show()"
   ]
  },
  {
   "cell_type": "markdown",
   "id": "35b380ab",
   "metadata": {},
   "source": [
    "### Factor 5: Ethnicity"
   ]
  },
  {
   "cell_type": "code",
   "execution_count": 116,
   "id": "d493676c",
   "metadata": {},
   "outputs": [
    {
     "data": {
      "text/plain": [
       "0     131\n",
       "1    2921\n",
       "2    1131\n",
       "3    3593\n",
       "4     176\n",
       "5      38\n",
       "6      10\n",
       "Name: TP_COR_RACA, dtype: int64"
      ]
     },
     "execution_count": 116,
     "metadata": {},
     "output_type": "execute_result"
    }
   ],
   "source": [
    "data['TP_COR_RACA'].value_counts().sort_index()"
   ]
  },
  {
   "cell_type": "code",
   "execution_count": 117,
   "id": "08ef2bb7",
   "metadata": {},
   "outputs": [
    {
     "data": {
      "image/png": "[encoded data removed]",
      "text/plain": [
       "<Figure size 576x576 with 1 Axes>"
      ]
     },
     "metadata": {
      "needs_background": "light"
     },
     "output_type": "display_data"
    }
   ],
   "source": [
    "plt.figure(figsize=(8,8))\n",
    "counts = data['TP_COR_RACA'].value_counts()\n",
    "ax = sns.barplot(y=counts.index,x=counts, orient='v')\n",
    "plt.title('Raça')\n",
    "plt.xlabel('Total de estudante')\n",
    "plt.ylabel('Quantitativo')\n",
    "plt.show()"
   ]
  },
  {
   "cell_type": "markdown",
   "id": "c225c9e2",
   "metadata": {},
   "source": [
    "Observa-se que a maior parte dos alunos declarou ser de raça indígena. Enquanto a minoria declrou pertencer à raça branca"
   ]
  },
  {
   "cell_type": "markdown",
   "id": "3d2fc23e",
   "metadata": {},
   "source": [
    "# Factor 5: Parents’ education level"
   ]
  },
  {
   "cell_type": "markdown",
   "id": "836a71b9",
   "metadata": {},
   "source": [
    "### 5.1 Father's education level"
   ]
  },
  {
   "cell_type": "code",
   "execution_count": 118,
   "id": "7ce7946d",
   "metadata": {},
   "outputs": [],
   "source": [
    "from pandas.api.types import CategoricalDtype\n",
    "father_education_dtype = CategoricalDtype(categories=['A', 'B', 'C', 'D', 'E', 'F', 'G', 'H'], ordered=True)\n",
    "mother_education_dtype = CategoricalDtype(categories=['A', 'B', 'C', 'D', 'E', 'F', 'G', 'H'], ordered=True)\n",
    "\n",
    "father_profession_dtype = CategoricalDtype(categories=['A', 'B', 'C', 'D', 'E', 'F', 'G'], ordered=True)\n",
    "mother_profession_dtype = CategoricalDtype(categories=['A', 'B', 'C', 'D', 'E', 'F', 'G'], ordered=True)\n",
    "\n",
    "parents_income_dtype = CategoricalDtype(categories=['A', 'B', 'C', 'D', 'E', 'F', 'G', 'H', 'I', 'J', 'K', 'L', 'M', 'N', 'O', 'P', 'Q'], ordered=True)\n"
   ]
  },
  {
   "cell_type": "code",
   "execution_count": 119,
   "id": "125faf31",
   "metadata": {},
   "outputs": [
    {
     "data": {
      "text/plain": [
       "A     442\n",
       "B    2139\n",
       "C    1078\n",
       "D     985\n",
       "E    2042\n",
       "F     429\n",
       "G     220\n",
       "H     665\n",
       "Name: Q001, dtype: int64"
      ]
     },
     "execution_count": 119,
     "metadata": {},
     "output_type": "execute_result"
    }
   ],
   "source": [
    "data['Q001'].value_counts().sort_index()"
   ]
  },
  {
   "cell_type": "code",
   "execution_count": 120,
   "id": "14a41c01",
   "metadata": {},
   "outputs": [
    {
     "data": {
      "image/png": "[encoded data removed]",
      "text/plain": [
       "<Figure size 1080x360 with 1 Axes>"
      ]
     },
     "metadata": {
      "needs_background": "light"
     },
     "output_type": "display_data"
    }
   ],
   "source": [
    "plt.figure(figsize=(15,5))\n",
    "plt.title(\"Nível de escolaridade do pai\")\n",
    "ax = sns.countplot(x=data['Q001'].astype(father_education_dtype).sort_values(ascending=True))\n",
    "# ax.yaxis.set_major_formatter(tkr.FuncFormatter(formatador_de_milhares))\n",
    "plt.xlabel('Nº de ')\n",
    "plt.ylabel('Quantitativo')\n",
    "plt.show()"
   ]
  },
  {
   "cell_type": "markdown",
   "id": "0e0c6bb0",
   "metadata": {},
   "source": [
    "### 5.2 Mother's education level"
   ]
  },
  {
   "cell_type": "code",
   "execution_count": 121,
   "id": "61f4ba3e",
   "metadata": {},
   "outputs": [
    {
     "data": {
      "image/png": "[encoded data removed]",
      "text/plain": [
       "<Figure size 1080x360 with 1 Axes>"
      ]
     },
     "metadata": {
      "needs_background": "light"
     },
     "output_type": "display_data"
    }
   ],
   "source": [
    "plt.figure(figsize=(15,5))\n",
    "plt.title(\"Nível de escolaridade da mãe\")\n",
    "ax = sns.countplot(x=data['Q002'].astype(mother_education_dtype).sort_values(ascending=True))\n",
    "# ax.yaxis.set_major_formatter(tkr.FuncFormatter(formatador_de_milhares))\n",
    "plt.xlabel('Nº de ')\n",
    "plt.ylabel('Quantitativo')\n",
    "plt.show()"
   ]
  },
  {
   "cell_type": "markdown",
   "id": "a1003b88",
   "metadata": {},
   "source": [
    "## 6 - Factor Parental profession"
   ]
  },
  {
   "cell_type": "markdown",
   "id": "0ab19078",
   "metadata": {},
   "source": [
    "### 6.1 Profissão do pai (Q003)"
   ]
  },
  {
   "cell_type": "code",
   "execution_count": 122,
   "id": "633ca92e",
   "metadata": {},
   "outputs": [
    {
     "data": {
      "image/png": "[encoded data removed]",
      "text/plain": [
       "<Figure size 1080x360 with 1 Axes>"
      ]
     },
     "metadata": {
      "needs_background": "light"
     },
     "output_type": "display_data"
    }
   ],
   "source": [
    "plt.figure(figsize=(15,5))\n",
    "plt.title(\"Profissão do pai\")\n",
    "ax = sns.countplot(x=data['Q003'].astype(father_profession_dtype).sort_values(ascending=True))\n",
    "# ax.yaxis.set_major_formatter(tkr.FuncFormatter(formatador_de_milhares))\n",
    "plt.xlabel('Nº de ')\n",
    "plt.ylabel('Quantitativo')\n",
    "plt.show()"
   ]
  },
  {
   "cell_type": "markdown",
   "id": "1ff64cbb",
   "metadata": {},
   "source": [
    "### 6.2 Profissão da mãe (Q004)"
   ]
  },
  {
   "cell_type": "code",
   "execution_count": 123,
   "id": "5c7085cf",
   "metadata": {},
   "outputs": [
    {
     "data": {
      "image/png": "[encoded data removed]",
      "text/plain": [
       "<Figure size 1080x360 with 1 Axes>"
      ]
     },
     "metadata": {
      "needs_background": "light"
     },
     "output_type": "display_data"
    }
   ],
   "source": [
    "plt.figure(figsize=(15,5))\n",
    "plt.title(\"Profissão da mãe\")\n",
    "ax = sns.countplot(x=data['Q004'].astype(mother_profession_dtype).sort_values(ascending=True))\n",
    "# ax.yaxis.set_major_formatter(tkr.FuncFormatter(formatador_de_milhares))\n",
    "plt.xlabel('Nº de ')\n",
    "plt.ylabel('Quantitativo')\n",
    "plt.show()"
   ]
  },
  {
   "cell_type": "markdown",
   "id": "e278f42d",
   "metadata": {},
   "source": [
    "## Factor 7: Income"
   ]
  },
  {
   "cell_type": "code",
   "execution_count": 124,
   "id": "b63a851f",
   "metadata": {},
   "outputs": [
    {
     "data": {
      "image/png": "[encoded data removed]",
      "text/plain": [
       "<Figure size 1080x360 with 1 Axes>"
      ]
     },
     "metadata": {
      "needs_background": "light"
     },
     "output_type": "display_data"
    }
   ],
   "source": [
    "plt.figure(figsize=(15,5))\n",
    "plt.title(\"Renda\")\n",
    "ax = sns.countplot(x=data['Q006'].astype(mother_education_dtype).sort_values(ascending=True))\n",
    "plt.xlabel('Nº de ')\n",
    "plt.ylabel('Quantitativo')\n",
    "plt.show()"
   ]
  },
  {
   "cell_type": "markdown",
   "id": "a1be497a",
   "metadata": {},
   "source": [
    "## Factor 8: socioeconomic status (SES)"
   ]
  },
  {
   "cell_type": "markdown",
   "id": "7e55ffbf",
   "metadata": {},
   "source": [
    "It measures the amount of itens selected"
   ]
  },
  {
   "cell_type": "markdown",
   "id": "9dfeb488",
   "metadata": {},
   "source": []
  },
  {
   "cell_type": "markdown",
   "id": "74f4200d",
   "metadata": {},
   "source": [
    "### Vamos avaliar a distribuição de notas por cada prova.\n",
    "\n",
    "Alguns exemplos são a distribuição das notas na prova de redação e linguagem e comunicação:"
   ]
  },
  {
   "cell_type": "code",
   "execution_count": 125,
   "id": "e4b4c688",
   "metadata": {},
   "outputs": [
    {
     "data": {
      "text/plain": [
       "Text(0.5, 1.0, 'Distribuição de notas de MT')"
      ]
     },
     "execution_count": 125,
     "metadata": {},
     "output_type": "execute_result"
    },
    {
     "data": {
      "image/png": "[encoded data removed]",
      "text/plain": [
       "<Figure size 720x360 with 1 Axes>"
      ]
     },
     "metadata": {
      "needs_background": "light"
     },
     "output_type": "display_data"
    },
    {
     "data": {
      "image/png": "[encoded data removed]",
      "text/plain": [
       "<Figure size 720x360 with 1 Axes>"
      ]
     },
     "metadata": {
      "needs_background": "light"
     },
     "output_type": "display_data"
    },
    {
     "data": {
      "image/png": "[encoded data removed]",
      "text/plain": [
       "<Figure size 720x360 with 1 Axes>"
      ]
     },
     "metadata": {
      "needs_background": "light"
     },
     "output_type": "display_data"
    }
   ],
   "source": [
    "# Histograma notas redação)\n",
    "plt.figure()\n",
    "data['NU_NOTA_REDACAO'].hist(bins=20, figsize=(10,5))\n",
    "plt.xlabel('Nota redação', fontsize=20)\n",
    "plt.ylabel('Ocorrência',fontsize=20)\n",
    "plt.title('Distribuição de notas de redação',fontsize=25)\n",
    "\n",
    "plt.figure()\n",
    "data['NU_NOTA_LC'].hist(bins=20, figsize=(10,5))\n",
    "plt.xlabel('Nota LC',fontsize=20)\n",
    "plt.ylabel('Ocorrência',fontsize=20)\n",
    "plt.title('Distribuição de notas de LC',fontsize=25)\n",
    "\n",
    "plt.figure()\n",
    "data['NU_NOTA_MT'].hist(bins=20, figsize=(10,5))\n",
    "plt.xlabel('Nota Matemática',fontsize=20)\n",
    "plt.ylabel('Ocorrência',fontsize=20)\n",
    "plt.title('Distribuição de notas de MT',fontsize=25)"
   ]
  },
  {
   "cell_type": "code",
   "execution_count": 126,
   "id": "efd44f37",
   "metadata": {},
   "outputs": [
    {
     "data": {
      "text/html": [
       "<div>\n",
       "<style scoped>\n",
       "    .dataframe tbody tr th:only-of-type {\n",
       "        vertical-align: middle;\n",
       "    }\n",
       "\n",
       "    .dataframe tbody tr th {\n",
       "        vertical-align: top;\n",
       "    }\n",
       "\n",
       "    .dataframe thead th {\n",
       "        text-align: right;\n",
       "    }\n",
       "</style>\n",
       "<table border=\"1\" class=\"dataframe\">\n",
       "  <thead>\n",
       "    <tr style=\"text-align: right;\">\n",
       "      <th></th>\n",
       "      <th>NU_NOTA_LC</th>\n",
       "      <th>NU_NOTA_REDACAO</th>\n",
       "    </tr>\n",
       "  </thead>\n",
       "  <tbody>\n",
       "    <tr>\n",
       "      <th>count</th>\n",
       "      <td>8000</td>\n",
       "      <td>8000</td>\n",
       "    </tr>\n",
       "    <tr>\n",
       "      <th>unique</th>\n",
       "      <td>2361</td>\n",
       "      <td>134</td>\n",
       "    </tr>\n",
       "    <tr>\n",
       "      <th>top</th>\n",
       "      <td>25    550.166152\\nName: NU_NOTA_LC, dtype: flo...</td>\n",
       "      <td>25    564.859551\\nName: NU_NOTA_REDACAO, dtype...</td>\n",
       "    </tr>\n",
       "    <tr>\n",
       "      <th>freq</th>\n",
       "      <td>429</td>\n",
       "      <td>429</td>\n",
       "    </tr>\n",
       "  </tbody>\n",
       "</table>\n",
       "</div>"
      ],
      "text/plain": [
       "                                               NU_NOTA_LC  \\\n",
       "count                                                8000   \n",
       "unique                                               2361   \n",
       "top     25    550.166152\\nName: NU_NOTA_LC, dtype: flo...   \n",
       "freq                                                  429   \n",
       "\n",
       "                                          NU_NOTA_REDACAO  \n",
       "count                                                8000  \n",
       "unique                                                134  \n",
       "top     25    564.859551\\nName: NU_NOTA_REDACAO, dtype...  \n",
       "freq                                                  429  "
      ]
     },
     "execution_count": 126,
     "metadata": {},
     "output_type": "execute_result"
    }
   ],
   "source": [
    "provas = ['NU_NOTA_LC', 'NU_NOTA_REDACAO']\n",
    "data[provas].describe()"
   ]
  },
  {
   "cell_type": "code",
   "execution_count": 127,
   "id": "651eb5f1",
   "metadata": {},
   "outputs": [
    {
     "ename": "TypeError",
     "evalue": "no numeric data to plot",
     "output_type": "error",
     "traceback": [
      "\u001b[1;31m---------------------------------------------------------------------------\u001b[0m",
      "\u001b[1;31mTypeError\u001b[0m                                 Traceback (most recent call last)",
      "\u001b[1;32mc:\\Users\\cof2\\Documents\\Chrystinne\\Pos UFPE\\Residência\\phase_two_project\\enem\\notebooks\\Enem_Analises.ipynb Cell 71'\u001b[0m in \u001b[0;36m<module>\u001b[1;34m\u001b[0m\n\u001b[1;32m----> <a href='vscode-notebook-cell:/c%3A/Users/cof2/Documents/Chrystinne/Pos%20UFPE/Resid%C3%AAncia/phase_two_project/enem/notebooks/Enem_Analises.ipynb#ch0000036?line=0'>1</a>\u001b[0m data[provas]\u001b[39m.\u001b[39;49mplot\u001b[39m.\u001b[39;49mbox(figsize\u001b[39m=\u001b[39;49m(\u001b[39m10\u001b[39;49m,\u001b[39m10\u001b[39;49m), grid\u001b[39m=\u001b[39;49m\u001b[39mTrue\u001b[39;49;00m)\n",
      "File \u001b[1;32m~\\anaconda3\\envs\\ufpe\\lib\\site-packages\\pandas\\plotting\\_core.py:1266\u001b[0m, in \u001b[0;36mPlotAccessor.box\u001b[1;34m(self, by, **kwargs)\u001b[0m\n\u001b[0;32m   <a href='file:///~/anaconda3/envs/ufpe/lib/site-packages/pandas/plotting/_core.py?line=1217'>1218</a>\u001b[0m \u001b[39mdef\u001b[39;00m \u001b[39mbox\u001b[39m(\u001b[39mself\u001b[39m, by\u001b[39m=\u001b[39m\u001b[39mNone\u001b[39;00m, \u001b[39m*\u001b[39m\u001b[39m*\u001b[39mkwargs):\n\u001b[0;32m   <a href='file:///~/anaconda3/envs/ufpe/lib/site-packages/pandas/plotting/_core.py?line=1218'>1219</a>\u001b[0m     \u001b[39mr\u001b[39m\u001b[39m\"\"\"\u001b[39;00m\n\u001b[0;32m   <a href='file:///~/anaconda3/envs/ufpe/lib/site-packages/pandas/plotting/_core.py?line=1219'>1220</a>\u001b[0m \u001b[39m    Make a box plot of the DataFrame columns.\u001b[39;00m\n\u001b[0;32m   <a href='file:///~/anaconda3/envs/ufpe/lib/site-packages/pandas/plotting/_core.py?line=1220'>1221</a>\u001b[0m \n\u001b[1;32m   (...)\u001b[0m\n\u001b[0;32m   <a href='file:///~/anaconda3/envs/ufpe/lib/site-packages/pandas/plotting/_core.py?line=1263'>1264</a>\u001b[0m \u001b[39m        >>> ax = df.plot.box()\u001b[39;00m\n\u001b[0;32m   <a href='file:///~/anaconda3/envs/ufpe/lib/site-packages/pandas/plotting/_core.py?line=1264'>1265</a>\u001b[0m \u001b[39m    \"\"\"\u001b[39;00m\n\u001b[1;32m-> <a href='file:///~/anaconda3/envs/ufpe/lib/site-packages/pandas/plotting/_core.py?line=1265'>1266</a>\u001b[0m     \u001b[39mreturn\u001b[39;00m \u001b[39mself\u001b[39m(kind\u001b[39m=\u001b[39m\u001b[39m\"\u001b[39m\u001b[39mbox\u001b[39m\u001b[39m\"\u001b[39m, by\u001b[39m=\u001b[39mby, \u001b[39m*\u001b[39m\u001b[39m*\u001b[39mkwargs)\n",
      "File \u001b[1;32m~\\anaconda3\\envs\\ufpe\\lib\\site-packages\\pandas\\plotting\\_core.py:972\u001b[0m, in \u001b[0;36mPlotAccessor.__call__\u001b[1;34m(self, *args, **kwargs)\u001b[0m\n\u001b[0;32m    <a href='file:///~/anaconda3/envs/ufpe/lib/site-packages/pandas/plotting/_core.py?line=968'>969</a>\u001b[0m             label_name \u001b[39m=\u001b[39m label_kw \u001b[39mor\u001b[39;00m data\u001b[39m.\u001b[39mcolumns\n\u001b[0;32m    <a href='file:///~/anaconda3/envs/ufpe/lib/site-packages/pandas/plotting/_core.py?line=969'>970</a>\u001b[0m             data\u001b[39m.\u001b[39mcolumns \u001b[39m=\u001b[39m label_name\n\u001b[1;32m--> <a href='file:///~/anaconda3/envs/ufpe/lib/site-packages/pandas/plotting/_core.py?line=971'>972</a>\u001b[0m \u001b[39mreturn\u001b[39;00m plot_backend\u001b[39m.\u001b[39mplot(data, kind\u001b[39m=\u001b[39mkind, \u001b[39m*\u001b[39m\u001b[39m*\u001b[39mkwargs)\n",
      "File \u001b[1;32m~\\anaconda3\\envs\\ufpe\\lib\\site-packages\\pandas\\plotting\\_matplotlib\\__init__.py:71\u001b[0m, in \u001b[0;36mplot\u001b[1;34m(data, kind, **kwargs)\u001b[0m\n\u001b[0;32m     <a href='file:///~/anaconda3/envs/ufpe/lib/site-packages/pandas/plotting/_matplotlib/__init__.py?line=68'>69</a>\u001b[0m         kwargs[\u001b[39m\"\u001b[39m\u001b[39max\u001b[39m\u001b[39m\"\u001b[39m] \u001b[39m=\u001b[39m \u001b[39mgetattr\u001b[39m(ax, \u001b[39m\"\u001b[39m\u001b[39mleft_ax\u001b[39m\u001b[39m\"\u001b[39m, ax)\n\u001b[0;32m     <a href='file:///~/anaconda3/envs/ufpe/lib/site-packages/pandas/plotting/_matplotlib/__init__.py?line=69'>70</a>\u001b[0m plot_obj \u001b[39m=\u001b[39m PLOT_CLASSES[kind](data, \u001b[39m*\u001b[39m\u001b[39m*\u001b[39mkwargs)\n\u001b[1;32m---> <a href='file:///~/anaconda3/envs/ufpe/lib/site-packages/pandas/plotting/_matplotlib/__init__.py?line=70'>71</a>\u001b[0m plot_obj\u001b[39m.\u001b[39;49mgenerate()\n\u001b[0;32m     <a href='file:///~/anaconda3/envs/ufpe/lib/site-packages/pandas/plotting/_matplotlib/__init__.py?line=71'>72</a>\u001b[0m plot_obj\u001b[39m.\u001b[39mdraw()\n\u001b[0;32m     <a href='file:///~/anaconda3/envs/ufpe/lib/site-packages/pandas/plotting/_matplotlib/__init__.py?line=72'>73</a>\u001b[0m \u001b[39mreturn\u001b[39;00m plot_obj\u001b[39m.\u001b[39mresult\n",
      "File \u001b[1;32m~\\anaconda3\\envs\\ufpe\\lib\\site-packages\\pandas\\plotting\\_matplotlib\\core.py:286\u001b[0m, in \u001b[0;36mMPLPlot.generate\u001b[1;34m(self)\u001b[0m\n\u001b[0;32m    <a href='file:///~/anaconda3/envs/ufpe/lib/site-packages/pandas/plotting/_matplotlib/core.py?line=283'>284</a>\u001b[0m \u001b[39mdef\u001b[39;00m \u001b[39mgenerate\u001b[39m(\u001b[39mself\u001b[39m):\n\u001b[0;32m    <a href='file:///~/anaconda3/envs/ufpe/lib/site-packages/pandas/plotting/_matplotlib/core.py?line=284'>285</a>\u001b[0m     \u001b[39mself\u001b[39m\u001b[39m.\u001b[39m_args_adjust()\n\u001b[1;32m--> <a href='file:///~/anaconda3/envs/ufpe/lib/site-packages/pandas/plotting/_matplotlib/core.py?line=285'>286</a>\u001b[0m     \u001b[39mself\u001b[39;49m\u001b[39m.\u001b[39;49m_compute_plot_data()\n\u001b[0;32m    <a href='file:///~/anaconda3/envs/ufpe/lib/site-packages/pandas/plotting/_matplotlib/core.py?line=286'>287</a>\u001b[0m     \u001b[39mself\u001b[39m\u001b[39m.\u001b[39m_setup_subplots()\n\u001b[0;32m    <a href='file:///~/anaconda3/envs/ufpe/lib/site-packages/pandas/plotting/_matplotlib/core.py?line=287'>288</a>\u001b[0m     \u001b[39mself\u001b[39m\u001b[39m.\u001b[39m_make_plot()\n",
      "File \u001b[1;32m~\\anaconda3\\envs\\ufpe\\lib\\site-packages\\pandas\\plotting\\_matplotlib\\core.py:453\u001b[0m, in \u001b[0;36mMPLPlot._compute_plot_data\u001b[1;34m(self)\u001b[0m\n\u001b[0;32m    <a href='file:///~/anaconda3/envs/ufpe/lib/site-packages/pandas/plotting/_matplotlib/core.py?line=450'>451</a>\u001b[0m \u001b[39m# no non-numeric frames or series allowed\u001b[39;00m\n\u001b[0;32m    <a href='file:///~/anaconda3/envs/ufpe/lib/site-packages/pandas/plotting/_matplotlib/core.py?line=451'>452</a>\u001b[0m \u001b[39mif\u001b[39;00m is_empty:\n\u001b[1;32m--> <a href='file:///~/anaconda3/envs/ufpe/lib/site-packages/pandas/plotting/_matplotlib/core.py?line=452'>453</a>\u001b[0m     \u001b[39mraise\u001b[39;00m \u001b[39mTypeError\u001b[39;00m(\u001b[39m\"\u001b[39m\u001b[39mno numeric data to plot\u001b[39m\u001b[39m\"\u001b[39m)\n\u001b[0;32m    <a href='file:///~/anaconda3/envs/ufpe/lib/site-packages/pandas/plotting/_matplotlib/core.py?line=454'>455</a>\u001b[0m \u001b[39mself\u001b[39m\u001b[39m.\u001b[39mdata \u001b[39m=\u001b[39m numeric_data\u001b[39m.\u001b[39mapply(\u001b[39mself\u001b[39m\u001b[39m.\u001b[39m_convert_to_ndarray)\n",
      "\u001b[1;31mTypeError\u001b[0m: no numeric data to plot"
     ]
    }
   ],
   "source": [
    "data[provas].plot.box(figsize=(10,10), grid=True)"
   ]
  },
  {
   "cell_type": "code",
   "execution_count": null,
   "id": "e5d3e37b",
   "metadata": {},
   "outputs": [
    {
     "data": {
      "text/html": [
       "<div>\n",
       "<style scoped>\n",
       "    .dataframe tbody tr th:only-of-type {\n",
       "        vertical-align: middle;\n",
       "    }\n",
       "\n",
       "    .dataframe tbody tr th {\n",
       "        vertical-align: top;\n",
       "    }\n",
       "\n",
       "    .dataframe thead th {\n",
       "        text-align: right;\n",
       "    }\n",
       "</style>\n",
       "<table border=\"1\" class=\"dataframe\">\n",
       "  <thead>\n",
       "    <tr style=\"text-align: right;\">\n",
       "      <th></th>\n",
       "      <th>NU_NOTA_MT</th>\n",
       "    </tr>\n",
       "  </thead>\n",
       "  <tbody>\n",
       "    <tr>\n",
       "      <th>count</th>\n",
       "      <td>3.905099e+06</td>\n",
       "    </tr>\n",
       "    <tr>\n",
       "      <th>mean</th>\n",
       "      <td>5.354056e+02</td>\n",
       "    </tr>\n",
       "    <tr>\n",
       "      <th>std</th>\n",
       "      <td>1.031512e+02</td>\n",
       "    </tr>\n",
       "    <tr>\n",
       "      <th>min</th>\n",
       "      <td>0.000000e+00</td>\n",
       "    </tr>\n",
       "    <tr>\n",
       "      <th>25%</th>\n",
       "      <td>4.553000e+02</td>\n",
       "    </tr>\n",
       "    <tr>\n",
       "      <th>50%</th>\n",
       "      <td>5.166000e+02</td>\n",
       "    </tr>\n",
       "    <tr>\n",
       "      <th>75%</th>\n",
       "      <td>6.007000e+02</td>\n",
       "    </tr>\n",
       "    <tr>\n",
       "      <th>max</th>\n",
       "      <td>9.961000e+02</td>\n",
       "    </tr>\n",
       "  </tbody>\n",
       "</table>\n",
       "</div>"
      ],
      "text/plain": [
       "         NU_NOTA_MT\n",
       "count  3.905099e+06\n",
       "mean   5.354056e+02\n",
       "std    1.031512e+02\n",
       "min    0.000000e+00\n",
       "25%    4.553000e+02\n",
       "50%    5.166000e+02\n",
       "75%    6.007000e+02\n",
       "max    9.961000e+02"
      ]
     },
     "execution_count": 26,
     "metadata": {},
     "output_type": "execute_result"
    }
   ],
   "source": [
    "provas_mt = ['NU_NOTA_MT']\n",
    "data[provas_mt].describe()"
   ]
  },
  {
   "cell_type": "code",
   "execution_count": null,
   "id": "671638dd",
   "metadata": {},
   "outputs": [
    {
     "data": {
      "text/plain": [
       "<AxesSubplot:>"
      ]
     },
     "execution_count": 27,
     "metadata": {},
     "output_type": "execute_result"
    },
    {
     "data": {
      "image/png": "[encoded data removed]",
      "text/plain": [
       "<Figure size 864x864 with 1 Axes>"
      ]
     },
     "metadata": {
      "needs_background": "light"
     },
     "output_type": "display_data"
    }
   ],
   "source": [
    "data[provas_mt].plot.box(figsize=(12,12), grid=True)"
   ]
  },
  {
   "cell_type": "markdown",
   "id": "b3d6eeac",
   "metadata": {},
   "source": []
  },
  {
   "cell_type": "markdown",
   "id": "7077166a",
   "metadata": {},
   "source": []
  },
  {
   "cell_type": "markdown",
   "id": "cd66aaba",
   "metadata": {},
   "source": []
  },
  {
   "cell_type": "markdown",
   "id": "77525337",
   "metadata": {},
   "source": []
  },
  {
   "cell_type": "markdown",
   "id": "a3f5a487",
   "metadata": {},
   "source": []
  },
  {
   "cell_type": "markdown",
   "id": "3e9935af",
   "metadata": {},
   "source": []
  },
  {
   "cell_type": "markdown",
   "id": "e1b9f9a8",
   "metadata": {},
   "source": []
  },
  {
   "cell_type": "code",
   "execution_count": null,
   "metadata": {},
   "outputs": [],
   "source": [
    "# Histograma notas redação)\n",
    "plt.figure()\n",
    "data['NU_NOTA_REDACAO'].hist(bins=20, figsize=(10,5))\n",
    "plt.xlabel('Nota redação', fontsize=20)\n",
    "plt.ylabel('Ocorrência',fontsize=20)\n",
    "plt.title('Distribuição de notas de redação',fontsize=25)"
   ]
  }
 ],
 "metadata": {
  "kernelspec": {
   "display_name": "Python 3 (ipykernel)",
   "language": "python",
   "name": "python3"
  },
  "language_info": {
   "codemirror_mode": {
    "name": "ipython",
    "version": 3
   },
   "file_extension": ".py",
   "mimetype": "text/x-python",
   "name": "python",
   "nbconvert_exporter": "python",
   "pygments_lexer": "ipython3",
   "version": "3.9.7"
  }
 },
 "nbformat": 4,
 "nbformat_minor": 5
}
