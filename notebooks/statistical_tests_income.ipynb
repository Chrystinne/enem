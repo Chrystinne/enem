{
 "cells": [
  {
   "cell_type": "markdown",
   "id": "71763155",
   "metadata": {},
   "source": [
    "### Analysis of factors that affect student's quality of academic performance"
   ]
  },
  {
   "cell_type": "markdown",
   "id": "2e43c83b",
   "metadata": {},
   "source": [
    "1- Age\n",
    "2- Gender\n",
    "3 - Geographical belongingness\n",
    "4 - Ethnicity\n",
    "5 - Marital status\n",
    "6 - socioeconomic status (SES)\n",
    "7 - parents’ education level\n",
    "8 - parental profession\n",
    "9 - language\n",
    "10 - income\n",
    "11 - religious affiliations\n"
   ]
  },
  {
   "cell_type": "markdown",
   "id": "dd9658bb",
   "metadata": {},
   "source": [
    "# Importação das bibliotecas"
   ]
  },
  {
   "cell_type": "code",
   "execution_count": 7,
   "id": "b439a0b9",
   "metadata": {},
   "outputs": [],
   "source": [
    "import pandas as pd\n",
    "import numpy as np\n",
    "import matplotlib.pyplot as plt\n",
    "import seaborn as sns\n",
    "import locale\n",
    "import dask.dataframe as dd\n",
    "from utils import load_parquets, info_sum_isna\n",
    "from scipy.stats import ranksums\n",
    "from scipy import stats"
   ]
  },
  {
   "cell_type": "markdown",
   "id": "457cc9d7",
   "metadata": {},
   "source": [
    "# Carregando os dados"
   ]
  },
  {
   "cell_type": "markdown",
   "id": "964efe68",
   "metadata": {},
   "source": [
    "### Dataset information:\n",
    "\n"
   ]
  },
  {
   "cell_type": "code",
   "execution_count": 8,
   "id": "24584bb5",
   "metadata": {},
   "outputs": [],
   "source": [
    "year = 2020\n",
    "path = f'../datasets/integrated_datas_{year}.parquet.gzip'\n",
    "data = dd.read_parquet(path, ignore_metadata_file=True)"
   ]
  },
  {
   "cell_type": "markdown",
   "id": "d4a6d609",
   "metadata": {},
   "source": [
    "<!-- Testing normal distribution for grades for all Brazilian states to decide which statistical test would be suitable -->"
   ]
  },
  {
   "cell_type": "code",
   "execution_count": 9,
   "id": "d2478ec6",
   "metadata": {},
   "outputs": [],
   "source": [
    "# def ploting_distribution_female_male_per_state(state, course):\n",
    "#     dataset_women = mulher_2020[mulher_2020['SG_UF_RESIDENCIA'] == state]\n",
    "#     dataset_man = homem_2020[homem_2020['SG_UF_RESIDENCIA'] == state]\n",
    "#     fig, (ax1, ax2) = plt.subplots(ncols=2, sharey=True)\n",
    "#     ax1 = sns.histplot(dataset_women[course], ax=ax1).set(title=\"Math grades distribution 'W'\", xlabel='Math grades W', ylabel='density')\n",
    "#     ax2 = sns.histplot(dataset_man[course], ax=ax2).set(title=\"Math grades distribution 'M'\",  xlabel='Math grades M', ylabel='density')\n",
    "#     plt.show()"
   ]
  },
  {
   "cell_type": "markdown",
   "id": "138309ea",
   "metadata": {},
   "source": [
    "## Testes estatisticos para 3 variavies"
   ]
  },
  {
   "cell_type": "markdown",
   "id": "efa06a58",
   "metadata": {},
   "source": [
    "### 1. SES Income"
   ]
  },
  {
   "cell_type": "code",
   "execution_count": 10,
   "id": "e4bb9eb4",
   "metadata": {},
   "outputs": [
    {
     "data": {
      "text/plain": [
       "E    2074904\n",
       "D     416151\n",
       "C      37866\n",
       "A      31582\n",
       "B        801\n",
       "Name: TP_SES_INCOME, dtype: int64"
      ]
     },
     "execution_count": 10,
     "metadata": {},
     "output_type": "execute_result"
    }
   ],
   "source": [
    "data['TP_SES_INCOME'].value_counts().compute()"
   ]
  },
  {
   "cell_type": "code",
   "execution_count": 11,
   "id": "a24de8cd",
   "metadata": {},
   "outputs": [],
   "source": [
    "# def replace_ethnicity(value):\n",
    "#     if value == 'A':\n",
    "#         return \"White\"\n",
    "#     elif value == 'B':\n",
    "#         return \"Black\"\n",
    "#     elif value == 3:\n",
    "#         return \"Brown\"\n",
    "#     elif value == 4:\n",
    "#         return \"Yellow\"\n",
    "#     elif value == 5:\n",
    "#         return \"Indigenous\""
   ]
  },
  {
   "cell_type": "code",
   "execution_count": 12,
   "id": "61bdcb64",
   "metadata": {},
   "outputs": [],
   "source": [
    "# data['TP_COR_RACA'] = data.TP_COR_RACA.apply(replace_ethnicity)"
   ]
  },
  {
   "cell_type": "code",
   "execution_count": 13,
   "id": "12210a8f",
   "metadata": {},
   "outputs": [],
   "source": [
    "# data['TP_COR_RACA'].value_counts().compute()"
   ]
  },
  {
   "cell_type": "code",
   "execution_count": 14,
   "id": "68fdbf79",
   "metadata": {},
   "outputs": [],
   "source": [
    "# def replace_ethnicity(value):\n",
    "#     if value == 1:\n",
    "#         return \"White\"\n",
    "#     elif value == 2:\n",
    "#         return \"Black\"\n",
    "#     elif value == 3:\n",
    "#         return \"Brown\"\n",
    "#     elif value == 4:\n",
    "#         return \"Yellow\"\n",
    "#     elif value == 5:\n",
    "#         return \"Indigenous\"\n",
    "\n",
    "# data['TP_COR_RACA'] = data.TP_COR_RACA.apply(replace_ethnicity)"
   ]
  },
  {
   "cell_type": "code",
   "execution_count": 15,
   "id": "1dee9c54",
   "metadata": {},
   "outputs": [],
   "source": [
    "a_class = data[(data['TP_SES_INCOME'] == 'A')]\n",
    "b_class = data[(data['TP_SES_INCOME'] == 'B')]\n",
    "c_class = data[(data['TP_SES_INCOME'] == 'C')]\n",
    "d_class = data[(data['TP_SES_INCOME'] == 'D')]\n",
    "e_class = data[(data['TP_SES_INCOME'] == 'E')]"
   ]
  },
  {
   "cell_type": "code",
   "execution_count": 16,
   "id": "1e967f0b",
   "metadata": {},
   "outputs": [],
   "source": [
    "def has_normal_distribution(dataset, course):\n",
    "    k2, p = stats.normaltest(dataset[course])\n",
    "    alpha = 0.05\n",
    "    print(\"p = {:g}\".format(p))\n",
    "    if p < alpha:  # null hypothesis: x comes from a normal distribution\n",
    "        # print(\"The null hypothesis can be rejected\")\n",
    "        return False\n",
    "    else:\n",
    "        print(\"The null hypothesis cannot be rejected\")\n",
    "        return True"
   ]
  },
  {
   "cell_type": "code",
   "execution_count": 17,
   "id": "e5262741",
   "metadata": {},
   "outputs": [],
   "source": [
    "states = list(data['SG_UF_RESIDENCIA'].unique())"
   ]
  },
  {
   "cell_type": "code",
   "execution_count": 18,
   "id": "8dc16d3a",
   "metadata": {},
   "outputs": [
    {
     "name": "stdout",
     "output_type": "stream",
     "text": [
      "p = 0.0577153\n",
      "The null hypothesis cannot be rejected\n"
     ]
    },
    {
     "data": {
      "text/plain": [
       "True"
      ]
     },
     "execution_count": 18,
     "metadata": {},
     "output_type": "execute_result"
    }
   ],
   "source": [
    "has_normal_distribution(a_class[a_class['SG_UF_RESIDENCIA'] == 'PB'], 'NU_NOTA_MT')"
   ]
  },
  {
   "cell_type": "code",
   "execution_count": 19,
   "id": "a8d27620",
   "metadata": {},
   "outputs": [],
   "source": [
    "def testing_normal_distribution_all_states(course):\n",
    "    number_of_normal_distributions = 0\n",
    "    for state in states:\n",
    "        a_class_state = a_class[a_class['SG_UF_RESIDENCIA'] == state]\n",
    "        b_class_state = b_class[b_class['SG_UF_RESIDENCIA'] == state]\n",
    "        c_class_state = c_class[c_class['SG_UF_RESIDENCIA'] == state]\n",
    "        d_class_state = d_class[d_class['SG_UF_RESIDENCIA'] == state]\n",
    "        e_class_state = e_class[e_class['SG_UF_RESIDENCIA'] == state]\n",
    "\n",
    "        result_a_class_dist = has_normal_distribution(a_class_state, 'NU_NOTA_MT')\n",
    "        result_b_class_dist = has_normal_distribution(b_class_state, 'NU_NOTA_MT')\n",
    "        result_c_class_dist = has_normal_distribution(c_class_state, 'NU_NOTA_MT')\n",
    "        result_d_class_dist = has_normal_distribution(d_class_state, 'NU_NOTA_MT')\n",
    "        result_e_class_dist = has_normal_distribution(e_class_state, 'NU_NOTA_MT')\n",
    "\n",
    "        if (result_a_class_dist | result_b_class_dist | result_c_class_dist | result_d_class_dist | result_e_class_dist):\n",
    "            print(state)\n",
    "            number_of_normal_distributions+= 1\n",
    "            print('normal distribution')\n",
    "    return number_of_normal_distributions\n"
   ]
  },
  {
   "cell_type": "code",
   "execution_count": 20,
   "id": "db72f291",
   "metadata": {},
   "outputs": [
    {
     "name": "stdout",
     "output_type": "stream",
     "text": [
      "p = 8.34743e-07\n",
      "p = 0.72056\n",
      "The null hypothesis cannot be rejected\n",
      "p = 3.93135e-08\n",
      "p = 7.5388e-23\n",
      "p = 0\n",
      "RS\n",
      "normal distribution\n",
      "p = 0.0577153\n",
      "The null hypothesis cannot be rejected\n"
     ]
    },
    {
     "name": "stderr",
     "output_type": "stream",
     "text": [
      "/Users/chrystinne/.pyenv/versions/3.9.4/envs/venem/lib/python3.9/site-packages/scipy/stats/_stats_py.py:1769: UserWarning: kurtosistest only valid for n>=20 ... continuing anyway, n=12\n",
      "  warnings.warn(\"kurtosistest only valid for n>=20 ... continuing \"\n"
     ]
    },
    {
     "name": "stdout",
     "output_type": "stream",
     "text": [
      "p = 0.778779\n",
      "The null hypothesis cannot be rejected\n",
      "p = 0.0589997\n",
      "The null hypothesis cannot be rejected\n",
      "p = 7.97473e-16\n",
      "p = 0\n",
      "PB\n",
      "normal distribution\n",
      "p = 2.58769e-06\n",
      "p = 0.75626\n",
      "The null hypothesis cannot be rejected\n",
      "p = 3.86236e-05\n",
      "p = 1.56172e-69\n",
      "p = 0\n",
      "BA\n",
      "normal distribution\n",
      "p = 0.0262321\n"
     ]
    },
    {
     "ename": "ValueError",
     "evalue": "skewtest is not valid with less than 8 samples; 5 samples were given.",
     "output_type": "error",
     "traceback": [
      "\u001b[0;31m---------------------------------------------------------------------------\u001b[0m",
      "\u001b[0;31mValueError\u001b[0m                                Traceback (most recent call last)",
      "Cell \u001b[0;32mIn [20], line 1\u001b[0m\n\u001b[0;32m----> 1\u001b[0m \u001b[43mtesting_normal_distribution_all_states\u001b[49m\u001b[43m(\u001b[49m\u001b[38;5;124;43m'\u001b[39;49m\u001b[38;5;124;43mNU_NOTA_MT\u001b[39;49m\u001b[38;5;124;43m'\u001b[39;49m\u001b[43m)\u001b[49m\n",
      "Cell \u001b[0;32mIn [19], line 11\u001b[0m, in \u001b[0;36mtesting_normal_distribution_all_states\u001b[0;34m(course)\u001b[0m\n\u001b[1;32m      8\u001b[0m e_class_state \u001b[38;5;241m=\u001b[39m e_class[e_class[\u001b[38;5;124m'\u001b[39m\u001b[38;5;124mSG_UF_RESIDENCIA\u001b[39m\u001b[38;5;124m'\u001b[39m] \u001b[38;5;241m==\u001b[39m state]\n\u001b[1;32m     10\u001b[0m result_a_class_dist \u001b[38;5;241m=\u001b[39m has_normal_distribution(a_class_state, \u001b[38;5;124m'\u001b[39m\u001b[38;5;124mNU_NOTA_MT\u001b[39m\u001b[38;5;124m'\u001b[39m)\n\u001b[0;32m---> 11\u001b[0m result_b_class_dist \u001b[38;5;241m=\u001b[39m \u001b[43mhas_normal_distribution\u001b[49m\u001b[43m(\u001b[49m\u001b[43mb_class_state\u001b[49m\u001b[43m,\u001b[49m\u001b[43m \u001b[49m\u001b[38;5;124;43m'\u001b[39;49m\u001b[38;5;124;43mNU_NOTA_MT\u001b[39;49m\u001b[38;5;124;43m'\u001b[39;49m\u001b[43m)\u001b[49m\n\u001b[1;32m     12\u001b[0m result_c_class_dist \u001b[38;5;241m=\u001b[39m has_normal_distribution(c_class_state, \u001b[38;5;124m'\u001b[39m\u001b[38;5;124mNU_NOTA_MT\u001b[39m\u001b[38;5;124m'\u001b[39m)\n\u001b[1;32m     13\u001b[0m result_d_class_dist \u001b[38;5;241m=\u001b[39m has_normal_distribution(d_class_state, \u001b[38;5;124m'\u001b[39m\u001b[38;5;124mNU_NOTA_MT\u001b[39m\u001b[38;5;124m'\u001b[39m)\n",
      "Cell \u001b[0;32mIn [16], line 2\u001b[0m, in \u001b[0;36mhas_normal_distribution\u001b[0;34m(dataset, course)\u001b[0m\n\u001b[1;32m      1\u001b[0m \u001b[38;5;28;01mdef\u001b[39;00m \u001b[38;5;21mhas_normal_distribution\u001b[39m(dataset, course):\n\u001b[0;32m----> 2\u001b[0m     k2, p \u001b[38;5;241m=\u001b[39m \u001b[43mstats\u001b[49m\u001b[38;5;241;43m.\u001b[39;49m\u001b[43mnormaltest\u001b[49m\u001b[43m(\u001b[49m\u001b[43mdataset\u001b[49m\u001b[43m[\u001b[49m\u001b[43mcourse\u001b[49m\u001b[43m]\u001b[49m\u001b[43m)\u001b[49m\n\u001b[1;32m      3\u001b[0m     alpha \u001b[38;5;241m=\u001b[39m \u001b[38;5;241m0.05\u001b[39m\n\u001b[1;32m      4\u001b[0m     \u001b[38;5;28mprint\u001b[39m(\u001b[38;5;124m\"\u001b[39m\u001b[38;5;124mp = \u001b[39m\u001b[38;5;132;01m{:g}\u001b[39;00m\u001b[38;5;124m\"\u001b[39m\u001b[38;5;241m.\u001b[39mformat(p))\n",
      "File \u001b[0;32m~/.pyenv/versions/3.9.4/envs/venem/lib/python3.9/site-packages/scipy/stats/_stats_py.py:1865\u001b[0m, in \u001b[0;36mnormaltest\u001b[0;34m(a, axis, nan_policy)\u001b[0m\n\u001b[1;32m   1862\u001b[0m     a \u001b[39m=\u001b[39m ma\u001b[39m.\u001b[39mmasked_invalid(a)\n\u001b[1;32m   1863\u001b[0m     \u001b[39mreturn\u001b[39;00m mstats_basic\u001b[39m.\u001b[39mnormaltest(a, axis)\n\u001b[0;32m-> 1865\u001b[0m s, _ \u001b[39m=\u001b[39m skewtest(a, axis)\n\u001b[1;32m   1866\u001b[0m k, _ \u001b[39m=\u001b[39m kurtosistest(a, axis)\n\u001b[1;32m   1867\u001b[0m k2 \u001b[39m=\u001b[39m s\u001b[39m*\u001b[39ms \u001b[39m+\u001b[39m k\u001b[39m*\u001b[39mk\n",
      "File \u001b[0;32m~/.pyenv/versions/3.9.4/envs/venem/lib/python3.9/site-packages/scipy/stats/_stats_py.py:1670\u001b[0m, in \u001b[0;36mskewtest\u001b[0;34m(a, axis, nan_policy, alternative)\u001b[0m\n\u001b[1;32m   1668\u001b[0m n \u001b[39m=\u001b[39m a\u001b[39m.\u001b[39mshape[axis]\n\u001b[1;32m   1669\u001b[0m \u001b[39mif\u001b[39;00m n \u001b[39m<\u001b[39m \u001b[39m8\u001b[39m:\n\u001b[0;32m-> 1670\u001b[0m     \u001b[39mraise\u001b[39;00m \u001b[39mValueError\u001b[39;00m(\n\u001b[1;32m   1671\u001b[0m         \u001b[39m\"\u001b[39m\u001b[39mskewtest is not valid with less than 8 samples; \u001b[39m\u001b[39m%i\u001b[39;00m\u001b[39m samples\u001b[39m\u001b[39m\"\u001b[39m\n\u001b[1;32m   1672\u001b[0m         \u001b[39m\"\u001b[39m\u001b[39m were given.\u001b[39m\u001b[39m\"\u001b[39m \u001b[39m%\u001b[39m \u001b[39mint\u001b[39m(n))\n\u001b[1;32m   1673\u001b[0m y \u001b[39m=\u001b[39m b2 \u001b[39m*\u001b[39m math\u001b[39m.\u001b[39msqrt(((n \u001b[39m+\u001b[39m \u001b[39m1\u001b[39m) \u001b[39m*\u001b[39m (n \u001b[39m+\u001b[39m \u001b[39m3\u001b[39m)) \u001b[39m/\u001b[39m (\u001b[39m6.0\u001b[39m \u001b[39m*\u001b[39m (n \u001b[39m-\u001b[39m \u001b[39m2\u001b[39m)))\n\u001b[1;32m   1674\u001b[0m beta2 \u001b[39m=\u001b[39m (\u001b[39m3.0\u001b[39m \u001b[39m*\u001b[39m (n\u001b[39m*\u001b[39m\u001b[39m*\u001b[39m\u001b[39m2\u001b[39m \u001b[39m+\u001b[39m \u001b[39m27\u001b[39m\u001b[39m*\u001b[39mn \u001b[39m-\u001b[39m \u001b[39m70\u001b[39m) \u001b[39m*\u001b[39m (n\u001b[39m+\u001b[39m\u001b[39m1\u001b[39m) \u001b[39m*\u001b[39m (n\u001b[39m+\u001b[39m\u001b[39m3\u001b[39m) \u001b[39m/\u001b[39m\n\u001b[1;32m   1675\u001b[0m          ((n\u001b[39m-\u001b[39m\u001b[39m2.0\u001b[39m) \u001b[39m*\u001b[39m (n\u001b[39m+\u001b[39m\u001b[39m5\u001b[39m) \u001b[39m*\u001b[39m (n\u001b[39m+\u001b[39m\u001b[39m7\u001b[39m) \u001b[39m*\u001b[39m (n\u001b[39m+\u001b[39m\u001b[39m9\u001b[39m)))\n",
      "\u001b[0;31mValueError\u001b[0m: skewtest is not valid with less than 8 samples; 5 samples were given."
     ]
    }
   ],
   "source": [
    "testing_normal_distribution_all_states('NU_NOTA_MT')"
   ]
  },
  {
   "cell_type": "code",
   "execution_count": null,
   "id": "f2768558",
   "metadata": {},
   "outputs": [],
   "source": [
    "def perform_Kruskal_Wallis_per_state(state, course):\n",
    "   teste = stats.kruskal(a_class[a_class['SG_UF_RESIDENCIA'] == state][course], b_class[b_class['SG_UF_RESIDENCIA'] == state][course], c_class[c_class['SG_UF_RESIDENCIA'] == state][course], d_class[d_class['SG_UF_RESIDENCIA'] == state][course], e_class[e_class['SG_UF_RESIDENCIA'] == state][course])\n",
    "   return teste"
   ]
  },
  {
   "cell_type": "code",
   "execution_count": null,
   "id": "87c03e3b",
   "metadata": {},
   "outputs": [
    {
     "name": "stdout",
     "output_type": "stream",
     "text": [
      "KruskalResult(statistic=1869.501424945442, pvalue=0.0)\n"
     ]
    }
   ],
   "source": [
    "print(perform_Kruskal_Wallis_per_state('PB', 'NU_NOTA_MT'))"
   ]
  },
  {
   "cell_type": "code",
   "execution_count": null,
   "id": "05553024",
   "metadata": {},
   "outputs": [
    {
     "name": "stdout",
     "output_type": "stream",
     "text": [
      "KruskalResult(statistic=1469.7565609248295, pvalue=0.0)\n"
     ]
    }
   ],
   "source": [
    "print(perform_Kruskal_Wallis_per_state('RN', 'NU_NOTA_LC'))"
   ]
  },
  {
   "cell_type": "code",
   "execution_count": null,
   "id": "b355ad73",
   "metadata": {},
   "outputs": [
    {
     "name": "stdout",
     "output_type": "stream",
     "text": [
      "KruskalResult(statistic=1825.7341778511773, pvalue=0.0)\n"
     ]
    }
   ],
   "source": [
    "print(perform_Kruskal_Wallis_per_state('PB', 'NU_NOTA_CN'))"
   ]
  },
  {
   "cell_type": "markdown",
   "id": "73416a0b",
   "metadata": {},
   "source": [
    "Interpreting the results:\n",
    "\n",
    "The Kruskal-Wallis Test uses the following null and alternative hypotheses:\n",
    "\n",
    "The null hypothesis (H0): The median score in math is equal across all ethnicty groups.\n",
    "\n",
    "The alternative hypothesis: (Ha): The median score in math is not equal across all ethnicty groups.\n",
    "\n",
    "In this case, the test statistic is 7749.868515864906 and the corresponding p-value is 0.0. Since this p-value is less than 0.05, we can reject the null hypothesis that the median score in math is the same for all five ethnicity groups. We have sufficient evidence to conclude that the ethnicity leads to statistically significant differences in median scores in math for the ENEM exam."
   ]
  },
  {
   "cell_type": "code",
   "execution_count": null,
   "id": "14cea1ac",
   "metadata": {},
   "outputs": [],
   "source": [
    "def ploting_distribution_ses_income_per_state(state, course):\n",
    "    a_class_state = a_class[a_class['SG_UF_RESIDENCIA'] == state]\n",
    "    b_class_state = b_class[b_class['SG_UF_RESIDENCIA'] == state]\n",
    "    c_class_state = c_class[c_class['SG_UF_RESIDENCIA'] == state]\n",
    "    d_class_state = d_class[d_class['SG_UF_RESIDENCIA'] == state]\n",
    "    e_class_state = e_class[e_class['SG_UF_RESIDENCIA'] == state]\n",
    "\n",
    "    fig, (ax1, ax2, ax3, ax4, ax5) = plt.subplots(ncols=5, sharey=True)\n",
    "    ax1 = sns.histplot(a_class_state[course], ax=ax1).set(title=\"A class\", xlabel='A class', ylabel='density')\n",
    "    ax2 = sns.histplot(b_class_state[course], ax=ax2).set(title=\"B class\",  xlabel='B class', ylabel='density')\n",
    "    ax3 = sns.histplot(c_class_state[course], ax=ax3).set(title=\"C class\", xlabel='C class', ylabel='density')\n",
    "    ax4 = sns.histplot(d_class_state[course], ax=ax4).set(title=\"D class\",  xlabel='D class', ylabel='density')\n",
    "    ax5 = sns.histplot(e_class_state[course], ax=ax5).set(title=\"E class\",  xlabel='E class', ylabel='density')\n",
    "    plt.show()"
   ]
  },
  {
   "cell_type": "code",
   "execution_count": null,
   "id": "6e12f6c6",
   "metadata": {},
   "outputs": [
    {
     "data": {
      "image/png": "[encoded data removed]",
      "text/plain": [
       "<Figure size 432x288 with 5 Axes>"
      ]
     },
     "metadata": {
      "needs_background": "light"
     },
     "output_type": "display_data"
    }
   ],
   "source": [
    "ploting_distribution_ses_income_per_state('PB', 'NU_NOTA_MT')"
   ]
  },
  {
   "cell_type": "code",
   "execution_count": null,
   "id": "eb93ed80",
   "metadata": {},
   "outputs": [],
   "source": []
  }
 ],
 "metadata": {
  "kernelspec": {
   "display_name": "Python 3.9.4 64-bit ('venem')",
   "language": "python",
   "name": "python3"
  },
  "language_info": {
   "codemirror_mode": {
    "name": "ipython",
    "version": 3
   },
   "file_extension": ".py",
   "mimetype": "text/x-python",
   "name": "python",
   "nbconvert_exporter": "python",
   "pygments_lexer": "ipython3",
   "version": "3.9.4"
  },
  "vscode": {
   "interpreter": {
    "hash": "0af81f0b5e3305cf8a5a2df6ff4f40f4541212b9c0f5152f541cbf6ef9ee247a"
   }
  }
 },
 "nbformat": 4,
 "nbformat_minor": 5
}
