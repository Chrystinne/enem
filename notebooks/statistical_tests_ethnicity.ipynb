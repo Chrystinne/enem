{
 "cells": [
  {
   "cell_type": "markdown",
   "id": "71763155",
   "metadata": {},
   "source": [
    "### Analysis of factors that affect student's quality of academic performance"
   ]
  },
  {
   "cell_type": "markdown",
   "id": "2e43c83b",
   "metadata": {},
   "source": [
    "1- Age\n",
    "2- Gender\n",
    "3 - Geographical belongingness\n",
    "4 - Ethnicity\n",
    "5 - Marital status\n",
    "6 - socioeconomic status (SES)\n",
    "7 - parents’ education level\n",
    "8 - parental profession\n",
    "9 - language\n",
    "10 - income\n",
    "11 - religious affiliations\n"
   ]
  },
  {
   "cell_type": "markdown",
   "id": "dd9658bb",
   "metadata": {},
   "source": [
    "# Importação das bibliotecas"
   ]
  },
  {
   "cell_type": "code",
   "execution_count": 123,
   "id": "b439a0b9",
   "metadata": {},
   "outputs": [],
   "source": [
    "import pandas as pd\n",
    "import numpy as np\n",
    "import matplotlib.pyplot as plt\n",
    "import seaborn as sns\n",
    "import locale\n",
    "import dask.dataframe as dd\n",
    "from utils import load_parquets, info_sum_isna\n",
    "from scipy.stats import ranksums\n",
    "from scipy import stats"
   ]
  },
  {
   "cell_type": "markdown",
   "id": "457cc9d7",
   "metadata": {},
   "source": [
    "# Carregando os dados"
   ]
  },
  {
   "cell_type": "markdown",
   "id": "964efe68",
   "metadata": {},
   "source": [
    "### Dataset information:\n",
    "\n"
   ]
  },
  {
   "cell_type": "code",
   "execution_count": 124,
   "id": "24584bb5",
   "metadata": {},
   "outputs": [],
   "source": [
    "year = 2020\n",
    "path = f'../datasets/integrated_datas_{year}.parquet.gzip'\n",
    "data = dd.read_parquet(path, ignore_metadata_file=True)"
   ]
  },
  {
   "cell_type": "markdown",
   "id": "9a2bb091",
   "metadata": {},
   "source": [
    "Testando se veio de uma distribuicao normal"
   ]
  },
  {
   "cell_type": "code",
   "execution_count": 125,
   "id": "97e760ca",
   "metadata": {},
   "outputs": [],
   "source": [
    "# testing_normal_distribution(mulher_math_pb, 'NU_NOTA_MT')"
   ]
  },
  {
   "cell_type": "code",
   "execution_count": 126,
   "id": "dbbb2308",
   "metadata": {},
   "outputs": [],
   "source": [
    "# testing_normal_distribution(homem_math_pb, 'NU_NOTA_MT')"
   ]
  },
  {
   "cell_type": "markdown",
   "id": "d4a6d609",
   "metadata": {},
   "source": [
    "Testing normal distribution for math grades (male and female) for all Brazilian states to decide which statistical test would be suitable"
   ]
  },
  {
   "cell_type": "code",
   "execution_count": 127,
   "id": "d2478ec6",
   "metadata": {},
   "outputs": [],
   "source": [
    "# def ploting_distribution_female_male_per_state(state, course):\n",
    "#     dataset_women = mulher_2020[mulher_2020['SG_UF_RESIDENCIA'] == state]\n",
    "#     dataset_man = homem_2020[homem_2020['SG_UF_RESIDENCIA'] == state]\n",
    "#     fig, (ax1, ax2) = plt.subplots(ncols=2, sharey=True)\n",
    "#     ax1 = sns.histplot(dataset_women[course], ax=ax1).set(title=\"Math grades distribution 'W'\", xlabel='Math grades W', ylabel='density')\n",
    "#     ax2 = sns.histplot(dataset_man[course], ax=ax2).set(title=\"Math grades distribution 'M'\",  xlabel='Math grades M', ylabel='density')\n",
    "#     plt.show()"
   ]
  },
  {
   "cell_type": "markdown",
   "id": "138309ea",
   "metadata": {},
   "source": [
    "## Testes estatisticos para 3 variavies"
   ]
  },
  {
   "cell_type": "markdown",
   "id": "efa06a58",
   "metadata": {},
   "source": [
    "### 1. Raca"
   ]
  },
  {
   "cell_type": "code",
   "execution_count": 128,
   "id": "e4bb9eb4",
   "metadata": {},
   "outputs": [
    {
     "data": {
      "text/plain": [
       "3    1157403\n",
       "1     974067\n",
       "2     309833\n",
       "4      56786\n",
       "0      49395\n",
       "5      13820\n",
       "Name: TP_COR_RACA, dtype: int64"
      ]
     },
     "execution_count": 128,
     "metadata": {},
     "output_type": "execute_result"
    }
   ],
   "source": [
    "data['TP_COR_RACA'].value_counts().compute()"
   ]
  },
  {
   "cell_type": "code",
   "execution_count": 129,
   "id": "a24de8cd",
   "metadata": {},
   "outputs": [],
   "source": [
    "def replace_ethnicity(value):\n",
    "    if value == 1:\n",
    "        return \"White\"\n",
    "    elif value == 2:\n",
    "        return \"Black\"\n",
    "    elif value == 3:\n",
    "        return \"Brown\"\n",
    "    elif value == 4:\n",
    "        return \"Yellow\"\n",
    "    elif value == 5:\n",
    "        return \"Indigenous\""
   ]
  },
  {
   "cell_type": "code",
   "execution_count": 130,
   "id": "61bdcb64",
   "metadata": {},
   "outputs": [
    {
     "name": "stderr",
     "output_type": "stream",
     "text": [
      "/Users/chrystinne/.pyenv/versions/3.9.4/envs/venem/lib/python3.9/site-packages/dask/dataframe/core.py:4132: UserWarning: \n",
      "You did not provide metadata, so Dask is running your function on a small dataset to guess output types. It is possible that Dask will guess incorrectly.\n",
      "To provide an explicit output types or to silence this message, please provide the `meta=` keyword, as described in the map or apply function that you are using.\n",
      "  Before: .apply(func)\n",
      "  After:  .apply(func, meta=('TP_COR_RACA', 'object'))\n",
      "\n",
      "  warnings.warn(meta_warning(meta))\n"
     ]
    }
   ],
   "source": [
    "data['TP_COR_RACA'] = data.TP_COR_RACA.apply(replace_ethnicity)\n"
   ]
  },
  {
   "cell_type": "code",
   "execution_count": 131,
   "id": "12210a8f",
   "metadata": {},
   "outputs": [
    {
     "data": {
      "text/plain": [
       "Brown         1157403\n",
       "White          974067\n",
       "Black          309833\n",
       "Yellow          56786\n",
       "Indigenous      13820\n",
       "Name: TP_COR_RACA, dtype: int64"
      ]
     },
     "execution_count": 131,
     "metadata": {},
     "output_type": "execute_result"
    }
   ],
   "source": [
    "data['TP_COR_RACA'].value_counts().compute()"
   ]
  },
  {
   "cell_type": "code",
   "execution_count": 132,
   "id": "4a317e24",
   "metadata": {},
   "outputs": [],
   "source": [
    "ethinicities = ['Brown', 'White', 'Black', 'Yellow', 'Indigenous']"
   ]
  },
  {
   "cell_type": "code",
   "execution_count": 133,
   "id": "35690d12",
   "metadata": {},
   "outputs": [
    {
     "data": {
      "text/html": [
       "<div>\n",
       "<style scoped>\n",
       "    .dataframe tbody tr th:only-of-type {\n",
       "        vertical-align: middle;\n",
       "    }\n",
       "\n",
       "    .dataframe tbody tr th {\n",
       "        vertical-align: top;\n",
       "    }\n",
       "\n",
       "    .dataframe thead th {\n",
       "        text-align: right;\n",
       "    }\n",
       "</style>\n",
       "<table border=\"1\" class=\"dataframe\">\n",
       "  <thead>\n",
       "    <tr style=\"text-align: right;\">\n",
       "      <th></th>\n",
       "      <th>NU_ANO</th>\n",
       "      <th>NO_MUNICIPIO_RESIDENCIA</th>\n",
       "      <th>SG_UF_RESIDENCIA</th>\n",
       "      <th>NU_IDADE</th>\n",
       "      <th>TP_SEXO</th>\n",
       "      <th>TP_ST_CONCLUSAO</th>\n",
       "      <th>TP_ANO_CONCLUIU</th>\n",
       "      <th>TP_ESCOLA</th>\n",
       "      <th>TP_ESTADO_CIVIL</th>\n",
       "      <th>TP_COR_RACA</th>\n",
       "      <th>...</th>\n",
       "      <th>Q018</th>\n",
       "      <th>Q019</th>\n",
       "      <th>Q020</th>\n",
       "      <th>Q021</th>\n",
       "      <th>Q022</th>\n",
       "      <th>Q023</th>\n",
       "      <th>Q024</th>\n",
       "      <th>Q025</th>\n",
       "      <th>TP_SES_INCOME</th>\n",
       "      <th>TP_SES_POINTS</th>\n",
       "    </tr>\n",
       "  </thead>\n",
       "  <tbody>\n",
       "    <tr>\n",
       "      <th>225</th>\n",
       "      <td>2020</td>\n",
       "      <td>Altamira</td>\n",
       "      <td>PA</td>\n",
       "      <td>3</td>\n",
       "      <td>F</td>\n",
       "      <td>2</td>\n",
       "      <td>0</td>\n",
       "      <td>2</td>\n",
       "      <td>1</td>\n",
       "      <td>Indigenous</td>\n",
       "      <td>...</td>\n",
       "      <td>A</td>\n",
       "      <td>B</td>\n",
       "      <td>A</td>\n",
       "      <td>A</td>\n",
       "      <td>A</td>\n",
       "      <td>A</td>\n",
       "      <td>B</td>\n",
       "      <td>B</td>\n",
       "      <td>E</td>\n",
       "      <td>C2</td>\n",
       "    </tr>\n",
       "    <tr>\n",
       "      <th>648</th>\n",
       "      <td>2020</td>\n",
       "      <td>Altamira</td>\n",
       "      <td>PA</td>\n",
       "      <td>3</td>\n",
       "      <td>F</td>\n",
       "      <td>2</td>\n",
       "      <td>0</td>\n",
       "      <td>2</td>\n",
       "      <td>1</td>\n",
       "      <td>Indigenous</td>\n",
       "      <td>...</td>\n",
       "      <td>A</td>\n",
       "      <td>B</td>\n",
       "      <td>B</td>\n",
       "      <td>A</td>\n",
       "      <td>D</td>\n",
       "      <td>A</td>\n",
       "      <td>A</td>\n",
       "      <td>B</td>\n",
       "      <td>E</td>\n",
       "      <td>C2</td>\n",
       "    </tr>\n",
       "    <tr>\n",
       "      <th>1025</th>\n",
       "      <td>2020</td>\n",
       "      <td>Uruburetama</td>\n",
       "      <td>CE</td>\n",
       "      <td>11</td>\n",
       "      <td>F</td>\n",
       "      <td>1</td>\n",
       "      <td>9</td>\n",
       "      <td>1</td>\n",
       "      <td>1</td>\n",
       "      <td>Indigenous</td>\n",
       "      <td>...</td>\n",
       "      <td>A</td>\n",
       "      <td>B</td>\n",
       "      <td>A</td>\n",
       "      <td>A</td>\n",
       "      <td>B</td>\n",
       "      <td>A</td>\n",
       "      <td>A</td>\n",
       "      <td>A</td>\n",
       "      <td>E</td>\n",
       "      <td>DE</td>\n",
       "    </tr>\n",
       "    <tr>\n",
       "      <th>1152</th>\n",
       "      <td>2020</td>\n",
       "      <td>Caucaia</td>\n",
       "      <td>CE</td>\n",
       "      <td>6</td>\n",
       "      <td>F</td>\n",
       "      <td>1</td>\n",
       "      <td>3</td>\n",
       "      <td>1</td>\n",
       "      <td>1</td>\n",
       "      <td>Indigenous</td>\n",
       "      <td>...</td>\n",
       "      <td>A</td>\n",
       "      <td>A</td>\n",
       "      <td>A</td>\n",
       "      <td>A</td>\n",
       "      <td>B</td>\n",
       "      <td>A</td>\n",
       "      <td>B</td>\n",
       "      <td>B</td>\n",
       "      <td>E</td>\n",
       "      <td>DE</td>\n",
       "    </tr>\n",
       "    <tr>\n",
       "      <th>1326</th>\n",
       "      <td>2020</td>\n",
       "      <td>Rio Tinto</td>\n",
       "      <td>PB</td>\n",
       "      <td>1</td>\n",
       "      <td>M</td>\n",
       "      <td>2</td>\n",
       "      <td>0</td>\n",
       "      <td>2</td>\n",
       "      <td>1</td>\n",
       "      <td>Indigenous</td>\n",
       "      <td>...</td>\n",
       "      <td>A</td>\n",
       "      <td>B</td>\n",
       "      <td>A</td>\n",
       "      <td>A</td>\n",
       "      <td>C</td>\n",
       "      <td>A</td>\n",
       "      <td>A</td>\n",
       "      <td>B</td>\n",
       "      <td>E</td>\n",
       "      <td>DE</td>\n",
       "    </tr>\n",
       "  </tbody>\n",
       "</table>\n",
       "<p>5 rows × 51 columns</p>\n",
       "</div>"
      ],
      "text/plain": [
       "      NU_ANO NO_MUNICIPIO_RESIDENCIA SG_UF_RESIDENCIA  NU_IDADE TP_SEXO  \\\n",
       "225     2020                Altamira               PA         3       F   \n",
       "648     2020                Altamira               PA         3       F   \n",
       "1025    2020             Uruburetama               CE        11       F   \n",
       "1152    2020                 Caucaia               CE         6       F   \n",
       "1326    2020               Rio Tinto               PB         1       M   \n",
       "\n",
       "      TP_ST_CONCLUSAO  TP_ANO_CONCLUIU  TP_ESCOLA  TP_ESTADO_CIVIL  \\\n",
       "225                 2                0          2                1   \n",
       "648                 2                0          2                1   \n",
       "1025                1                9          1                1   \n",
       "1152                1                3          1                1   \n",
       "1326                2                0          2                1   \n",
       "\n",
       "     TP_COR_RACA  ...  Q018  Q019  Q020  Q021  Q022  Q023  Q024  Q025  \\\n",
       "225   Indigenous  ...     A     B     A     A     A     A     B     B   \n",
       "648   Indigenous  ...     A     B     B     A     D     A     A     B   \n",
       "1025  Indigenous  ...     A     B     A     A     B     A     A     A   \n",
       "1152  Indigenous  ...     A     A     A     A     B     A     B     B   \n",
       "1326  Indigenous  ...     A     B     A     A     C     A     A     B   \n",
       "\n",
       "      TP_SES_INCOME  TP_SES_POINTS  \n",
       "225               E             C2  \n",
       "648               E             C2  \n",
       "1025              E             DE  \n",
       "1152              E             DE  \n",
       "1326              E             DE  \n",
       "\n",
       "[5 rows x 51 columns]"
      ]
     },
     "execution_count": 133,
     "metadata": {},
     "output_type": "execute_result"
    }
   ],
   "source": [
    "indigenous.head()"
   ]
  },
  {
   "cell_type": "code",
   "execution_count": 134,
   "id": "1dee9c54",
   "metadata": {},
   "outputs": [],
   "source": [
    "black = data[(data['TP_COR_RACA'] == 'Black')]\n",
    "white = data[(data['TP_COR_RACA'] == 'White')]\n",
    "brown = data[(data['TP_COR_RACA'] == 'Brown')]\n",
    "yellow = data[(data['TP_COR_RACA'] == 'Yellow')]\n",
    "indigenous = data[(data['TP_COR_RACA'] == 'Indigenous')]"
   ]
  },
  {
   "cell_type": "code",
   "execution_count": 135,
   "id": "1e967f0b",
   "metadata": {},
   "outputs": [],
   "source": [
    "def testing_normal_distribution(dataset, course):\n",
    "    k2, p = stats.normaltest(dataset[course])\n",
    "    alpha = 0.05\n",
    "    print(\"p = {:g}\".format(p))\n",
    "    if p < alpha:  # null hypothesis: x comes from a normal distribution\n",
    "        print(\"The null hypothesis can be rejected\")\n",
    "    else:\n",
    "        print(\"The null hypothesis cannot be rejected\")"
   ]
  },
  {
   "cell_type": "code",
   "execution_count": 136,
   "id": "e5262741",
   "metadata": {},
   "outputs": [],
   "source": [
    "states = list(data['SG_UF_RESIDENCIA'].unique())"
   ]
  },
  {
   "cell_type": "code",
   "execution_count": 137,
   "id": "8dc16d3a",
   "metadata": {},
   "outputs": [
    {
     "name": "stdout",
     "output_type": "stream",
     "text": [
      "p = 9.56315e-133\n",
      "The null hypothesis can be rejected\n"
     ]
    }
   ],
   "source": [
    "testing_normal_distribution(black[black['SG_UF_RESIDENCIA'] == 'PB'], 'NU_NOTA_MT')"
   ]
  },
  {
   "cell_type": "code",
   "execution_count": 138,
   "id": "a8d27620",
   "metadata": {},
   "outputs": [],
   "source": [
    "def testing_normal_distribution_all_states(course):\n",
    "    for state in states:\n",
    "        black_state = black[black['SG_UF_RESIDENCIA'] == state]\n",
    "        white_state = white[white['SG_UF_RESIDENCIA'] == state]\n",
    "        yellow_state = yellow[yellow['SG_UF_RESIDENCIA'] == state]\n",
    "        indigenous_state = indigenous[indigenous['SG_UF_RESIDENCIA'] == state]\n",
    "        brown_state = brown[brown['SG_UF_RESIDENCIA'] == state]\n",
    "        testing_normal_distribution(black_state, 'NU_NOTA_MT')\n",
    "        testing_normal_distribution(brown_state, 'NU_NOTA_MT')\n",
    "        testing_normal_distribution(yellow_state, 'NU_NOTA_MT')\n",
    "        testing_normal_distribution(indigenous_state, 'NU_NOTA_MT')\n",
    "        testing_normal_distribution(white_state, 'NU_NOTA_MT')"
   ]
  },
  {
   "cell_type": "code",
   "execution_count": 139,
   "id": "db72f291",
   "metadata": {},
   "outputs": [],
   "source": [
    "# testing_normal_distribution_all_states('NU_NOTA_MT')"
   ]
  },
  {
   "cell_type": "code",
   "execution_count": 140,
   "id": "f2768558",
   "metadata": {},
   "outputs": [],
   "source": [
    "def perform_Kruskal_Wallis_per_state(state, course):\n",
    "   return stats.kruskal(black[black['SG_UF_RESIDENCIA'] == state][course], white[white['SG_UF_RESIDENCIA'] == state][course], brown[brown['SG_UF_RESIDENCIA'] == state][course], yellow[yellow['SG_UF_RESIDENCIA'] == state][course], indigenous[indigenous['SG_UF_RESIDENCIA'] == state][course])"
   ]
  },
  {
   "cell_type": "code",
   "execution_count": 141,
   "id": "87c03e3b",
   "metadata": {},
   "outputs": [
    {
     "name": "stdout",
     "output_type": "stream",
     "text": [
      "KruskalResult(statistic=1869.501424945442, pvalue=0.0)\n"
     ]
    }
   ],
   "source": [
    "print(perform_Kruskal_Wallis_per_state('PB', 'NU_NOTA_MT'))"
   ]
  },
  {
   "cell_type": "code",
   "execution_count": 142,
   "id": "05553024",
   "metadata": {},
   "outputs": [
    {
     "name": "stdout",
     "output_type": "stream",
     "text": [
      "KruskalResult(statistic=1469.7565609248295, pvalue=0.0)\n"
     ]
    }
   ],
   "source": [
    "print(perform_Kruskal_Wallis_per_state('RN', 'NU_NOTA_LC'))"
   ]
  },
  {
   "cell_type": "code",
   "execution_count": 143,
   "id": "b355ad73",
   "metadata": {},
   "outputs": [
    {
     "name": "stdout",
     "output_type": "stream",
     "text": [
      "KruskalResult(statistic=1825.7341778511773, pvalue=0.0)\n"
     ]
    }
   ],
   "source": [
    "print(perform_Kruskal_Wallis_per_state('PB', 'NU_NOTA_CN'))"
   ]
  },
  {
   "cell_type": "markdown",
   "id": "73416a0b",
   "metadata": {},
   "source": [
    "Interpreting the results:\n",
    "\n",
    "The Kruskal-Wallis Test uses the following null and alternative hypotheses:\n",
    "\n",
    "The null hypothesis (H0): The median score in math is equal across all ethnicty groups.\n",
    "\n",
    "The alternative hypothesis: (Ha): The median score in math is not equal across all ethnicty groups.\n",
    "\n",
    "In this case, the test statistic is 7749.868515864906 and the corresponding p-value is 0.0. Since this p-value is less than 0.05, we can reject the null hypothesis that the median score in math is the same for all five ethnicity groups. We have sufficient evidence to conclude that the ethnicity leads to statistically significant differences in median scores in math for the ENEM exam."
   ]
  }
 ],
 "metadata": {
  "kernelspec": {
   "display_name": "Python 3.9.4 64-bit ('venem')",
   "language": "python",
   "name": "python3"
  },
  "language_info": {
   "codemirror_mode": {
    "name": "ipython",
    "version": 3
   },
   "file_extension": ".py",
   "mimetype": "text/x-python",
   "name": "python",
   "nbconvert_exporter": "python",
   "pygments_lexer": "ipython3",
   "version": "3.9.4"
  },
  "vscode": {
   "interpreter": {
    "hash": "0af81f0b5e3305cf8a5a2df6ff4f40f4541212b9c0f5152f541cbf6ef9ee247a"
   }
  }
 },
 "nbformat": 4,
 "nbformat_minor": 5
}
