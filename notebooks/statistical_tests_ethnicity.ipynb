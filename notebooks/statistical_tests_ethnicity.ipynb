{
 "cells": [
  {
   "cell_type": "markdown",
   "id": "71763155",
   "metadata": {},
   "source": [
    "### Analysis of factors that affect student's quality of academic performance"
   ]
  },
  {
   "cell_type": "markdown",
   "id": "2e43c83b",
   "metadata": {},
   "source": [
    "1- Age\n",
    "2- Gender\n",
    "3 - Geographical belongingness\n",
    "4 - Ethnicity\n",
    "5 - Marital status\n",
    "6 - socioeconomic status (SES)\n",
    "7 - parents’ education level\n",
    "8 - parental profession\n",
    "9 - language\n",
    "10 - income\n",
    "11 - religious affiliations\n"
   ]
  },
  {
   "cell_type": "markdown",
   "id": "dd9658bb",
   "metadata": {},
   "source": [
    "# Importação das bibliotecas"
   ]
  },
  {
   "cell_type": "code",
   "execution_count": 123,
   "id": "b439a0b9",
   "metadata": {},
   "outputs": [],
   "source": [
    "import pandas as pd\n",
    "import numpy as np\n",
    "import matplotlib.pyplot as plt\n",
    "import seaborn as sns\n",
    "import locale\n",
    "import dask.dataframe as dd\n",
    "from utils import load_parquets, info_sum_isna\n",
    "from scipy.stats import ranksums\n",
    "from scipy import stats"
   ]
  },
  {
   "cell_type": "markdown",
   "id": "457cc9d7",
   "metadata": {},
   "source": [
    "# Carregando os dados"
   ]
  },
  {
   "cell_type": "markdown",
   "id": "964efe68",
   "metadata": {},
   "source": [
    "### Dataset information:\n",
    "\n"
   ]
  },
  {
   "cell_type": "code",
   "execution_count": 124,
   "id": "24584bb5",
   "metadata": {},
   "outputs": [],
   "source": [
    "year = 2020\n",
    "path = f'../datasets/integrated_datas_{year}.parquet.gzip'\n",
    "data = dd.read_parquet(path, ignore_metadata_file=True)"
   ]
  },
  {
   "cell_type": "markdown",
   "id": "9a2bb091",
   "metadata": {},
   "source": [
    "Testando se veio de uma distribuicao normal"
   ]
  },
  {
   "cell_type": "code",
   "execution_count": 125,
   "id": "97e760ca",
   "metadata": {},
   "outputs": [],
   "source": [
    "# testing_normal_distribution(mulher_math_pb, 'NU_NOTA_MT')"
   ]
  },
  {
   "cell_type": "code",
   "execution_count": 126,
   "id": "dbbb2308",
   "metadata": {},
   "outputs": [],
   "source": [
    "# testing_normal_distribution(homem_math_pb, 'NU_NOTA_MT')"
   ]
  },
  {
   "cell_type": "markdown",
   "id": "d4a6d609",
   "metadata": {},
   "source": [
    "Testing normal distribution for math grades (male and female) for all Brazilian states to decide which statistical test would be suitable"
   ]
  },
  {
   "cell_type": "code",
   "execution_count": 127,
   "id": "d2478ec6",
   "metadata": {},
   "outputs": [],
   "source": [
    "# def ploting_distribution_female_male_per_state(state, course):\n",
    "#     dataset_women = mulher_2020[mulher_2020['SG_UF_RESIDENCIA'] == state]\n",
    "#     dataset_man = homem_2020[homem_2020['SG_UF_RESIDENCIA'] == state]\n",
    "#     fig, (ax1, ax2) = plt.subplots(ncols=2, sharey=True)\n",
    "#     ax1 = sns.histplot(dataset_women[course], ax=ax1).set(title=\"Math grades distribution 'W'\", xlabel='Math grades W', ylabel='density')\n",
    "#     ax2 = sns.histplot(dataset_man[course], ax=ax2).set(title=\"Math grades distribution 'M'\",  xlabel='Math grades M', ylabel='density')\n",
    "#     plt.show()"
   ]
  },
  {
   "cell_type": "markdown",
   "id": "138309ea",
   "metadata": {},
   "source": [
    "## Testes estatisticos para 3 variavies"
   ]
  },
  {
   "cell_type": "markdown",
   "id": "efa06a58",
   "metadata": {},
   "source": [
    "### 1. Raca"
   ]
  },
  {
   "cell_type": "code",
   "execution_count": 128,
   "id": "e4bb9eb4",
   "metadata": {},
   "outputs": [
    {
     "data": {
      "text/plain": [
       "3    1157403\n",
       "1     974067\n",
       "2     309833\n",
       "4      56786\n",
       "0      49395\n",
       "5      13820\n",
       "Name: TP_COR_RACA, dtype: int64"
      ]
     },
     "execution_count": 128,
     "metadata": {},
     "output_type": "execute_result"
    }
   ],
   "source": [
    "data['TP_COR_RACA'].value_counts().compute()"
   ]
  },
  {
   "cell_type": "code",
   "execution_count": 129,
   "id": "a24de8cd",
   "metadata": {},
   "outputs": [],
   "source": [
    "def replace_ethnicity(value):\n",
    "    if value == 1:\n",
    "        return \"White\"\n",
    "    elif value == 2:\n",
    "        return \"Black\"\n",
    "    elif value == 3:\n",
    "        return \"Brown\"\n",
    "    elif value == 4:\n",
    "        return \"Yellow\"\n",
    "    elif value == 5:\n",
    "        return \"Indigenous\""
   ]
  },
  {
   "cell_type": "code",
   "execution_count": 130,
   "id": "61bdcb64",
   "metadata": {},
   "outputs": [
    {
     "name": "stderr",
     "output_type": "stream",
     "text": [
      "/Users/chrystinne/.pyenv/versions/3.9.4/envs/venem/lib/python3.9/site-packages/dask/dataframe/core.py:4132: UserWarning: \n",
      "You did not provide metadata, so Dask is running your function on a small dataset to guess output types. It is possible that Dask will guess incorrectly.\n",
      "To provide an explicit output types or to silence this message, please provide the `meta=` keyword, as described in the map or apply function that you are using.\n",
      "  Before: .apply(func)\n",
      "  After:  .apply(func, meta=('TP_COR_RACA', 'object'))\n",
      "\n",
      "  warnings.warn(meta_warning(meta))\n"
     ]
    }
   ],
   "source": [
    "data['TP_COR_RACA'] = data.TP_COR_RACA.apply(replace_ethnicity)\n"
   ]
  },
  {
   "cell_type": "code",
   "execution_count": 131,
   "id": "12210a8f",
   "metadata": {},
   "outputs": [
    {
     "data": {
      "text/plain": [
       "Brown         1157403\n",
       "White          974067\n",
       "Black          309833\n",
       "Yellow          56786\n",
       "Indigenous      13820\n",
       "Name: TP_COR_RACA, dtype: int64"
      ]
     },
     "execution_count": 131,
     "metadata": {},
     "output_type": "execute_result"
    }
   ],
   "source": [
    "data['TP_COR_RACA'].value_counts().compute()"
   ]
  },
  {
   "cell_type": "code",
   "execution_count": 134,
   "id": "1dee9c54",
   "metadata": {},
   "outputs": [],
   "source": [
    "black = data[(data['TP_COR_RACA'] == 'Black')]\n",
    "white = data[(data['TP_COR_RACA'] == 'White')]\n",
    "brown = data[(data['TP_COR_RACA'] == 'Brown')]\n",
    "yellow = data[(data['TP_COR_RACA'] == 'Yellow')]\n",
    "indigenous = data[(data['TP_COR_RACA'] == 'Indigenous')]"
   ]
  },
  {
   "cell_type": "code",
   "execution_count": 155,
   "id": "1e967f0b",
   "metadata": {},
   "outputs": [],
   "source": [
    "def has_normal_distribution(dataset, course):\n",
    "    k2, p = stats.normaltest(dataset[course])\n",
    "    alpha = 0.05\n",
    "    print(\"p = {:g}\".format(p))\n",
    "    if p < alpha:  # null hypothesis: x comes from a normal distribution\n",
    "        # print(\"The null hypothesis can be rejected\")\n",
    "        return False\n",
    "    else:\n",
    "        print(\"The null hypothesis cannot be rejected\")\n",
    "        return True"
   ]
  },
  {
   "cell_type": "code",
   "execution_count": 156,
   "id": "e5262741",
   "metadata": {},
   "outputs": [],
   "source": [
    "states = list(data['SG_UF_RESIDENCIA'].unique())"
   ]
  },
  {
   "cell_type": "code",
   "execution_count": 157,
   "id": "8dc16d3a",
   "metadata": {},
   "outputs": [
    {
     "name": "stdout",
     "output_type": "stream",
     "text": [
      "p = 9.56315e-133\n"
     ]
    },
    {
     "data": {
      "text/plain": [
       "False"
      ]
     },
     "execution_count": 157,
     "metadata": {},
     "output_type": "execute_result"
    }
   ],
   "source": [
    "has_normal_distribution(black[black['SG_UF_RESIDENCIA'] == 'PB'], 'NU_NOTA_MT')"
   ]
  },
  {
   "cell_type": "code",
   "execution_count": 158,
   "id": "a8d27620",
   "metadata": {},
   "outputs": [],
   "source": [
    "def testing_normal_distribution_all_states(course):\n",
    "    number_of_normal_distributions = 0\n",
    "    for state in states:\n",
    "        black_state = black[black['SG_UF_RESIDENCIA'] == state]\n",
    "        white_state = white[white['SG_UF_RESIDENCIA'] == state]\n",
    "        yellow_state = yellow[yellow['SG_UF_RESIDENCIA'] == state]\n",
    "        indigenous_state = indigenous[indigenous['SG_UF_RESIDENCIA'] == state]\n",
    "        brown_state = brown[brown['SG_UF_RESIDENCIA'] == state]\n",
    "        result_black_dist = has_normal_distribution(black_state, 'NU_NOTA_MT')\n",
    "        result_brown_dist = has_normal_distribution(brown_state, 'NU_NOTA_MT')\n",
    "        result_yellow_dist = has_normal_distribution(yellow_state, 'NU_NOTA_MT')\n",
    "        result_indigenous_dist = has_normal_distribution(indigenous_state, 'NU_NOTA_MT')\n",
    "        result_white_dist = has_normal_distribution(white_state, 'NU_NOTA_MT')\n",
    "        if (result_black_dist | result_brown_dist | result_yellow_dist | result_indigenous_dist | result_white_dist):\n",
    "            print(state)\n",
    "            number_of_normal_distributions+= 1\n",
    "            print('normal distribution')\n",
    "    return number_of_normal_distributions\n"
   ]
  },
  {
   "cell_type": "code",
   "execution_count": 159,
   "id": "db72f291",
   "metadata": {},
   "outputs": [
    {
     "name": "stdout",
     "output_type": "stream",
     "text": [
      "p = 3.37844e-76\n",
      "p = 2.30948e-107\n",
      "p = 1.12364e-10\n",
      "p = 0.0260753\n",
      "p = 6.45965e-302\n",
      "p = 9.56315e-133\n",
      "p = 0\n",
      "p = 3.01532e-53\n",
      "p = 2.6957e-33\n",
      "p = 4.06231e-254\n",
      "p = 0\n",
      "p = 0\n",
      "p = 6.869e-98\n",
      "p = 7.64343e-36\n",
      "p = 8.08339e-274\n",
      "p = 6.05212e-92\n",
      "p = 0\n",
      "p = 7.97128e-53\n",
      "p = 1.06145e-06\n",
      "p = 3.47066e-120\n",
      "p = 0\n",
      "p = 0\n",
      "p = 4.56348e-71\n",
      "p = 3.74061e-27\n",
      "p = 0\n",
      "p = 6.18016e-91\n",
      "p = 4.61661e-226\n",
      "p = 3.39587e-12\n",
      "p = 0.000279204\n",
      "p = 4.43506e-45\n",
      "p = 1.92055e-173\n",
      "p = 0\n",
      "p = 4.22863e-86\n",
      "p = 4.20016e-07\n",
      "p = 0\n",
      "p = 3.49923e-147\n",
      "p = 0\n",
      "p = 8.18482e-44\n",
      "p = 7.20519e-18\n",
      "p = 2.84843e-288\n",
      "p = 4.09476e-83\n",
      "p = 0\n",
      "p = 2.53216e-28\n",
      "p = 2.00446e-48\n",
      "p = 1.47303e-133\n",
      "p = 6.01237e-126\n",
      "p = 0\n",
      "p = 4.85997e-32\n",
      "p = 0.00015795\n",
      "p = 1.44981e-79\n",
      "p = 3.40317e-248\n",
      "p = 0\n",
      "p = 5.01724e-48\n",
      "p = 2.96203e-10\n",
      "p = 0\n",
      "p = 0\n",
      "p = 0\n",
      "p = 2.28966e-54\n",
      "p = 9.96281e-14\n",
      "p = 0\n",
      "p = 7.5547e-274\n",
      "p = 0\n",
      "p = 1.13768e-45\n",
      "p = 1.53529e-17\n",
      "p = 4.28575e-182\n",
      "p = 9.24797e-209\n",
      "p = 0\n",
      "p = 1.85537e-67\n",
      "p = 1.99357e-31\n",
      "p = 0\n",
      "p = 6.62504e-76\n",
      "p = 4.75046e-238\n",
      "p = 2.60619e-14\n",
      "p = 2.83506e-07\n",
      "p = 3.14907e-69\n",
      "p = 1.27732e-279\n",
      "p = 0\n",
      "p = 5.73651e-28\n",
      "p = 1.02259e-07\n",
      "p = 0\n",
      "p = 2.10675e-139\n",
      "p = 0\n",
      "p = 9.97092e-52\n",
      "p = 7.77224e-05\n",
      "p = 2.60863e-141\n",
      "p = 9.43218e-62\n",
      "p = 0\n",
      "p = 3.98048e-22\n",
      "p = 0.000907268\n",
      "p = 1.96734e-189\n",
      "p = 4.94751e-53\n",
      "p = 1.43745e-156\n",
      "p = 1.26517e-08\n",
      "p = 0.000169184\n",
      "p = 6.23473e-55\n",
      "p = 1.75454e-48\n",
      "p = 5.75119e-304\n",
      "p = 6.82624e-11\n",
      "p = 4.70618e-07\n",
      "p = 3.12728e-50\n",
      "p = 3.07151e-83\n",
      "p = 5.06281e-244\n",
      "p = 3.53538e-21\n",
      "p = 0.000324582\n",
      "p = 5.26853e-124\n",
      "p = 1.23819e-12\n",
      "p = 3.42795e-54\n",
      "p = 4.24978e-05\n",
      "p = 0.0536909\n",
      "The null hypothesis cannot be rejected\n",
      "p = 3.60962e-95\n",
      "SC\n",
      "normal distribution\n",
      "p = 1.05979e-23\n",
      "p = 1.77712e-145\n",
      "p = 1.10019e-25\n",
      "p = 0.0143075\n",
      "p = 4.49276e-179\n",
      "p = 2.32953e-07\n",
      "p = 1.56387e-57\n",
      "p = 0.104533\n",
      "The null hypothesis cannot be rejected\n",
      "p = 6.99318e-08\n",
      "p = 9.20099e-15\n",
      "RR\n",
      "normal distribution\n",
      "p = 1.97639e-29\n",
      "p = 2.71899e-152\n",
      "p = 1.07961e-07\n",
      "p = 0.000841013\n",
      "p = 5.41652e-44\n",
      "p = 1.75959e-30\n",
      "p = 2.09105e-169\n",
      "p = 3.50193e-05\n",
      "p = 4.18453e-34\n",
      "p = 1.18302e-99\n",
      "p = 4.54629e-40\n",
      "p = 3.74004e-159\n",
      "p = 5.01323e-06\n",
      "p = 8.60067e-08\n",
      "p = 3.601e-30\n"
     ]
    },
    {
     "data": {
      "text/plain": [
       "2"
      ]
     },
     "execution_count": 159,
     "metadata": {},
     "output_type": "execute_result"
    }
   ],
   "source": [
    "testing_normal_distribution_all_states('NU_NOTA_MT')"
   ]
  },
  {
   "cell_type": "code",
   "execution_count": 160,
   "id": "f2768558",
   "metadata": {},
   "outputs": [],
   "source": [
    "def perform_Kruskal_Wallis_per_state(state, course):\n",
    "   return stats.kruskal(black[black['SG_UF_RESIDENCIA'] == state][course], white[white['SG_UF_RESIDENCIA'] == state][course], brown[brown['SG_UF_RESIDENCIA'] == state][course], yellow[yellow['SG_UF_RESIDENCIA'] == state][course], indigenous[indigenous['SG_UF_RESIDENCIA'] == state][course])"
   ]
  },
  {
   "cell_type": "code",
   "execution_count": 161,
   "id": "87c03e3b",
   "metadata": {},
   "outputs": [
    {
     "name": "stdout",
     "output_type": "stream",
     "text": [
      "KruskalResult(statistic=1869.501424945442, pvalue=0.0)\n"
     ]
    }
   ],
   "source": [
    "print(perform_Kruskal_Wallis_per_state('PB', 'NU_NOTA_MT'))"
   ]
  },
  {
   "cell_type": "code",
   "execution_count": 162,
   "id": "05553024",
   "metadata": {},
   "outputs": [
    {
     "name": "stdout",
     "output_type": "stream",
     "text": [
      "KruskalResult(statistic=1469.7565609248295, pvalue=0.0)\n"
     ]
    }
   ],
   "source": [
    "print(perform_Kruskal_Wallis_per_state('RN', 'NU_NOTA_LC'))"
   ]
  },
  {
   "cell_type": "code",
   "execution_count": 163,
   "id": "b355ad73",
   "metadata": {},
   "outputs": [
    {
     "name": "stdout",
     "output_type": "stream",
     "text": [
      "KruskalResult(statistic=1825.7341778511773, pvalue=0.0)\n"
     ]
    }
   ],
   "source": [
    "print(perform_Kruskal_Wallis_per_state('PB', 'NU_NOTA_CN'))"
   ]
  },
  {
   "cell_type": "markdown",
   "id": "73416a0b",
   "metadata": {},
   "source": [
    "Interpreting the results:\n",
    "\n",
    "The Kruskal-Wallis Test uses the following null and alternative hypotheses:\n",
    "\n",
    "The null hypothesis (H0): The median score in math is equal across all ethnicty groups.\n",
    "\n",
    "The alternative hypothesis: (Ha): The median score in math is not equal across all ethnicty groups.\n",
    "\n",
    "In this case, the test statistic is 7749.868515864906 and the corresponding p-value is 0.0. Since this p-value is less than 0.05, we can reject the null hypothesis that the median score in math is the same for all five ethnicity groups. We have sufficient evidence to conclude that the ethnicity leads to statistically significant differences in median scores in math for the ENEM exam."
   ]
  },
  {
   "cell_type": "code",
   "execution_count": 175,
   "id": "14cea1ac",
   "metadata": {},
   "outputs": [],
   "source": [
    "def ploting_distribution_female_male_per_state(state, course):\n",
    "    black_state = black[black['SG_UF_RESIDENCIA'] == state]\n",
    "    white_state = white[white['SG_UF_RESIDENCIA'] == state]\n",
    "    yellow_state = yellow[yellow['SG_UF_RESIDENCIA'] == state]\n",
    "    indigenous_state = indigenous[indigenous['SG_UF_RESIDENCIA'] == state]\n",
    "    brown_state = brown[brown['SG_UF_RESIDENCIA'] == state]\n",
    "    fig, (ax1, ax2, ax3, ax4, ax5) = plt.subplots(ncols=5, sharey=True)\n",
    "    ax1 = sns.histplot(black_state[course], ax=ax1).set(title=\"Black\", xlabel='Black', ylabel='density')\n",
    "    ax2 = sns.histplot(white_state[course], ax=ax2).set(title=\"White\",  xlabel='White', ylabel='density')\n",
    "    ax3 = sns.histplot(yellow_state[course], ax=ax3).set(title=\"Yellow\", xlabel='Yellow', ylabel='density')\n",
    "    ax4 = sns.histplot(indigenous_state[course], ax=ax4).set(title=\"Indigenous\",  xlabel='Indigenous', ylabel='density')\n",
    "    ax5 = sns.histplot(brown_state[course], ax=ax5).set(title=\"Brown\",  xlabel='Brown', ylabel='density')\n",
    "    plt.show()"
   ]
  },
  {
   "cell_type": "code",
   "execution_count": 176,
   "id": "6e12f6c6",
   "metadata": {},
   "outputs": [
    {
     "data": {
      "image/png": "[encoded data removed]",
      "text/plain": [
       "<Figure size 432x288 with 5 Axes>"
      ]
     },
     "metadata": {
      "needs_background": "light"
     },
     "output_type": "display_data"
    }
   ],
   "source": [
    "ploting_distribution_female_male_per_state('PB', 'NU_NOTA_MT')"
   ]
  }
 ],
 "metadata": {
  "kernelspec": {
   "display_name": "Python 3.9.4 64-bit ('venem')",
   "language": "python",
   "name": "python3"
  },
  "language_info": {
   "codemirror_mode": {
    "name": "ipython",
    "version": 3
   },
   "file_extension": ".py",
   "mimetype": "text/x-python",
   "name": "python",
   "nbconvert_exporter": "python",
   "pygments_lexer": "ipython3",
   "version": "3.9.4"
  },
  "vscode": {
   "interpreter": {
    "hash": "0af81f0b5e3305cf8a5a2df6ff4f40f4541212b9c0f5152f541cbf6ef9ee247a"
   }
  }
 },
 "nbformat": 4,
 "nbformat_minor": 5
}
