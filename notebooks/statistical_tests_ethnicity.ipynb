{
 "cells": [
  {
   "cell_type": "markdown",
   "id": "71763155",
   "metadata": {},
   "source": [
    "### Analysis of factors that affect student's quality of academic performance"
   ]
  },
  {
   "cell_type": "markdown",
   "id": "2e43c83b",
   "metadata": {},
   "source": [
    "1- Age\n",
    "2- Gender\n",
    "3 - Geographical belongingness\n",
    "4 - Ethnicity\n",
    "5 - Marital status\n",
    "6 - socioeconomic status (SES)\n",
    "7 - parents’ education level\n",
    "8 - parental profession\n",
    "9 - language\n",
    "10 - income\n",
    "11 - religious affiliations\n"
   ]
  },
  {
   "cell_type": "markdown",
   "id": "dd9658bb",
   "metadata": {},
   "source": [
    "# Importação das bibliotecas"
   ]
  },
  {
   "cell_type": "code",
   "execution_count": 31,
   "id": "b439a0b9",
   "metadata": {},
   "outputs": [],
   "source": [
    "import pandas as pd\n",
    "import numpy as np\n",
    "import matplotlib.pyplot as plt\n",
    "import seaborn as sns\n",
    "import locale\n",
    "import dask.dataframe as dd\n",
    "from utils import load_parquets, info_sum_isna\n",
    "from scipy.stats import ranksums\n",
    "from scipy import stats"
   ]
  },
  {
   "cell_type": "markdown",
   "id": "457cc9d7",
   "metadata": {},
   "source": [
    "# Carregando os dados"
   ]
  },
  {
   "cell_type": "markdown",
   "id": "964efe68",
   "metadata": {},
   "source": [
    "### Dataset information:\n",
    "\n"
   ]
  },
  {
   "cell_type": "code",
   "execution_count": 32,
   "id": "24584bb5",
   "metadata": {},
   "outputs": [],
   "source": [
    "year = 2020\n",
    "path = f'../datasets/integrated_datas_{year}.parquet.gzip'\n",
    "data = dd.read_parquet(path, ignore_metadata_file=True)"
   ]
  },
  {
   "cell_type": "markdown",
   "id": "9a2bb091",
   "metadata": {},
   "source": [
    "Testando se veio de uma distribuicao normal"
   ]
  },
  {
   "cell_type": "code",
   "execution_count": 33,
   "id": "97e760ca",
   "metadata": {},
   "outputs": [],
   "source": [
    "# testing_normal_distribution(mulher_math_pb, 'NU_NOTA_MT')"
   ]
  },
  {
   "cell_type": "code",
   "execution_count": 34,
   "id": "dbbb2308",
   "metadata": {},
   "outputs": [],
   "source": [
    "# testing_normal_distribution(homem_math_pb, 'NU_NOTA_MT')"
   ]
  },
  {
   "cell_type": "markdown",
   "id": "d4a6d609",
   "metadata": {},
   "source": [
    "Testing normal distribution for math grades (male and female) for all Brazilian states to decide which statistical test would be suitable"
   ]
  },
  {
   "cell_type": "code",
   "execution_count": 35,
   "id": "d2478ec6",
   "metadata": {},
   "outputs": [],
   "source": [
    "# def ploting_distribution_female_male_per_state(state, course):\n",
    "#     dataset_women = mulher_2020[mulher_2020['SG_UF_RESIDENCIA'] == state]\n",
    "#     dataset_man = homem_2020[homem_2020['SG_UF_RESIDENCIA'] == state]\n",
    "#     fig, (ax1, ax2) = plt.subplots(ncols=2, sharey=True)\n",
    "#     ax1 = sns.histplot(dataset_women[course], ax=ax1).set(title=\"Math grades distribution 'W'\", xlabel='Math grades W', ylabel='density')\n",
    "#     ax2 = sns.histplot(dataset_man[course], ax=ax2).set(title=\"Math grades distribution 'M'\",  xlabel='Math grades M', ylabel='density')\n",
    "#     plt.show()"
   ]
  },
  {
   "cell_type": "markdown",
   "id": "138309ea",
   "metadata": {},
   "source": [
    "## Testes estatisticos para 3 variavies"
   ]
  },
  {
   "cell_type": "markdown",
   "id": "efa06a58",
   "metadata": {},
   "source": [
    "### 1. Raca"
   ]
  },
  {
   "cell_type": "code",
   "execution_count": 36,
   "id": "e4bb9eb4",
   "metadata": {},
   "outputs": [
    {
     "data": {
      "text/plain": [
       "3    1157403\n",
       "1     974067\n",
       "2     309833\n",
       "4      56786\n",
       "0      49395\n",
       "5      13820\n",
       "Name: TP_COR_RACA, dtype: int64"
      ]
     },
     "execution_count": 36,
     "metadata": {},
     "output_type": "execute_result"
    }
   ],
   "source": [
    "data['TP_COR_RACA'].value_counts().compute()"
   ]
  },
  {
   "cell_type": "code",
   "execution_count": 37,
   "id": "a24de8cd",
   "metadata": {},
   "outputs": [],
   "source": [
    "def replace_ethnicity(value):\n",
    "    if value == 1:\n",
    "        return \"White\"\n",
    "    elif value == 2:\n",
    "        return \"Black\"\n",
    "    elif value == 3:\n",
    "        return \"Brown\"\n",
    "    elif value == 4:\n",
    "        return \"Yellow\"\n",
    "    elif value == 5:\n",
    "        return \"Indigenous\""
   ]
  },
  {
   "cell_type": "code",
   "execution_count": 38,
   "id": "61bdcb64",
   "metadata": {},
   "outputs": [
    {
     "name": "stderr",
     "output_type": "stream",
     "text": [
      "/Users/chrystinne/.pyenv/versions/3.9.4/envs/venem/lib/python3.9/site-packages/dask/dataframe/core.py:4132: UserWarning: \n",
      "You did not provide metadata, so Dask is running your function on a small dataset to guess output types. It is possible that Dask will guess incorrectly.\n",
      "To provide an explicit output types or to silence this message, please provide the `meta=` keyword, as described in the map or apply function that you are using.\n",
      "  Before: .apply(func)\n",
      "  After:  .apply(func, meta=('TP_COR_RACA', 'object'))\n",
      "\n",
      "  warnings.warn(meta_warning(meta))\n"
     ]
    }
   ],
   "source": [
    "data['TP_COR_RACA'] = data.TP_COR_RACA.apply(replace_ethnicity)\n"
   ]
  },
  {
   "cell_type": "code",
   "execution_count": 39,
   "id": "12210a8f",
   "metadata": {},
   "outputs": [
    {
     "data": {
      "text/plain": [
       "Brown         1157403\n",
       "White          974067\n",
       "Black          309833\n",
       "Yellow          56786\n",
       "Indigenous      13820\n",
       "Name: TP_COR_RACA, dtype: int64"
      ]
     },
     "execution_count": 39,
     "metadata": {},
     "output_type": "execute_result"
    }
   ],
   "source": [
    "data['TP_COR_RACA'].value_counts().compute()"
   ]
  },
  {
   "cell_type": "code",
   "execution_count": 40,
   "id": "1dee9c54",
   "metadata": {},
   "outputs": [],
   "source": [
    "black = data[(data['TP_COR_RACA'] == 'Black')]\n",
    "white = data[(data['TP_COR_RACA'] == 'White')]\n",
    "brown = data[(data['TP_COR_RACA'] == 'Brown')]\n",
    "yellow = data[(data['TP_COR_RACA'] == 'Yellow')]\n",
    "indigenous = data[(data['TP_COR_RACA'] == 'Indigenous')]"
   ]
  },
  {
   "cell_type": "code",
   "execution_count": 55,
   "id": "1e967f0b",
   "metadata": {},
   "outputs": [],
   "source": [
    "def has_normal_distribution(dataset, course):\n",
    "    k2, p = stats.normaltest(dataset[course])\n",
    "    alpha = 0.05\n",
    "    # print(\"p = {:g}\".format(p))\n",
    "    if p < alpha:  # null hypothesis: x comes from a normal distribution\n",
    "        print(\"The null hypothesis can be rejected\")\n",
    "        return False\n",
    "    else:\n",
    "        print(\"The null hypothesis cannot be rejected\")\n",
    "        return True"
   ]
  },
  {
   "cell_type": "code",
   "execution_count": 42,
   "id": "e5262741",
   "metadata": {},
   "outputs": [],
   "source": [
    "states = list(data['SG_UF_RESIDENCIA'].unique())"
   ]
  },
  {
   "cell_type": "code",
   "execution_count": 43,
   "id": "8dc16d3a",
   "metadata": {},
   "outputs": [
    {
     "data": {
      "text/plain": [
       "False"
      ]
     },
     "execution_count": 43,
     "metadata": {},
     "output_type": "execute_result"
    }
   ],
   "source": [
    "has_normal_distribution(black[black['SG_UF_RESIDENCIA'] == 'PB'], 'NU_NOTA_MT')"
   ]
  },
  {
   "cell_type": "code",
   "execution_count": 44,
   "id": "a8d27620",
   "metadata": {},
   "outputs": [],
   "source": [
    "def testing_normal_distribution_all_states(course):\n",
    "    number_of_normal_distributions = 0\n",
    "    for state in states:\n",
    "        print(state)\n",
    "        black_state = black[black['SG_UF_RESIDENCIA'] == state]\n",
    "        white_state = white[white['SG_UF_RESIDENCIA'] == state]\n",
    "        yellow_state = yellow[yellow['SG_UF_RESIDENCIA'] == state]\n",
    "        indigenous_state = indigenous[indigenous['SG_UF_RESIDENCIA'] == state]\n",
    "        brown_state = brown[brown['SG_UF_RESIDENCIA'] == state]\n",
    "        result_black_dist = has_normal_distribution(black_state, 'NU_NOTA_MT')\n",
    "        result_brown_dist = has_normal_distribution(brown_state, 'NU_NOTA_MT')\n",
    "        result_yellow_dist = has_normal_distribution(yellow_state, 'NU_NOTA_MT')\n",
    "        result_indigenous_dist = has_normal_distribution(indigenous_state, 'NU_NOTA_MT')\n",
    "        result_white_dist = has_normal_distribution(white_state, 'NU_NOTA_MT')\n",
    "        if (result_black_dist | result_brown_dist | result_yellow_dist | result_indigenous_dist | result_white_dist):\n",
    "            number_of_normal_distributions+= 1\n",
    "            print('_____________________________ normal distribution _____________________________ ')\n",
    "    return number_of_normal_distributions\n"
   ]
  },
  {
   "cell_type": "code",
   "execution_count": 56,
   "id": "c9388d8e",
   "metadata": {},
   "outputs": [
    {
     "name": "stdout",
     "output_type": "stream",
     "text": [
      "The null hypothesis can be rejected\n",
      "The null hypothesis can be rejected\n",
      "The null hypothesis can be rejected\n",
      "The null hypothesis cannot be rejected\n",
      "The null hypothesis can be rejected\n"
     ]
    },
    {
     "data": {
      "text/plain": [
       "False"
      ]
     },
     "execution_count": 56,
     "metadata": {},
     "output_type": "execute_result"
    }
   ],
   "source": [
    "black_state = black[black['SG_UF_RESIDENCIA'] == 'SC']\n",
    "white_state = white[white['SG_UF_RESIDENCIA'] == 'SC']\n",
    "yellow_state = yellow[yellow['SG_UF_RESIDENCIA'] == 'SC']\n",
    "indigenous_state = indigenous[indigenous['SG_UF_RESIDENCIA'] == 'SC']\n",
    "brown_state = brown[brown['SG_UF_RESIDENCIA'] == 'SC']\n",
    "\n",
    "has_normal_distribution(black_state, 'NU_NOTA_MT') #abnormal\n",
    "has_normal_distribution(brown_state, 'NU_NOTA_MT') #abnormal\n",
    "has_normal_distribution(yellow_state, 'NU_NOTA_MT') #abnormal\n",
    "has_normal_distribution(indigenous_state, 'NU_NOTA_MT') #normal distribution\n",
    "has_normal_distribution(white_state, 'NU_NOTA_MT') #abnormal"
   ]
  },
  {
   "cell_type": "code",
   "execution_count": 58,
   "id": "b469623a",
   "metadata": {},
   "outputs": [
    {
     "name": "stdout",
     "output_type": "stream",
     "text": [
      "The null hypothesis can be rejected\n",
      "The null hypothesis can be rejected\n",
      "The null hypothesis cannot be rejected\n",
      "The null hypothesis can be rejected\n",
      "The null hypothesis can be rejected\n"
     ]
    },
    {
     "data": {
      "text/plain": [
       "False"
      ]
     },
     "execution_count": 58,
     "metadata": {},
     "output_type": "execute_result"
    }
   ],
   "source": [
    "black_state = black[black['SG_UF_RESIDENCIA'] == 'RR']\n",
    "white_state = white[white['SG_UF_RESIDENCIA'] == 'RR']\n",
    "yellow_state = yellow[yellow['SG_UF_RESIDENCIA'] == 'RR']\n",
    "indigenous_state = indigenous[indigenous['SG_UF_RESIDENCIA'] == 'RR']\n",
    "brown_state = brown[brown['SG_UF_RESIDENCIA'] == 'RR']\n",
    "\n",
    "has_normal_distribution(black_state, 'NU_NOTA_MT') #abnormal\n",
    "has_normal_distribution(brown_state, 'NU_NOTA_MT') #abnormal\n",
    "has_normal_distribution(yellow_state, 'NU_NOTA_MT') #normal \n",
    "has_normal_distribution(indigenous_state, 'NU_NOTA_MT') #abnormal\n",
    "has_normal_distribution(white_state, 'NU_NOTA_MT') #abnormal"
   ]
  },
  {
   "cell_type": "code",
   "execution_count": 45,
   "id": "db72f291",
   "metadata": {},
   "outputs": [
    {
     "name": "stdout",
     "output_type": "stream",
     "text": [
      "RS\n",
      "PB\n",
      "BA\n",
      "AL\n",
      "PA\n",
      "TO\n",
      "SP\n",
      "CE\n",
      "AM\n",
      "SE\n",
      "MG\n",
      "MA\n",
      "PI\n",
      "PE\n",
      "MT\n",
      "RJ\n",
      "GO\n",
      "RN\n",
      "ES\n",
      "AP\n",
      "DF\n",
      "SC\n",
      "The null hypothesis cannot be rejected\n",
      "SC\n",
      "_____________________________ normal distribution _____________________________ \n",
      "PR\n",
      "RR\n",
      "The null hypothesis cannot be rejected\n",
      "RR\n",
      "_____________________________ normal distribution _____________________________ \n",
      "RO\n",
      "MS\n",
      "AC\n"
     ]
    },
    {
     "data": {
      "text/plain": [
       "2"
      ]
     },
     "execution_count": 45,
     "metadata": {},
     "output_type": "execute_result"
    }
   ],
   "source": [
    "testing_normal_distribution_all_states('NU_NOTA_MT')"
   ]
  },
  {
   "cell_type": "code",
   "execution_count": 46,
   "id": "f2768558",
   "metadata": {},
   "outputs": [],
   "source": [
    "def perform_Kruskal_Wallis_per_state(state, course):\n",
    "   return stats.kruskal(black[black['SG_UF_RESIDENCIA'] == state][course], white[white['SG_UF_RESIDENCIA'] == state][course], brown[brown['SG_UF_RESIDENCIA'] == state][course], yellow[yellow['SG_UF_RESIDENCIA'] == state][course], indigenous[indigenous['SG_UF_RESIDENCIA'] == state][course])"
   ]
  },
  {
   "cell_type": "code",
   "execution_count": 47,
   "id": "87c03e3b",
   "metadata": {},
   "outputs": [
    {
     "name": "stdout",
     "output_type": "stream",
     "text": [
      "KruskalResult(statistic=1869.501424945442, pvalue=0.0)\n"
     ]
    }
   ],
   "source": [
    "print(perform_Kruskal_Wallis_per_state('PB', 'NU_NOTA_MT'))"
   ]
  },
  {
   "cell_type": "markdown",
   "id": "73416a0b",
   "metadata": {},
   "source": [
    "Interpreting the results:\n",
    "\n",
    "The Kruskal-Wallis Test uses the following null and alternative hypotheses:\n",
    "\n",
    "The null hypothesis (H0): The median score in math is equal across all ethnicty groups.\n",
    "\n",
    "The alternative hypothesis: (Ha): The median score in math is not equal across all ethnicty groups.\n",
    "\n",
    "In this case, the test statistic is 7749.868515864906 and the corresponding p-value is 0.0. Since this p-value is less than 0.05, we can reject the null hypothesis that the median score in math is the same for all five ethnicity groups. We have sufficient evidence to conclude that the ethnicity leads to statistically significant differences in median scores in math for the ENEM exam."
   ]
  }
 ],
 "metadata": {
  "kernelspec": {
   "display_name": "Python 3.9.4 64-bit ('venem')",
   "language": "python",
   "name": "python3"
  },
  "language_info": {
   "codemirror_mode": {
    "name": "ipython",
    "version": 3
   },
   "file_extension": ".py",
   "mimetype": "text/x-python",
   "name": "python",
   "nbconvert_exporter": "python",
   "pygments_lexer": "ipython3",
   "version": "3.9.4"
  },
  "vscode": {
   "interpreter": {
    "hash": "0af81f0b5e3305cf8a5a2df6ff4f40f4541212b9c0f5152f541cbf6ef9ee247a"
   }
  }
 },
 "nbformat": 4,
 "nbformat_minor": 5
}
