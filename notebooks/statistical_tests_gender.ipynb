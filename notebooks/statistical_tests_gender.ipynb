{
 "cells": [
  {
   "cell_type": "markdown",
   "id": "71763155",
   "metadata": {},
   "source": [
    "### Analysis of factors that affect student's quality of academic performance"
   ]
  },
  {
   "cell_type": "markdown",
   "id": "2e43c83b",
   "metadata": {},
   "source": [
    "1- Age\n",
    "2- Gender\n",
    "3 - Geographical belongingness\n",
    "4 - Ethnicity\n",
    "5 - Marital status\n",
    "6 - socioeconomic status (SES)\n",
    "7 - parents’ education level\n",
    "8 - parental profession\n",
    "9 - language\n",
    "10 - income\n",
    "11 - religious affiliations\n"
   ]
  },
  {
   "cell_type": "markdown",
   "id": "dd9658bb",
   "metadata": {},
   "source": [
    "# Importação das bibliotecas"
   ]
  },
  {
   "cell_type": "code",
   "execution_count": 68,
   "id": "b439a0b9",
   "metadata": {},
   "outputs": [],
   "source": [
    "import pandas as pd\n",
    "import numpy as np\n",
    "import matplotlib.pyplot as plt\n",
    "import seaborn as sns\n",
    "import locale\n",
    "import dask.dataframe as dd\n",
    "from utils import load_parquets, info_sum_isna\n",
    "from scipy.stats import ranksums\n",
    "from scipy import stats"
   ]
  },
  {
   "cell_type": "markdown",
   "id": "457cc9d7",
   "metadata": {},
   "source": [
    "# Carregando os dados"
   ]
  },
  {
   "cell_type": "markdown",
   "id": "964efe68",
   "metadata": {},
   "source": [
    "### Dataset information:\n",
    "\n"
   ]
  },
  {
   "cell_type": "code",
   "execution_count": 69,
   "id": "24584bb5",
   "metadata": {},
   "outputs": [],
   "source": [
    "year = 2020\n",
    "path = f'../datasets/integrated_datas_{year}.parquet.gzip'\n",
    "data = dd.read_parquet(path, ignore_metadata_file=True)"
   ]
  },
  {
   "cell_type": "code",
   "execution_count": 70,
   "id": "bac5ec35",
   "metadata": {},
   "outputs": [],
   "source": [
    "# data = dd.read_parquet('../datasets/integrated_datas.parquet.gzip', ignore_metadata_file=True)"
   ]
  },
  {
   "cell_type": "code",
   "execution_count": 71,
   "id": "5c0db5c7",
   "metadata": {},
   "outputs": [
    {
     "data": {
      "text/html": [
       "<div>\n",
       "<style scoped>\n",
       "    .dataframe tbody tr th:only-of-type {\n",
       "        vertical-align: middle;\n",
       "    }\n",
       "\n",
       "    .dataframe tbody tr th {\n",
       "        vertical-align: top;\n",
       "    }\n",
       "\n",
       "    .dataframe thead th {\n",
       "        text-align: right;\n",
       "    }\n",
       "</style>\n",
       "<table border=\"1\" class=\"dataframe\">\n",
       "  <thead>\n",
       "    <tr style=\"text-align: right;\">\n",
       "      <th></th>\n",
       "      <th>NU_ANO</th>\n",
       "      <th>NO_MUNICIPIO_RESIDENCIA</th>\n",
       "      <th>SG_UF_RESIDENCIA</th>\n",
       "      <th>NU_IDADE</th>\n",
       "      <th>TP_SEXO</th>\n",
       "      <th>TP_ST_CONCLUSAO</th>\n",
       "      <th>TP_ANO_CONCLUIU</th>\n",
       "      <th>TP_ESCOLA</th>\n",
       "      <th>TP_ESTADO_CIVIL</th>\n",
       "      <th>TP_COR_RACA</th>\n",
       "      <th>...</th>\n",
       "      <th>Q018</th>\n",
       "      <th>Q019</th>\n",
       "      <th>Q020</th>\n",
       "      <th>Q021</th>\n",
       "      <th>Q022</th>\n",
       "      <th>Q023</th>\n",
       "      <th>Q024</th>\n",
       "      <th>Q025</th>\n",
       "      <th>TP_SES_INCOME</th>\n",
       "      <th>TP_SES_POINTS</th>\n",
       "    </tr>\n",
       "  </thead>\n",
       "  <tbody>\n",
       "    <tr>\n",
       "      <th>31186</th>\n",
       "      <td>2020</td>\n",
       "      <td>Sousa</td>\n",
       "      <td>PB</td>\n",
       "      <td>2</td>\n",
       "      <td>M</td>\n",
       "      <td>2</td>\n",
       "      <td>0</td>\n",
       "      <td>2</td>\n",
       "      <td>1</td>\n",
       "      <td>3</td>\n",
       "      <td>...</td>\n",
       "      <td>A</td>\n",
       "      <td>B</td>\n",
       "      <td>A</td>\n",
       "      <td>A</td>\n",
       "      <td>D</td>\n",
       "      <td>A</td>\n",
       "      <td>B</td>\n",
       "      <td>B</td>\n",
       "      <td>E</td>\n",
       "      <td>DE</td>\n",
       "    </tr>\n",
       "    <tr>\n",
       "      <th>31187</th>\n",
       "      <td>2020</td>\n",
       "      <td>Cruzeiro do Sul</td>\n",
       "      <td>AC</td>\n",
       "      <td>7</td>\n",
       "      <td>F</td>\n",
       "      <td>1</td>\n",
       "      <td>2</td>\n",
       "      <td>1</td>\n",
       "      <td>1</td>\n",
       "      <td>2</td>\n",
       "      <td>...</td>\n",
       "      <td>A</td>\n",
       "      <td>B</td>\n",
       "      <td>A</td>\n",
       "      <td>A</td>\n",
       "      <td>D</td>\n",
       "      <td>A</td>\n",
       "      <td>A</td>\n",
       "      <td>A</td>\n",
       "      <td>E</td>\n",
       "      <td>DE</td>\n",
       "    </tr>\n",
       "    <tr>\n",
       "      <th>31188</th>\n",
       "      <td>2020</td>\n",
       "      <td>Ananindeua</td>\n",
       "      <td>PA</td>\n",
       "      <td>2</td>\n",
       "      <td>F</td>\n",
       "      <td>2</td>\n",
       "      <td>0</td>\n",
       "      <td>2</td>\n",
       "      <td>1</td>\n",
       "      <td>3</td>\n",
       "      <td>...</td>\n",
       "      <td>A</td>\n",
       "      <td>B</td>\n",
       "      <td>A</td>\n",
       "      <td>A</td>\n",
       "      <td>D</td>\n",
       "      <td>A</td>\n",
       "      <td>A</td>\n",
       "      <td>A</td>\n",
       "      <td>E</td>\n",
       "      <td>DE</td>\n",
       "    </tr>\n",
       "    <tr>\n",
       "      <th>31189</th>\n",
       "      <td>2020</td>\n",
       "      <td>Crateús</td>\n",
       "      <td>CE</td>\n",
       "      <td>2</td>\n",
       "      <td>F</td>\n",
       "      <td>2</td>\n",
       "      <td>0</td>\n",
       "      <td>2</td>\n",
       "      <td>1</td>\n",
       "      <td>1</td>\n",
       "      <td>...</td>\n",
       "      <td>A</td>\n",
       "      <td>B</td>\n",
       "      <td>A</td>\n",
       "      <td>A</td>\n",
       "      <td>D</td>\n",
       "      <td>A</td>\n",
       "      <td>B</td>\n",
       "      <td>B</td>\n",
       "      <td>E</td>\n",
       "      <td>C1</td>\n",
       "    </tr>\n",
       "    <tr>\n",
       "      <th>31190</th>\n",
       "      <td>2020</td>\n",
       "      <td>São Luís</td>\n",
       "      <td>MA</td>\n",
       "      <td>2</td>\n",
       "      <td>F</td>\n",
       "      <td>2</td>\n",
       "      <td>0</td>\n",
       "      <td>2</td>\n",
       "      <td>1</td>\n",
       "      <td>3</td>\n",
       "      <td>...</td>\n",
       "      <td>A</td>\n",
       "      <td>B</td>\n",
       "      <td>B</td>\n",
       "      <td>A</td>\n",
       "      <td>D</td>\n",
       "      <td>A</td>\n",
       "      <td>A</td>\n",
       "      <td>B</td>\n",
       "      <td>E</td>\n",
       "      <td>DE</td>\n",
       "    </tr>\n",
       "  </tbody>\n",
       "</table>\n",
       "<p>5 rows × 51 columns</p>\n",
       "</div>"
      ],
      "text/plain": [
       "       NU_ANO NO_MUNICIPIO_RESIDENCIA SG_UF_RESIDENCIA  NU_IDADE TP_SEXO  \\\n",
       "31186    2020                   Sousa               PB         2       M   \n",
       "31187    2020         Cruzeiro do Sul               AC         7       F   \n",
       "31188    2020              Ananindeua               PA         2       F   \n",
       "31189    2020                 Crateús               CE         2       F   \n",
       "31190    2020                São Luís               MA         2       F   \n",
       "\n",
       "       TP_ST_CONCLUSAO  TP_ANO_CONCLUIU  TP_ESCOLA  TP_ESTADO_CIVIL  \\\n",
       "31186                2                0          2                1   \n",
       "31187                1                2          1                1   \n",
       "31188                2                0          2                1   \n",
       "31189                2                0          2                1   \n",
       "31190                2                0          2                1   \n",
       "\n",
       "       TP_COR_RACA  ...  Q018  Q019  Q020  Q021  Q022  Q023  Q024  Q025  \\\n",
       "31186            3  ...     A     B     A     A     D     A     B     B   \n",
       "31187            2  ...     A     B     A     A     D     A     A     A   \n",
       "31188            3  ...     A     B     A     A     D     A     A     A   \n",
       "31189            1  ...     A     B     A     A     D     A     B     B   \n",
       "31190            3  ...     A     B     B     A     D     A     A     B   \n",
       "\n",
       "       TP_SES_INCOME  TP_SES_POINTS  \n",
       "31186              E             DE  \n",
       "31187              E             DE  \n",
       "31188              E             DE  \n",
       "31189              E             C1  \n",
       "31190              E             DE  \n",
       "\n",
       "[5 rows x 51 columns]"
      ]
     },
     "execution_count": 71,
     "metadata": {},
     "output_type": "execute_result"
    }
   ],
   "source": [
    "data.tail()"
   ]
  },
  {
   "cell_type": "code",
   "execution_count": 72,
   "id": "14c7fdfa",
   "metadata": {},
   "outputs": [
    {
     "data": {
      "text/plain": [
       "2561304"
      ]
     },
     "execution_count": 72,
     "metadata": {},
     "output_type": "execute_result"
    }
   ],
   "source": [
    "len(data)"
   ]
  },
  {
   "cell_type": "markdown",
   "id": "7f2513b9",
   "metadata": {},
   "source": [
    "## Testes estatisticos para 2 variavies (Genero)"
   ]
  },
  {
   "cell_type": "code",
   "execution_count": 73,
   "id": "a8783e4b",
   "metadata": {},
   "outputs": [],
   "source": [
    "data_pie = data['TP_SEXO'].value_counts().compute().sort_index()"
   ]
  },
  {
   "cell_type": "code",
   "execution_count": 74,
   "id": "ce1871a3",
   "metadata": {},
   "outputs": [],
   "source": [
    "from turtle import color\n",
    "\n",
    "\n",
    "def graficoSexo(data):\n",
    "    #define data\n",
    "    data_pie = data['TP_SEXO'].value_counts().compute().sort_index()\n",
    "    labels = ['F', 'M']\n",
    "\n",
    "    #define Seaborn color palette to use\n",
    "    colors = ['#fd7f6f', '#7eb0d5']\n",
    "\n",
    "    #create pie chart\n",
    "    plt.pie(data_pie, labels = labels, colors = colors, autopct='%.0f%%')\n",
    "    plt.legend()\n",
    "    plt.title(\"Male x Female students in 2020\", color=\"white\")\n",
    "    plt.show()"
   ]
  },
  {
   "cell_type": "code",
   "execution_count": 75,
   "id": "d55fda61",
   "metadata": {},
   "outputs": [
    {
     "data": {
      "image/png": "[encoded data removed]",
      "text/plain": [
       "<Figure size 432x288 with 1 Axes>"
      ]
     },
     "metadata": {},
     "output_type": "display_data"
    }
   ],
   "source": [
    "graficoSexo(data)"
   ]
  },
  {
   "cell_type": "code",
   "execution_count": 76,
   "id": "83ffd1b4",
   "metadata": {},
   "outputs": [],
   "source": [
    "# mulher_fixed = mulher.reset_index()"
   ]
  },
  {
   "cell_type": "markdown",
   "id": "56a71b16",
   "metadata": {},
   "source": [
    "We can test the hypothesis that two independent unequal-sized samples are drawn from the same distribution with computing the Wilcoxon rank-sum statistic.\n",
    "\n",
    "The p-value of less than 0.05 indicates that this test rejects the hypothesis at the 5% significance level."
   ]
  },
  {
   "cell_type": "markdown",
   "id": "938f22ac",
   "metadata": {},
   "source": [
    "### Analisando a distribuicao (Homens x Mulheres) para nivel Brasil"
   ]
  },
  {
   "cell_type": "code",
   "execution_count": 77,
   "id": "64705ada",
   "metadata": {},
   "outputs": [],
   "source": [
    "mulher_2020 = data[(data['TP_SEXO'] == 'F')]\n",
    "homem_2020 = data[(data['TP_SEXO'] == 'M')]"
   ]
  },
  {
   "cell_type": "code",
   "execution_count": 78,
   "id": "c07f2c83",
   "metadata": {},
   "outputs": [
    {
     "data": {
      "text/html": [
       "<div>\n",
       "<style scoped>\n",
       "    .dataframe tbody tr th:only-of-type {\n",
       "        vertical-align: middle;\n",
       "    }\n",
       "\n",
       "    .dataframe tbody tr th {\n",
       "        vertical-align: top;\n",
       "    }\n",
       "\n",
       "    .dataframe thead th {\n",
       "        text-align: right;\n",
       "    }\n",
       "</style>\n",
       "<table border=\"1\" class=\"dataframe\">\n",
       "  <thead>\n",
       "    <tr style=\"text-align: right;\">\n",
       "      <th></th>\n",
       "      <th>NU_ANO</th>\n",
       "      <th>NO_MUNICIPIO_RESIDENCIA</th>\n",
       "      <th>SG_UF_RESIDENCIA</th>\n",
       "      <th>NU_IDADE</th>\n",
       "      <th>TP_SEXO</th>\n",
       "      <th>TP_ST_CONCLUSAO</th>\n",
       "      <th>TP_ANO_CONCLUIU</th>\n",
       "      <th>TP_ESCOLA</th>\n",
       "      <th>TP_ESTADO_CIVIL</th>\n",
       "      <th>TP_COR_RACA</th>\n",
       "      <th>...</th>\n",
       "      <th>Q018</th>\n",
       "      <th>Q019</th>\n",
       "      <th>Q020</th>\n",
       "      <th>Q021</th>\n",
       "      <th>Q022</th>\n",
       "      <th>Q023</th>\n",
       "      <th>Q024</th>\n",
       "      <th>Q025</th>\n",
       "      <th>TP_SES_INCOME</th>\n",
       "      <th>TP_SES_POINTS</th>\n",
       "    </tr>\n",
       "  </thead>\n",
       "  <tbody>\n",
       "    <tr>\n",
       "      <th>0</th>\n",
       "      <td>2020</td>\n",
       "      <td>Cerro Largo</td>\n",
       "      <td>RS</td>\n",
       "      <td>3</td>\n",
       "      <td>F</td>\n",
       "      <td>1</td>\n",
       "      <td>1</td>\n",
       "      <td>1</td>\n",
       "      <td>1</td>\n",
       "      <td>3</td>\n",
       "      <td>...</td>\n",
       "      <td>A</td>\n",
       "      <td>B</td>\n",
       "      <td>B</td>\n",
       "      <td>A</td>\n",
       "      <td>D</td>\n",
       "      <td>A</td>\n",
       "      <td>B</td>\n",
       "      <td>B</td>\n",
       "      <td>E</td>\n",
       "      <td>DE</td>\n",
       "    </tr>\n",
       "    <tr>\n",
       "      <th>1</th>\n",
       "      <td>2020</td>\n",
       "      <td>João Pessoa</td>\n",
       "      <td>PB</td>\n",
       "      <td>5</td>\n",
       "      <td>F</td>\n",
       "      <td>1</td>\n",
       "      <td>3</td>\n",
       "      <td>1</td>\n",
       "      <td>2</td>\n",
       "      <td>3</td>\n",
       "      <td>...</td>\n",
       "      <td>A</td>\n",
       "      <td>B</td>\n",
       "      <td>A</td>\n",
       "      <td>A</td>\n",
       "      <td>C</td>\n",
       "      <td>A</td>\n",
       "      <td>A</td>\n",
       "      <td>A</td>\n",
       "      <td>E</td>\n",
       "      <td>DE</td>\n",
       "    </tr>\n",
       "    <tr>\n",
       "      <th>3</th>\n",
       "      <td>2020</td>\n",
       "      <td>Maceió</td>\n",
       "      <td>AL</td>\n",
       "      <td>7</td>\n",
       "      <td>F</td>\n",
       "      <td>1</td>\n",
       "      <td>3</td>\n",
       "      <td>1</td>\n",
       "      <td>1</td>\n",
       "      <td>3</td>\n",
       "      <td>...</td>\n",
       "      <td>A</td>\n",
       "      <td>B</td>\n",
       "      <td>B</td>\n",
       "      <td>A</td>\n",
       "      <td>C</td>\n",
       "      <td>A</td>\n",
       "      <td>B</td>\n",
       "      <td>B</td>\n",
       "      <td>E</td>\n",
       "      <td>DE</td>\n",
       "    </tr>\n",
       "    <tr>\n",
       "      <th>5</th>\n",
       "      <td>2020</td>\n",
       "      <td>Cristalândia</td>\n",
       "      <td>TO</td>\n",
       "      <td>6</td>\n",
       "      <td>F</td>\n",
       "      <td>1</td>\n",
       "      <td>3</td>\n",
       "      <td>1</td>\n",
       "      <td>1</td>\n",
       "      <td>3</td>\n",
       "      <td>...</td>\n",
       "      <td>A</td>\n",
       "      <td>B</td>\n",
       "      <td>A</td>\n",
       "      <td>A</td>\n",
       "      <td>C</td>\n",
       "      <td>A</td>\n",
       "      <td>B</td>\n",
       "      <td>A</td>\n",
       "      <td>E</td>\n",
       "      <td>DE</td>\n",
       "    </tr>\n",
       "    <tr>\n",
       "      <th>6</th>\n",
       "      <td>2020</td>\n",
       "      <td>Bragança Paulista</td>\n",
       "      <td>SP</td>\n",
       "      <td>5</td>\n",
       "      <td>F</td>\n",
       "      <td>1</td>\n",
       "      <td>2</td>\n",
       "      <td>1</td>\n",
       "      <td>2</td>\n",
       "      <td>2</td>\n",
       "      <td>...</td>\n",
       "      <td>A</td>\n",
       "      <td>A</td>\n",
       "      <td>A</td>\n",
       "      <td>A</td>\n",
       "      <td>C</td>\n",
       "      <td>A</td>\n",
       "      <td>A</td>\n",
       "      <td>B</td>\n",
       "      <td>E</td>\n",
       "      <td>DE</td>\n",
       "    </tr>\n",
       "  </tbody>\n",
       "</table>\n",
       "<p>5 rows × 51 columns</p>\n",
       "</div>"
      ],
      "text/plain": [
       "   NU_ANO NO_MUNICIPIO_RESIDENCIA SG_UF_RESIDENCIA  NU_IDADE TP_SEXO  \\\n",
       "0    2020             Cerro Largo               RS         3       F   \n",
       "1    2020             João Pessoa               PB         5       F   \n",
       "3    2020                  Maceió               AL         7       F   \n",
       "5    2020            Cristalândia               TO         6       F   \n",
       "6    2020       Bragança Paulista               SP         5       F   \n",
       "\n",
       "   TP_ST_CONCLUSAO  TP_ANO_CONCLUIU  TP_ESCOLA  TP_ESTADO_CIVIL  TP_COR_RACA  \\\n",
       "0                1                1          1                1            3   \n",
       "1                1                3          1                2            3   \n",
       "3                1                3          1                1            3   \n",
       "5                1                3          1                1            3   \n",
       "6                1                2          1                2            2   \n",
       "\n",
       "   ...  Q018  Q019  Q020  Q021  Q022  Q023  Q024  Q025  TP_SES_INCOME  \\\n",
       "0  ...     A     B     B     A     D     A     B     B              E   \n",
       "1  ...     A     B     A     A     C     A     A     A              E   \n",
       "3  ...     A     B     B     A     C     A     B     B              E   \n",
       "5  ...     A     B     A     A     C     A     B     A              E   \n",
       "6  ...     A     A     A     A     C     A     A     B              E   \n",
       "\n",
       "   TP_SES_POINTS  \n",
       "0             DE  \n",
       "1             DE  \n",
       "3             DE  \n",
       "5             DE  \n",
       "6             DE  \n",
       "\n",
       "[5 rows x 51 columns]"
      ]
     },
     "execution_count": 78,
     "metadata": {},
     "output_type": "execute_result"
    }
   ],
   "source": [
    "mulher_2020.head()"
   ]
  },
  {
   "cell_type": "code",
   "execution_count": 79,
   "id": "f542877b",
   "metadata": {},
   "outputs": [
    {
     "data": {
      "text/plain": [
       "<seaborn.axisgrid.FacetGrid at 0x14f7d90a0>"
      ]
     },
     "execution_count": 79,
     "metadata": {},
     "output_type": "execute_result"
    },
    {
     "data": {
      "image/png": "[encoded data removed]",
      "text/plain": [
       "<Figure size 360x360 with 1 Axes>"
      ]
     },
     "metadata": {
      "needs_background": "light"
     },
     "output_type": "display_data"
    }
   ],
   "source": [
    "ax = sns.displot(mulher_2020.NU_NOTA_MT).set(title=\"Notas de matematica por sexo 'F'\")\n",
    "ax.set(xlabel=\"notas de matematica sexo F\", ylabel=\"densidade\")"
   ]
  },
  {
   "cell_type": "code",
   "execution_count": 80,
   "id": "21c82d50",
   "metadata": {},
   "outputs": [
    {
     "data": {
      "text/plain": [
       "<seaborn.axisgrid.FacetGrid at 0x32a0550a0>"
      ]
     },
     "execution_count": 80,
     "metadata": {},
     "output_type": "execute_result"
    },
    {
     "data": {
      "image/png": "[encoded data removed]",
      "text/plain": [
       "<Figure size 360x360 with 1 Axes>"
      ]
     },
     "metadata": {
      "needs_background": "light"
     },
     "output_type": "display_data"
    }
   ],
   "source": [
    "ax = sns.displot(homem_2020.NU_NOTA_MT).set(title=\"Notas de matematica sexo 'M'\")\n",
    "ax.set(xlabel=\"notas de matematica sexo M (PB)\", ylabel=\"densidade\")"
   ]
  },
  {
   "cell_type": "code",
   "execution_count": 81,
   "id": "44bf3333",
   "metadata": {},
   "outputs": [
    {
     "data": {
      "text/plain": [
       "Text(0.5, 1.0, 'Distribuicao das notas no Brasil por sexo em 2020')"
      ]
     },
     "execution_count": 81,
     "metadata": {},
     "output_type": "execute_result"
    },
    {
     "data": {
      "image/png": "[encoded data removed]",
      "text/plain": [
       "<Figure size 432x288 with 1 Axes>"
      ]
     },
     "metadata": {
      "needs_background": "light"
     },
     "output_type": "display_data"
    }
   ],
   "source": [
    "plt.boxplot([mulher_2020.NU_NOTA_MT, homem_2020.NU_NOTA_MT], labels=[\"Notas de matematica F\", \"Notas de matematica M\"])\n",
    "plt.title(\"Distribuicao das notas no Brasil por sexo em 2020\")"
   ]
  },
  {
   "cell_type": "code",
   "execution_count": 82,
   "id": "07b64f68",
   "metadata": {},
   "outputs": [],
   "source": [
    "def testing_normal_distribution(dataset, course):\n",
    "    k2, p = stats.normaltest(dataset[course])\n",
    "    alpha = 0.05\n",
    "    print(\"p = {:g}\".format(p))\n",
    "    if p < alpha:  # null hypothesis: x comes from a normal distribution\n",
    "        print(\"The null hypothesis can be rejected\")\n",
    "    else:\n",
    "        print(\"The null hypothesis cannot be rejected\")"
   ]
  },
  {
   "cell_type": "code",
   "execution_count": 83,
   "id": "2f5fc0c8",
   "metadata": {},
   "outputs": [
    {
     "name": "stdout",
     "output_type": "stream",
     "text": [
      "p = 0\n",
      "The null hypothesis can be rejected\n"
     ]
    }
   ],
   "source": [
    "testing_normal_distribution(mulher_2020, 'NU_NOTA_MT')"
   ]
  },
  {
   "cell_type": "code",
   "execution_count": 84,
   "id": "fbf6fffd",
   "metadata": {},
   "outputs": [
    {
     "name": "stdout",
     "output_type": "stream",
     "text": [
      "p = 0\n",
      "The null hypothesis can be rejected\n"
     ]
    }
   ],
   "source": [
    "testing_normal_distribution(homem_2020, 'NU_NOTA_MT')"
   ]
  },
  {
   "cell_type": "code",
   "execution_count": 85,
   "id": "a613582f",
   "metadata": {},
   "outputs": [
    {
     "name": "stdout",
     "output_type": "stream",
     "text": [
      "0.0\n",
      "-334.63800239315907\n"
     ]
    }
   ],
   "source": [
    "test, p = ranksums(mulher_2020['NU_NOTA_MT'], homem_2020['NU_NOTA_MT'])\n",
    "print(p)\n",
    "print(test)"
   ]
  },
  {
   "cell_type": "markdown",
   "id": "f42c5407",
   "metadata": {},
   "source": [
    "### Fazendo a comparacao por Estados"
   ]
  },
  {
   "cell_type": "markdown",
   "id": "6b8ef1c1",
   "metadata": {},
   "source": [
    "### PB"
   ]
  },
  {
   "cell_type": "code",
   "execution_count": 86,
   "id": "638e4d14",
   "metadata": {},
   "outputs": [],
   "source": [
    "mulher_math_pb = data[(data['TP_SEXO'] == 'F') & (data['SG_UF_RESIDENCIA'] == 'PB')]\n",
    "homem_math_pb = data[(data['TP_SEXO'] == 'M') & (data['SG_UF_RESIDENCIA'] == 'PB')]"
   ]
  },
  {
   "cell_type": "code",
   "execution_count": 87,
   "id": "7296d8f9",
   "metadata": {},
   "outputs": [
    {
     "data": {
      "text/plain": [
       "<seaborn.axisgrid.FacetGrid at 0x16c5c1040>"
      ]
     },
     "execution_count": 87,
     "metadata": {},
     "output_type": "execute_result"
    },
    {
     "data": {
      "image/png": "[encoded data removed]",
      "text/plain": [
       "<Figure size 360x360 with 1 Axes>"
      ]
     },
     "metadata": {
      "needs_background": "light"
     },
     "output_type": "display_data"
    }
   ],
   "source": [
    "ax = sns.displot(mulher_math_pb.NU_NOTA_MT).set(title=\"Notas de matematica (PB) sexo 'F'\")\n",
    "ax.set(xlabel=\"notas de matematica sexo F (PB)\", ylabel=\"densidade\")"
   ]
  },
  {
   "cell_type": "code",
   "execution_count": 88,
   "id": "80585ad4",
   "metadata": {},
   "outputs": [
    {
     "data": {
      "text/plain": [
       "<seaborn.axisgrid.FacetGrid at 0x14f45b0a0>"
      ]
     },
     "execution_count": 88,
     "metadata": {},
     "output_type": "execute_result"
    },
    {
     "data": {
      "image/png": "[encoded data removed]",
      "text/plain": [
       "<Figure size 360x360 with 1 Axes>"
      ]
     },
     "metadata": {
      "needs_background": "light"
     },
     "output_type": "display_data"
    }
   ],
   "source": [
    "ax = sns.displot(homem_math_pb.NU_NOTA_MT).set(title=\"Notas de matematica (PB) sexo 'M'\")\n",
    "ax.set(xlabel=\"notas de matematica sexo M (PB)\", ylabel=\"densidade\")"
   ]
  },
  {
   "cell_type": "code",
   "execution_count": 89,
   "id": "ca868539",
   "metadata": {},
   "outputs": [
    {
     "data": {
      "text/plain": [
       "Text(0.5, 1.0, 'Distribuicao das notas na PB por sexo')"
      ]
     },
     "execution_count": 89,
     "metadata": {},
     "output_type": "execute_result"
    },
    {
     "data": {
      "image/png": "[encoded data removed]",
      "text/plain": [
       "<Figure size 432x288 with 1 Axes>"
      ]
     },
     "metadata": {
      "needs_background": "light"
     },
     "output_type": "display_data"
    }
   ],
   "source": [
    "plt.boxplot([mulher_math_pb.NU_NOTA_MT, homem_math_pb.NU_NOTA_MT], labels=[\"NOtas math mulheres\", \"notas math homens\"])\n",
    "plt.title(\"Distribuicao das notas na PB por sexo\")"
   ]
  },
  {
   "cell_type": "markdown",
   "id": "9a2bb091",
   "metadata": {},
   "source": [
    "Testando se veio de uma distribuicao normal"
   ]
  },
  {
   "cell_type": "code",
   "execution_count": 90,
   "id": "97e760ca",
   "metadata": {},
   "outputs": [
    {
     "name": "stdout",
     "output_type": "stream",
     "text": [
      "p = 0\n",
      "The null hypothesis can be rejected\n"
     ]
    }
   ],
   "source": [
    "testing_normal_distribution(mulher_math_pb, 'NU_NOTA_MT')"
   ]
  },
  {
   "cell_type": "code",
   "execution_count": 91,
   "id": "dbbb2308",
   "metadata": {},
   "outputs": [
    {
     "name": "stdout",
     "output_type": "stream",
     "text": [
      "p = 1.40324e-270\n",
      "The null hypothesis can be rejected\n"
     ]
    }
   ],
   "source": [
    "testing_normal_distribution(homem_math_pb, 'NU_NOTA_MT')"
   ]
  },
  {
   "cell_type": "markdown",
   "id": "dd3257ef",
   "metadata": {},
   "source": [
    "Como o p_value eh menor que 0.05 The null hypothesis can be rejected. Deve-se usar um teste nao parametrico, como, por exemplo, o runksums que 'e o teste Wilcoxon baseado em ranqueamento."
   ]
  },
  {
   "cell_type": "code",
   "execution_count": 92,
   "id": "4c374f8b",
   "metadata": {},
   "outputs": [
    {
     "name": "stdout",
     "output_type": "stream",
     "text": [
      "0.0\n",
      "-65.51699380477623\n"
     ]
    }
   ],
   "source": [
    "test, p = ranksums(mulher_math_pb['NU_NOTA_MT'], homem_math_pb['NU_NOTA_MT'])\n",
    "print(p)\n",
    "print(test)"
   ]
  },
  {
   "cell_type": "markdown",
   "id": "936beb77",
   "metadata": {},
   "source": [
    "Como o p_value 'e menor que 0.05, os valores de uma amostra (notas de matematica do sexo M) tem uma tendencia de serem maiores que os da outra amostra ((notas de matematica do sexo M)). Ou seja, as notas de matematica do sexo M em geral sao maiores que notas de matematica do sexo F."
   ]
  },
  {
   "cell_type": "markdown",
   "id": "0a4d88e0",
   "metadata": {},
   "source": [
    "Uma distribuicao tem valores maiores que a outra distribuicao"
   ]
  },
  {
   "cell_type": "markdown",
   "id": "a7c57266",
   "metadata": {},
   "source": [
    "### Making the analises for all Brazilian states"
   ]
  },
  {
   "cell_type": "markdown",
   "id": "4b47515f",
   "metadata": {},
   "source": [
    "Creating a list of all Brazilian states"
   ]
  },
  {
   "cell_type": "code",
   "execution_count": 93,
   "id": "c0cf3cb8",
   "metadata": {},
   "outputs": [],
   "source": [
    "states = list(data['SG_UF_RESIDENCIA'].unique())"
   ]
  },
  {
   "cell_type": "code",
   "execution_count": 94,
   "id": "fe08840f",
   "metadata": {},
   "outputs": [
    {
     "data": {
      "text/plain": [
       "['RS',\n",
       " 'PB',\n",
       " 'BA',\n",
       " 'AL',\n",
       " 'PA',\n",
       " 'TO',\n",
       " 'SP',\n",
       " 'CE',\n",
       " 'AM',\n",
       " 'SE',\n",
       " 'MG',\n",
       " 'MA',\n",
       " 'PI',\n",
       " 'PE',\n",
       " 'MT',\n",
       " 'RJ',\n",
       " 'GO',\n",
       " 'RN',\n",
       " 'ES',\n",
       " 'AP',\n",
       " 'DF',\n",
       " 'SC',\n",
       " 'PR',\n",
       " 'RR',\n",
       " 'RO',\n",
       " 'MS',\n",
       " 'AC']"
      ]
     },
     "execution_count": 94,
     "metadata": {},
     "output_type": "execute_result"
    }
   ],
   "source": [
    "states"
   ]
  },
  {
   "cell_type": "markdown",
   "id": "d4a6d609",
   "metadata": {},
   "source": [
    "Testing normal distribution for math grades (male and female) for all Brazilian states to decide which statistical test would be suitable"
   ]
  },
  {
   "cell_type": "code",
   "execution_count": 95,
   "id": "b35ad1b1",
   "metadata": {},
   "outputs": [],
   "source": [
    "# for state in states:\n",
    "#     print(state)\n",
    "#     mulher_state = mulher_2020[mulher_2020['SG_UF_RESIDENCIA'] == state]\n",
    "#     homem_state = homem_2020[homem_2020['SG_UF_RESIDENCIA'] == state]\n",
    "#     print('Testing normal distribution for F')\n",
    "#     testing_normal_distribution(mulher_state, 'NU_NOTA_MT')\n",
    "#     print('Testing normal distribution for M')\n",
    "#     testing_normal_distribution(homem_state, 'NU_NOTA_MT')"
   ]
  },
  {
   "cell_type": "code",
   "execution_count": 96,
   "id": "d2478ec6",
   "metadata": {},
   "outputs": [],
   "source": [
    "def ploting_distribution_female_male_per_state(state, course):\n",
    "    dataset_women = mulher_2020[mulher_2020['SG_UF_RESIDENCIA'] == state]\n",
    "    dataset_man = homem_2020[homem_2020['SG_UF_RESIDENCIA'] == state]\n",
    "    fig, (ax1, ax2) = plt.subplots(ncols=2, sharey=True)\n",
    "    ax1 = sns.histplot(dataset_women[course], ax=ax1).set(title=\"Math grades distribution 'W'\", xlabel='Math grades W', ylabel='density')\n",
    "    ax2 = sns.histplot(dataset_man[course], ax=ax2).set(title=\"Math grades distribution 'M'\",  xlabel='Math grades M', ylabel='density')\n",
    "    plt.show()"
   ]
  },
  {
   "cell_type": "code",
   "execution_count": 97,
   "id": "75e9b4d3",
   "metadata": {},
   "outputs": [],
   "source": [
    "def results_ranksum_per_state(state, course):\n",
    "    dataset_women = mulher_2020[mulher_2020['SG_UF_RESIDENCIA'] == state]\n",
    "    dataset_man = homem_2020[homem_2020['SG_UF_RESIDENCIA'] == state]\n",
    "    test, p = ranksums(dataset_women[course], dataset_man[course])\n",
    "    print(f'p:', p, f'test:', test)"
   ]
  },
  {
   "cell_type": "code",
   "execution_count": 98,
   "id": "350e6818",
   "metadata": {},
   "outputs": [],
   "source": [
    "def plot_distribution_ranksum_per_state(state, course):\n",
    "    print(state)\n",
    "    ploting_distribution_female_male_per_state(state, course)\n",
    "    results_ranksum_per_state(state, course)"
   ]
  },
  {
   "cell_type": "code",
   "execution_count": 99,
   "id": "90a84bca",
   "metadata": {},
   "outputs": [
    {
     "name": "stdout",
     "output_type": "stream",
     "text": [
      "PB\n"
     ]
    },
    {
     "data": {
      "image/png": "[encoded data removed]",
      "text/plain": [
       "<Figure size 432x288 with 2 Axes>"
      ]
     },
     "metadata": {
      "needs_background": "light"
     },
     "output_type": "display_data"
    },
    {
     "name": "stdout",
     "output_type": "stream",
     "text": [
      "p: 0.0 test: -65.51699380477623\n"
     ]
    }
   ],
   "source": [
    "plot_distribution_ranksum_per_state('PB', 'NU_NOTA_MT')"
   ]
  },
  {
   "cell_type": "markdown",
   "id": "7c332267",
   "metadata": {},
   "source": [
    "Ploting distribution for all Brazilian states plus the ranksum test"
   ]
  },
  {
   "cell_type": "code",
   "execution_count": 100,
   "id": "c7fe13ff",
   "metadata": {},
   "outputs": [],
   "source": [
    "# def plot_distribution_ranksum_all_states(state, course):\n",
    "#     for state in states:\n",
    "#         print(state)\n",
    "#         ploting_distribution_female_male_per_state(state, course)\n",
    "#         results_ranksum_per_state(state, course)"
   ]
  },
  {
   "cell_type": "code",
   "execution_count": 101,
   "id": "467c4f45",
   "metadata": {},
   "outputs": [],
   "source": [
    "# plot_distribution_ranksum_all_states(list(data['SG_UF_RESIDENCIA'].unique()), 'NU_NOTA_MT')"
   ]
  },
  {
   "cell_type": "markdown",
   "id": "ff705a07",
   "metadata": {},
   "source": [
    "RS\n",
    "p: 0.0 test: -73.20768543730672\n",
    "\n",
    "\n",
    "PB\n",
    "p: 0.0 test: -65.51699380477623\n"
   ]
  }
 ],
 "metadata": {
  "kernelspec": {
   "display_name": "Python 3.9.4 64-bit ('venem')",
   "language": "python",
   "name": "python3"
  },
  "language_info": {
   "codemirror_mode": {
    "name": "ipython",
    "version": 3
   },
   "file_extension": ".py",
   "mimetype": "text/x-python",
   "name": "python",
   "nbconvert_exporter": "python",
   "pygments_lexer": "ipython3",
   "version": "3.9.4"
  },
  "vscode": {
   "interpreter": {
    "hash": "0af81f0b5e3305cf8a5a2df6ff4f40f4541212b9c0f5152f541cbf6ef9ee247a"
   }
  }
 },
 "nbformat": 4,
 "nbformat_minor": 5
}
