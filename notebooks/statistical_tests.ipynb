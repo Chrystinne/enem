{
 "cells": [
  {
   "cell_type": "code",
   "execution_count": 13,
   "id": "bfbdb580",
   "metadata": {},
   "outputs": [],
   "source": [
    "import dask.dataframe as dd\n",
    "import pandas as pd\n",
    "from random import choices\n",
    "from scipy import stats "
   ]
  },
  {
   "cell_type": "code",
   "execution_count": 2,
   "id": "076e74c0",
   "metadata": {},
   "outputs": [],
   "source": [
    "path = f'../datasets/integrated_datas_2020.parquet.gzip'\n",
    "\n",
    "df_2020 = dd.read_parquet(path, ignore_metadata_file=True)"
   ]
  },
  {
   "cell_type": "code",
   "execution_count": 6,
   "id": "b29791b4",
   "metadata": {},
   "outputs": [],
   "source": [
    "def select_sample(year, uf):\n",
    "    path = f'../datasets/integrated_datas_{year}.parquet.gzip'\n",
    "    df = dd.read_parquet(path, ignore_metadata_file=True)\n",
    "    \n",
    "    women = df[(df['TP_SEXO'] == 'F') & (df['NU_IDADE'] == 2) & (df['SG_UF_RESIDENCIA'] == uf)]\n",
    "    man = df[(df['TP_SEXO'] == 'M') & (df['NU_IDADE'] == 2) & (df['SG_UF_RESIDENCIA'] == uf)]\n",
    "    \n",
    "    # sorted index\n",
    "    ids_women = sorted(choices(range(len(women)), k=5000))\n",
    "    ids_man = sorted(choices(range(len(man)), k=5000))\n",
    "    \n",
    "    women_sample = women.compute().iloc[ids_women]\n",
    "    man_sample = man.compute().iloc[ids_man]\n",
    "    \n",
    "    return women_sample, man_sample"
   ]
  },
  {
   "cell_type": "code",
   "execution_count": 7,
   "id": "f8e46936",
   "metadata": {},
   "outputs": [
    {
     "name": "stdout",
     "output_type": "stream",
     "text": [
      "Wall time: 38.7 s\n"
     ]
    }
   ],
   "source": [
    "%%time\n",
    "\n",
    "women_ce, man_ce = select_sample(2020, 'CE')"
   ]
  },
  {
   "cell_type": "code",
   "execution_count": 10,
   "id": "e394f86f",
   "metadata": {},
   "outputs": [
    {
     "data": {
      "text/plain": [
       "ShapiroResult(statistic=0.9512751698493958, pvalue=7.00159282167342e-38)"
      ]
     },
     "execution_count": 10,
     "metadata": {},
     "output_type": "execute_result"
    }
   ],
   "source": [
    "stats.shapiro(women_ce['NU_NOTA_MT'])"
   ]
  },
  {
   "cell_type": "code",
   "execution_count": 17,
   "id": "ed0be6bd",
   "metadata": {},
   "outputs": [
    {
     "name": "stdout",
     "output_type": "stream",
     "text": [
      "Wall time: 17min 53s\n"
     ]
    }
   ],
   "source": [
    "%%time\n",
    "\n",
    "ufs = df_2020['SG_UF_RESIDENCIA'].unique().compute()\n",
    "tests = pd.DataFrame([], columns=['year', 'uf', 'shapiro_w', 'shapiro_m', 'ttest'])\n",
    "\n",
    "\n",
    "for uf in ufs:\n",
    "    w_sample, m_sample = select_sample(2020, uf)\n",
    "    \n",
    "    shp_w = stats.shapiro(w_sample['NU_NOTA_MT'])\n",
    "    shp_m = stats.shapiro(m_sample['NU_NOTA_MT'])\n",
    "    ttest_ = stats.ttest_ind(w_sample['NU_NOTA_MT'], m_sample['NU_NOTA_MT'])\n",
    "    \n",
    "    tests = tests.append([{'ano': 2020, 'estado': uf, 'shapiro_w': shp_w, 'shapiro_m': shp_m, 'ttest': ttest_}], ignore_index=True)\n",
    "    "
   ]
  },
  {
   "cell_type": "code",
   "execution_count": 15,
   "id": "43a03102",
   "metadata": {},
   "outputs": [
    {
     "data": {
      "text/html": [
       "<div>\n",
       "<style scoped>\n",
       "    .dataframe tbody tr th:only-of-type {\n",
       "        vertical-align: middle;\n",
       "    }\n",
       "\n",
       "    .dataframe tbody tr th {\n",
       "        vertical-align: top;\n",
       "    }\n",
       "\n",
       "    .dataframe thead th {\n",
       "        text-align: right;\n",
       "    }\n",
       "</style>\n",
       "<table border=\"1\" class=\"dataframe\">\n",
       "  <thead>\n",
       "    <tr style=\"text-align: right;\">\n",
       "      <th></th>\n",
       "      <th>ano</th>\n",
       "      <th>estado</th>\n",
       "      <th>shapiro_w</th>\n",
       "      <th>shapiro_m</th>\n",
       "      <th>ttest</th>\n",
       "    </tr>\n",
       "  </thead>\n",
       "  <tbody>\n",
       "    <tr>\n",
       "      <th>0</th>\n",
       "      <td>2020</td>\n",
       "      <td>RS</td>\n",
       "      <td>(0.988560140132904, 1.0299667831537581e-19)</td>\n",
       "      <td>(0.9950118660926819, 4.18360918824634e-12)</td>\n",
       "      <td>(-27.80409114599032, 5.993860345060439e-164)</td>\n",
       "    </tr>\n",
       "    <tr>\n",
       "      <th>1</th>\n",
       "      <td>2020</td>\n",
       "      <td>PB</td>\n",
       "      <td>(0.9512351155281067, 6.809578498300848e-38)</td>\n",
       "      <td>(0.9864070415496826, 1.5031625651870745e-21)</td>\n",
       "      <td>(-25.920427568365174, 1.9967592958354716e-143)</td>\n",
       "    </tr>\n",
       "    <tr>\n",
       "      <th>2</th>\n",
       "      <td>2020</td>\n",
       "      <td>BA</td>\n",
       "      <td>(0.9528319835662842, 2.0920552019523553e-37)</td>\n",
       "      <td>(0.9881572127342224, 4.480981811689521e-20)</td>\n",
       "      <td>(-29.84100287835722, 1.6236670118889494e-187)</td>\n",
       "    </tr>\n",
       "    <tr>\n",
       "      <th>3</th>\n",
       "      <td>2020</td>\n",
       "      <td>AL</td>\n",
       "      <td>(0.9494891166687012, 2.0630106568381105e-38)</td>\n",
       "      <td>(0.9827902317047119, 3.333153078016353e-24)</td>\n",
       "      <td>(-25.10293372043569, 6.563479714640053e-135)</td>\n",
       "    </tr>\n",
       "    <tr>\n",
       "      <th>4</th>\n",
       "      <td>2020</td>\n",
       "      <td>PA</td>\n",
       "      <td>(0.9518539905548096, 1.048392208056818e-37)</td>\n",
       "      <td>(0.9769991636276245, 1.0809822036222762e-27)</td>\n",
       "      <td>(-25.510189651057008, 4.018865099243244e-139)</td>\n",
       "    </tr>\n",
       "    <tr>\n",
       "      <th>5</th>\n",
       "      <td>2020</td>\n",
       "      <td>TO</td>\n",
       "      <td>(0.9497838616371155, 2.5179520123704126e-38)</td>\n",
       "      <td>(0.9790095090866089, 1.4486009958456902e-26)</td>\n",
       "      <td>(-24.242337087997345, 3.337690040534875e-126)</td>\n",
       "    </tr>\n",
       "  </tbody>\n",
       "</table>\n",
       "</div>"
      ],
      "text/plain": [
       "    ano estado                                     shapiro_w  \\\n",
       "0  2020     RS   (0.988560140132904, 1.0299667831537581e-19)   \n",
       "1  2020     PB   (0.9512351155281067, 6.809578498300848e-38)   \n",
       "2  2020     BA  (0.9528319835662842, 2.0920552019523553e-37)   \n",
       "3  2020     AL  (0.9494891166687012, 2.0630106568381105e-38)   \n",
       "4  2020     PA   (0.9518539905548096, 1.048392208056818e-37)   \n",
       "5  2020     TO  (0.9497838616371155, 2.5179520123704126e-38)   \n",
       "\n",
       "                                      shapiro_m  \\\n",
       "0    (0.9950118660926819, 4.18360918824634e-12)   \n",
       "1  (0.9864070415496826, 1.5031625651870745e-21)   \n",
       "2   (0.9881572127342224, 4.480981811689521e-20)   \n",
       "3   (0.9827902317047119, 3.333153078016353e-24)   \n",
       "4  (0.9769991636276245, 1.0809822036222762e-27)   \n",
       "5  (0.9790095090866089, 1.4486009958456902e-26)   \n",
       "\n",
       "                                            ttest  \n",
       "0    (-27.80409114599032, 5.993860345060439e-164)  \n",
       "1  (-25.920427568365174, 1.9967592958354716e-143)  \n",
       "2   (-29.84100287835722, 1.6236670118889494e-187)  \n",
       "3    (-25.10293372043569, 6.563479714640053e-135)  \n",
       "4   (-25.510189651057008, 4.018865099243244e-139)  \n",
       "5   (-24.242337087997345, 3.337690040534875e-126)  "
      ]
     },
     "execution_count": 15,
     "metadata": {},
     "output_type": "execute_result"
    }
   ],
   "source": [
    "tests"
   ]
  },
  {
   "cell_type": "code",
   "execution_count": 16,
   "id": "2c3dd78b",
   "metadata": {},
   "outputs": [],
   "source": [
    "tests.to_csv('tests.csv')"
   ]
  }
 ],
 "metadata": {
  "kernelspec": {
   "display_name": "Python 3 (ipykernel)",
   "language": "python",
   "name": "python3"
  },
  "language_info": {
   "codemirror_mode": {
    "name": "ipython",
    "version": 3
   },
   "file_extension": ".py",
   "mimetype": "text/x-python",
   "name": "python",
   "nbconvert_exporter": "python",
   "pygments_lexer": "ipython3",
   "version": "3.9.7"
  }
 },
 "nbformat": 4,
 "nbformat_minor": 5
}
